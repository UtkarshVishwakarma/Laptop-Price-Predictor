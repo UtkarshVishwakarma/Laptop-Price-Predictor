{
 "cells": [
  {
   "cell_type": "code",
   "execution_count": 1,
   "id": "7f6d8c32",
   "metadata": {},
   "outputs": [],
   "source": [
    "import pandas as pd\n",
    "import numpy as np\n",
    "import matplotlib.pyplot as plt\n",
    "import seaborn as sns\n",
    "import missingno as msno\n",
    "import warnings\n",
    "warnings.filterwarnings('ignore')"
   ]
  },
  {
   "cell_type": "code",
   "execution_count": 2,
   "id": "16da7e05",
   "metadata": {
    "scrolled": true
   },
   "outputs": [],
   "source": [
    "df = pd.read_csv('https://raw.githubusercontent.com/campusx-official/laptop-price-predictor-regression-project/main/laptop_data.csv')"
   ]
  },
  {
   "cell_type": "code",
   "execution_count": 3,
   "id": "a8ba442f",
   "metadata": {},
   "outputs": [
    {
     "data": {
      "text/html": [
       "<div>\n",
       "<style scoped>\n",
       "    .dataframe tbody tr th:only-of-type {\n",
       "        vertical-align: middle;\n",
       "    }\n",
       "\n",
       "    .dataframe tbody tr th {\n",
       "        vertical-align: top;\n",
       "    }\n",
       "\n",
       "    .dataframe thead th {\n",
       "        text-align: right;\n",
       "    }\n",
       "</style>\n",
       "<table border=\"1\" class=\"dataframe\">\n",
       "  <thead>\n",
       "    <tr style=\"text-align: right;\">\n",
       "      <th></th>\n",
       "      <th>Unnamed: 0</th>\n",
       "      <th>Company</th>\n",
       "      <th>TypeName</th>\n",
       "      <th>Inches</th>\n",
       "      <th>ScreenResolution</th>\n",
       "      <th>Cpu</th>\n",
       "      <th>Ram</th>\n",
       "      <th>Memory</th>\n",
       "      <th>Gpu</th>\n",
       "      <th>OpSys</th>\n",
       "      <th>Weight</th>\n",
       "      <th>Price</th>\n",
       "    </tr>\n",
       "  </thead>\n",
       "  <tbody>\n",
       "    <tr>\n",
       "      <th>0</th>\n",
       "      <td>0</td>\n",
       "      <td>Apple</td>\n",
       "      <td>Ultrabook</td>\n",
       "      <td>13.3</td>\n",
       "      <td>IPS Panel Retina Display 2560x1600</td>\n",
       "      <td>Intel Core i5 2.3GHz</td>\n",
       "      <td>8GB</td>\n",
       "      <td>128GB SSD</td>\n",
       "      <td>Intel Iris Plus Graphics 640</td>\n",
       "      <td>macOS</td>\n",
       "      <td>1.37kg</td>\n",
       "      <td>71378.6832</td>\n",
       "    </tr>\n",
       "    <tr>\n",
       "      <th>1</th>\n",
       "      <td>1</td>\n",
       "      <td>Apple</td>\n",
       "      <td>Ultrabook</td>\n",
       "      <td>13.3</td>\n",
       "      <td>1440x900</td>\n",
       "      <td>Intel Core i5 1.8GHz</td>\n",
       "      <td>8GB</td>\n",
       "      <td>128GB Flash Storage</td>\n",
       "      <td>Intel HD Graphics 6000</td>\n",
       "      <td>macOS</td>\n",
       "      <td>1.34kg</td>\n",
       "      <td>47895.5232</td>\n",
       "    </tr>\n",
       "    <tr>\n",
       "      <th>2</th>\n",
       "      <td>2</td>\n",
       "      <td>HP</td>\n",
       "      <td>Notebook</td>\n",
       "      <td>15.6</td>\n",
       "      <td>Full HD 1920x1080</td>\n",
       "      <td>Intel Core i5 7200U 2.5GHz</td>\n",
       "      <td>8GB</td>\n",
       "      <td>256GB SSD</td>\n",
       "      <td>Intel HD Graphics 620</td>\n",
       "      <td>No OS</td>\n",
       "      <td>1.86kg</td>\n",
       "      <td>30636.0000</td>\n",
       "    </tr>\n",
       "    <tr>\n",
       "      <th>3</th>\n",
       "      <td>3</td>\n",
       "      <td>Apple</td>\n",
       "      <td>Ultrabook</td>\n",
       "      <td>15.4</td>\n",
       "      <td>IPS Panel Retina Display 2880x1800</td>\n",
       "      <td>Intel Core i7 2.7GHz</td>\n",
       "      <td>16GB</td>\n",
       "      <td>512GB SSD</td>\n",
       "      <td>AMD Radeon Pro 455</td>\n",
       "      <td>macOS</td>\n",
       "      <td>1.83kg</td>\n",
       "      <td>135195.3360</td>\n",
       "    </tr>\n",
       "    <tr>\n",
       "      <th>4</th>\n",
       "      <td>4</td>\n",
       "      <td>Apple</td>\n",
       "      <td>Ultrabook</td>\n",
       "      <td>13.3</td>\n",
       "      <td>IPS Panel Retina Display 2560x1600</td>\n",
       "      <td>Intel Core i5 3.1GHz</td>\n",
       "      <td>8GB</td>\n",
       "      <td>256GB SSD</td>\n",
       "      <td>Intel Iris Plus Graphics 650</td>\n",
       "      <td>macOS</td>\n",
       "      <td>1.37kg</td>\n",
       "      <td>96095.8080</td>\n",
       "    </tr>\n",
       "  </tbody>\n",
       "</table>\n",
       "</div>"
      ],
      "text/plain": [
       "   Unnamed: 0 Company   TypeName  Inches                    ScreenResolution  \\\n",
       "0           0   Apple  Ultrabook    13.3  IPS Panel Retina Display 2560x1600   \n",
       "1           1   Apple  Ultrabook    13.3                            1440x900   \n",
       "2           2      HP   Notebook    15.6                   Full HD 1920x1080   \n",
       "3           3   Apple  Ultrabook    15.4  IPS Panel Retina Display 2880x1800   \n",
       "4           4   Apple  Ultrabook    13.3  IPS Panel Retina Display 2560x1600   \n",
       "\n",
       "                          Cpu   Ram               Memory  \\\n",
       "0        Intel Core i5 2.3GHz   8GB            128GB SSD   \n",
       "1        Intel Core i5 1.8GHz   8GB  128GB Flash Storage   \n",
       "2  Intel Core i5 7200U 2.5GHz   8GB            256GB SSD   \n",
       "3        Intel Core i7 2.7GHz  16GB            512GB SSD   \n",
       "4        Intel Core i5 3.1GHz   8GB            256GB SSD   \n",
       "\n",
       "                            Gpu  OpSys  Weight        Price  \n",
       "0  Intel Iris Plus Graphics 640  macOS  1.37kg   71378.6832  \n",
       "1        Intel HD Graphics 6000  macOS  1.34kg   47895.5232  \n",
       "2         Intel HD Graphics 620  No OS  1.86kg   30636.0000  \n",
       "3            AMD Radeon Pro 455  macOS  1.83kg  135195.3360  \n",
       "4  Intel Iris Plus Graphics 650  macOS  1.37kg   96095.8080  "
      ]
     },
     "execution_count": 3,
     "metadata": {},
     "output_type": "execute_result"
    }
   ],
   "source": [
    "df.head()"
   ]
  },
  {
   "cell_type": "code",
   "execution_count": 4,
   "id": "c62118c2",
   "metadata": {},
   "outputs": [],
   "source": [
    "df = df.iloc[:, 1:]"
   ]
  },
  {
   "cell_type": "code",
   "execution_count": 5,
   "id": "68f61c47",
   "metadata": {},
   "outputs": [
    {
     "data": {
      "text/html": [
       "<div>\n",
       "<style scoped>\n",
       "    .dataframe tbody tr th:only-of-type {\n",
       "        vertical-align: middle;\n",
       "    }\n",
       "\n",
       "    .dataframe tbody tr th {\n",
       "        vertical-align: top;\n",
       "    }\n",
       "\n",
       "    .dataframe thead th {\n",
       "        text-align: right;\n",
       "    }\n",
       "</style>\n",
       "<table border=\"1\" class=\"dataframe\">\n",
       "  <thead>\n",
       "    <tr style=\"text-align: right;\">\n",
       "      <th></th>\n",
       "      <th>Company</th>\n",
       "      <th>TypeName</th>\n",
       "      <th>Inches</th>\n",
       "      <th>ScreenResolution</th>\n",
       "      <th>Cpu</th>\n",
       "      <th>Ram</th>\n",
       "      <th>Memory</th>\n",
       "      <th>Gpu</th>\n",
       "      <th>OpSys</th>\n",
       "      <th>Weight</th>\n",
       "      <th>Price</th>\n",
       "    </tr>\n",
       "  </thead>\n",
       "  <tbody>\n",
       "    <tr>\n",
       "      <th>0</th>\n",
       "      <td>Apple</td>\n",
       "      <td>Ultrabook</td>\n",
       "      <td>13.3</td>\n",
       "      <td>IPS Panel Retina Display 2560x1600</td>\n",
       "      <td>Intel Core i5 2.3GHz</td>\n",
       "      <td>8GB</td>\n",
       "      <td>128GB SSD</td>\n",
       "      <td>Intel Iris Plus Graphics 640</td>\n",
       "      <td>macOS</td>\n",
       "      <td>1.37kg</td>\n",
       "      <td>71378.6832</td>\n",
       "    </tr>\n",
       "    <tr>\n",
       "      <th>1</th>\n",
       "      <td>Apple</td>\n",
       "      <td>Ultrabook</td>\n",
       "      <td>13.3</td>\n",
       "      <td>1440x900</td>\n",
       "      <td>Intel Core i5 1.8GHz</td>\n",
       "      <td>8GB</td>\n",
       "      <td>128GB Flash Storage</td>\n",
       "      <td>Intel HD Graphics 6000</td>\n",
       "      <td>macOS</td>\n",
       "      <td>1.34kg</td>\n",
       "      <td>47895.5232</td>\n",
       "    </tr>\n",
       "    <tr>\n",
       "      <th>2</th>\n",
       "      <td>HP</td>\n",
       "      <td>Notebook</td>\n",
       "      <td>15.6</td>\n",
       "      <td>Full HD 1920x1080</td>\n",
       "      <td>Intel Core i5 7200U 2.5GHz</td>\n",
       "      <td>8GB</td>\n",
       "      <td>256GB SSD</td>\n",
       "      <td>Intel HD Graphics 620</td>\n",
       "      <td>No OS</td>\n",
       "      <td>1.86kg</td>\n",
       "      <td>30636.0000</td>\n",
       "    </tr>\n",
       "    <tr>\n",
       "      <th>3</th>\n",
       "      <td>Apple</td>\n",
       "      <td>Ultrabook</td>\n",
       "      <td>15.4</td>\n",
       "      <td>IPS Panel Retina Display 2880x1800</td>\n",
       "      <td>Intel Core i7 2.7GHz</td>\n",
       "      <td>16GB</td>\n",
       "      <td>512GB SSD</td>\n",
       "      <td>AMD Radeon Pro 455</td>\n",
       "      <td>macOS</td>\n",
       "      <td>1.83kg</td>\n",
       "      <td>135195.3360</td>\n",
       "    </tr>\n",
       "    <tr>\n",
       "      <th>4</th>\n",
       "      <td>Apple</td>\n",
       "      <td>Ultrabook</td>\n",
       "      <td>13.3</td>\n",
       "      <td>IPS Panel Retina Display 2560x1600</td>\n",
       "      <td>Intel Core i5 3.1GHz</td>\n",
       "      <td>8GB</td>\n",
       "      <td>256GB SSD</td>\n",
       "      <td>Intel Iris Plus Graphics 650</td>\n",
       "      <td>macOS</td>\n",
       "      <td>1.37kg</td>\n",
       "      <td>96095.8080</td>\n",
       "    </tr>\n",
       "  </tbody>\n",
       "</table>\n",
       "</div>"
      ],
      "text/plain": [
       "  Company   TypeName  Inches                    ScreenResolution  \\\n",
       "0   Apple  Ultrabook    13.3  IPS Panel Retina Display 2560x1600   \n",
       "1   Apple  Ultrabook    13.3                            1440x900   \n",
       "2      HP   Notebook    15.6                   Full HD 1920x1080   \n",
       "3   Apple  Ultrabook    15.4  IPS Panel Retina Display 2880x1800   \n",
       "4   Apple  Ultrabook    13.3  IPS Panel Retina Display 2560x1600   \n",
       "\n",
       "                          Cpu   Ram               Memory  \\\n",
       "0        Intel Core i5 2.3GHz   8GB            128GB SSD   \n",
       "1        Intel Core i5 1.8GHz   8GB  128GB Flash Storage   \n",
       "2  Intel Core i5 7200U 2.5GHz   8GB            256GB SSD   \n",
       "3        Intel Core i7 2.7GHz  16GB            512GB SSD   \n",
       "4        Intel Core i5 3.1GHz   8GB            256GB SSD   \n",
       "\n",
       "                            Gpu  OpSys  Weight        Price  \n",
       "0  Intel Iris Plus Graphics 640  macOS  1.37kg   71378.6832  \n",
       "1        Intel HD Graphics 6000  macOS  1.34kg   47895.5232  \n",
       "2         Intel HD Graphics 620  No OS  1.86kg   30636.0000  \n",
       "3            AMD Radeon Pro 455  macOS  1.83kg  135195.3360  \n",
       "4  Intel Iris Plus Graphics 650  macOS  1.37kg   96095.8080  "
      ]
     },
     "execution_count": 5,
     "metadata": {},
     "output_type": "execute_result"
    }
   ],
   "source": [
    "df.head()"
   ]
  },
  {
   "cell_type": "code",
   "execution_count": 6,
   "id": "b6f7b44e",
   "metadata": {},
   "outputs": [
    {
     "name": "stdout",
     "output_type": "stream",
     "text": [
      "<class 'pandas.core.frame.DataFrame'>\n",
      "RangeIndex: 1303 entries, 0 to 1302\n",
      "Data columns (total 11 columns):\n",
      " #   Column            Non-Null Count  Dtype  \n",
      "---  ------            --------------  -----  \n",
      " 0   Company           1303 non-null   object \n",
      " 1   TypeName          1303 non-null   object \n",
      " 2   Inches            1303 non-null   float64\n",
      " 3   ScreenResolution  1303 non-null   object \n",
      " 4   Cpu               1303 non-null   object \n",
      " 5   Ram               1303 non-null   object \n",
      " 6   Memory            1303 non-null   object \n",
      " 7   Gpu               1303 non-null   object \n",
      " 8   OpSys             1303 non-null   object \n",
      " 9   Weight            1303 non-null   object \n",
      " 10  Price             1303 non-null   float64\n",
      "dtypes: float64(2), object(9)\n",
      "memory usage: 112.1+ KB\n"
     ]
    }
   ],
   "source": [
    "df.info()"
   ]
  },
  {
   "cell_type": "code",
   "execution_count": 7,
   "id": "4336e32a",
   "metadata": {},
   "outputs": [
    {
     "data": {
      "text/plain": [
       "Company             0\n",
       "TypeName            0\n",
       "Inches              0\n",
       "ScreenResolution    0\n",
       "Cpu                 0\n",
       "Ram                 0\n",
       "Memory              0\n",
       "Gpu                 0\n",
       "OpSys               0\n",
       "Weight              0\n",
       "Price               0\n",
       "dtype: int64"
      ]
     },
     "execution_count": 7,
     "metadata": {},
     "output_type": "execute_result"
    }
   ],
   "source": [
    "df.isnull().sum()"
   ]
  },
  {
   "cell_type": "code",
   "execution_count": 8,
   "id": "94fbe3da",
   "metadata": {},
   "outputs": [
    {
     "data": {
      "image/png": "[encoded data removed]",
      "text/plain": [
       "<Figure size 2500x1000 with 2 Axes>"
      ]
     },
     "metadata": {},
     "output_type": "display_data"
    }
   ],
   "source": [
    "msno.matrix(df)\n",
    "plt.show()"
   ]
  },
  {
   "cell_type": "code",
   "execution_count": 9,
   "id": "d4d04444",
   "metadata": {},
   "outputs": [
    {
     "data": {
      "text/plain": [
       "(1303, 11)"
      ]
     },
     "execution_count": 9,
     "metadata": {},
     "output_type": "execute_result"
    }
   ],
   "source": [
    "df.shape"
   ]
  },
  {
   "cell_type": "code",
   "execution_count": 10,
   "id": "125d72dc",
   "metadata": {},
   "outputs": [
    {
     "data": {
      "text/plain": [
       "29"
      ]
     },
     "execution_count": 10,
     "metadata": {},
     "output_type": "execute_result"
    }
   ],
   "source": [
    "df.duplicated().sum()"
   ]
  },
  {
   "cell_type": "code",
   "execution_count": 11,
   "id": "6e6cccaa",
   "metadata": {},
   "outputs": [],
   "source": [
    "df.drop_duplicates(inplace=True)"
   ]
  },
  {
   "cell_type": "code",
   "execution_count": 12,
   "id": "d36f41d9",
   "metadata": {},
   "outputs": [
    {
     "data": {
      "text/plain": [
       "(1274, 11)"
      ]
     },
     "execution_count": 12,
     "metadata": {},
     "output_type": "execute_result"
    }
   ],
   "source": [
    "df.shape"
   ]
  },
  {
   "cell_type": "code",
   "execution_count": 13,
   "id": "15d35523",
   "metadata": {},
   "outputs": [
    {
     "data": {
      "text/html": [
       "<div>\n",
       "<style scoped>\n",
       "    .dataframe tbody tr th:only-of-type {\n",
       "        vertical-align: middle;\n",
       "    }\n",
       "\n",
       "    .dataframe tbody tr th {\n",
       "        vertical-align: top;\n",
       "    }\n",
       "\n",
       "    .dataframe thead th {\n",
       "        text-align: right;\n",
       "    }\n",
       "</style>\n",
       "<table border=\"1\" class=\"dataframe\">\n",
       "  <thead>\n",
       "    <tr style=\"text-align: right;\">\n",
       "      <th></th>\n",
       "      <th>Company</th>\n",
       "      <th>TypeName</th>\n",
       "      <th>Inches</th>\n",
       "      <th>ScreenResolution</th>\n",
       "      <th>Cpu</th>\n",
       "      <th>Ram</th>\n",
       "      <th>Memory</th>\n",
       "      <th>Gpu</th>\n",
       "      <th>OpSys</th>\n",
       "      <th>Weight</th>\n",
       "      <th>Price</th>\n",
       "    </tr>\n",
       "  </thead>\n",
       "  <tbody>\n",
       "    <tr>\n",
       "      <th>0</th>\n",
       "      <td>Apple</td>\n",
       "      <td>Ultrabook</td>\n",
       "      <td>13.3</td>\n",
       "      <td>IPS Panel Retina Display 2560x1600</td>\n",
       "      <td>Intel Core i5 2.3GHz</td>\n",
       "      <td>8GB</td>\n",
       "      <td>128GB SSD</td>\n",
       "      <td>Intel Iris Plus Graphics 640</td>\n",
       "      <td>macOS</td>\n",
       "      <td>1.37kg</td>\n",
       "      <td>71378.6832</td>\n",
       "    </tr>\n",
       "    <tr>\n",
       "      <th>1</th>\n",
       "      <td>Apple</td>\n",
       "      <td>Ultrabook</td>\n",
       "      <td>13.3</td>\n",
       "      <td>1440x900</td>\n",
       "      <td>Intel Core i5 1.8GHz</td>\n",
       "      <td>8GB</td>\n",
       "      <td>128GB Flash Storage</td>\n",
       "      <td>Intel HD Graphics 6000</td>\n",
       "      <td>macOS</td>\n",
       "      <td>1.34kg</td>\n",
       "      <td>47895.5232</td>\n",
       "    </tr>\n",
       "    <tr>\n",
       "      <th>2</th>\n",
       "      <td>HP</td>\n",
       "      <td>Notebook</td>\n",
       "      <td>15.6</td>\n",
       "      <td>Full HD 1920x1080</td>\n",
       "      <td>Intel Core i5 7200U 2.5GHz</td>\n",
       "      <td>8GB</td>\n",
       "      <td>256GB SSD</td>\n",
       "      <td>Intel HD Graphics 620</td>\n",
       "      <td>No OS</td>\n",
       "      <td>1.86kg</td>\n",
       "      <td>30636.0000</td>\n",
       "    </tr>\n",
       "    <tr>\n",
       "      <th>3</th>\n",
       "      <td>Apple</td>\n",
       "      <td>Ultrabook</td>\n",
       "      <td>15.4</td>\n",
       "      <td>IPS Panel Retina Display 2880x1800</td>\n",
       "      <td>Intel Core i7 2.7GHz</td>\n",
       "      <td>16GB</td>\n",
       "      <td>512GB SSD</td>\n",
       "      <td>AMD Radeon Pro 455</td>\n",
       "      <td>macOS</td>\n",
       "      <td>1.83kg</td>\n",
       "      <td>135195.3360</td>\n",
       "    </tr>\n",
       "    <tr>\n",
       "      <th>4</th>\n",
       "      <td>Apple</td>\n",
       "      <td>Ultrabook</td>\n",
       "      <td>13.3</td>\n",
       "      <td>IPS Panel Retina Display 2560x1600</td>\n",
       "      <td>Intel Core i5 3.1GHz</td>\n",
       "      <td>8GB</td>\n",
       "      <td>256GB SSD</td>\n",
       "      <td>Intel Iris Plus Graphics 650</td>\n",
       "      <td>macOS</td>\n",
       "      <td>1.37kg</td>\n",
       "      <td>96095.8080</td>\n",
       "    </tr>\n",
       "  </tbody>\n",
       "</table>\n",
       "</div>"
      ],
      "text/plain": [
       "  Company   TypeName  Inches                    ScreenResolution  \\\n",
       "0   Apple  Ultrabook    13.3  IPS Panel Retina Display 2560x1600   \n",
       "1   Apple  Ultrabook    13.3                            1440x900   \n",
       "2      HP   Notebook    15.6                   Full HD 1920x1080   \n",
       "3   Apple  Ultrabook    15.4  IPS Panel Retina Display 2880x1800   \n",
       "4   Apple  Ultrabook    13.3  IPS Panel Retina Display 2560x1600   \n",
       "\n",
       "                          Cpu   Ram               Memory  \\\n",
       "0        Intel Core i5 2.3GHz   8GB            128GB SSD   \n",
       "1        Intel Core i5 1.8GHz   8GB  128GB Flash Storage   \n",
       "2  Intel Core i5 7200U 2.5GHz   8GB            256GB SSD   \n",
       "3        Intel Core i7 2.7GHz  16GB            512GB SSD   \n",
       "4        Intel Core i5 3.1GHz   8GB            256GB SSD   \n",
       "\n",
       "                            Gpu  OpSys  Weight        Price  \n",
       "0  Intel Iris Plus Graphics 640  macOS  1.37kg   71378.6832  \n",
       "1        Intel HD Graphics 6000  macOS  1.34kg   47895.5232  \n",
       "2         Intel HD Graphics 620  No OS  1.86kg   30636.0000  \n",
       "3            AMD Radeon Pro 455  macOS  1.83kg  135195.3360  \n",
       "4  Intel Iris Plus Graphics 650  macOS  1.37kg   96095.8080  "
      ]
     },
     "execution_count": 13,
     "metadata": {},
     "output_type": "execute_result"
    }
   ],
   "source": [
    "df.head()"
   ]
  },
  {
   "cell_type": "code",
   "execution_count": 14,
   "id": "f389f1a8",
   "metadata": {},
   "outputs": [
    {
     "data": {
      "image/png": "[encoded data removed]",
      "text/plain": [
       "<Figure size 640x480 with 1 Axes>"
      ]
     },
     "metadata": {},
     "output_type": "display_data"
    }
   ],
   "source": [
    "plt.xticks(rotation='vertical')\n",
    "sns.countplot(x=df['Company'])\n",
    "plt.show()"
   ]
  },
  {
   "cell_type": "code",
   "execution_count": 15,
   "id": "2646a93e",
   "metadata": {},
   "outputs": [
    {
     "data": {
      "text/plain": [
       "Company\n",
       "Dell         291\n",
       "Lenovo       289\n",
       "HP           268\n",
       "Asus         151\n",
       "Acer         101\n",
       "MSI           54\n",
       "Toshiba       48\n",
       "Apple         21\n",
       "Samsung        9\n",
       "Mediacom       7\n",
       "Razer          7\n",
       "Microsoft      6\n",
       "Xiaomi         4\n",
       "Vero           4\n",
       "Chuwi          3\n",
       "Google         3\n",
       "Fujitsu        3\n",
       "LG             3\n",
       "Huawei         2\n",
       "Name: count, dtype: int64"
      ]
     },
     "execution_count": 15,
     "metadata": {},
     "output_type": "execute_result"
    }
   ],
   "source": [
    "df['Company'].value_counts().sort_values(ascending=False)"
   ]
  },
  {
   "cell_type": "code",
   "execution_count": 16,
   "id": "1f1abd4c",
   "metadata": {},
   "outputs": [
    {
     "data": {
      "image/png": "[encoded data removed]",
      "text/plain": [
       "<Figure size 640x480 with 1 Axes>"
      ]
     },
     "metadata": {},
     "output_type": "display_data"
    }
   ],
   "source": [
    "df['TypeName'].value_counts().sort_values(ascending=False).plot(kind='bar')\n",
    "plt.show()"
   ]
  },
  {
   "cell_type": "code",
   "execution_count": 17,
   "id": "d04a36bf",
   "metadata": {},
   "outputs": [
    {
     "data": {
      "text/plain": [
       "TypeName\n",
       "Notebook              706\n",
       "Gaming                205\n",
       "Ultrabook             194\n",
       "2 in 1 Convertible    117\n",
       "Workstation            29\n",
       "Netbook                23\n",
       "Name: count, dtype: int64"
      ]
     },
     "execution_count": 17,
     "metadata": {},
     "output_type": "execute_result"
    }
   ],
   "source": [
    "df['TypeName'].value_counts().sort_values(ascending=False)"
   ]
  },
  {
   "cell_type": "code",
   "execution_count": 18,
   "id": "8158c3c6",
   "metadata": {},
   "outputs": [
    {
     "data": {
      "text/plain": [
       "52"
      ]
     },
     "execution_count": 18,
     "metadata": {},
     "output_type": "execute_result"
    }
   ],
   "source": [
    "29 + 23"
   ]
  },
  {
   "cell_type": "code",
   "execution_count": null,
   "id": "9647472c",
   "metadata": {},
   "outputs": [],
   "source": [
    "df['ScreenResolution'].value_counts().sort_values(ascending=False).plot(kind='bar')\n",
    "plt.show()"
   ]
  },
  {
   "cell_type": "code",
   "execution_count": null,
   "id": "cfaaafca",
   "metadata": {},
   "outputs": [],
   "source": [
    "df['ScreenResolution'].sample(10)"
   ]
  },
  {
   "cell_type": "code",
   "execution_count": null,
   "id": "2dd53577",
   "metadata": {},
   "outputs": [],
   "source": [
    "df['Cpu'].value_counts().sort_values(ascending=False).sample(10)"
   ]
  },
  {
   "cell_type": "code",
   "execution_count": 22,
   "id": "b2bbccf2",
   "metadata": {},
   "outputs": [
    {
     "data": {
      "text/plain": [
       "93      Intel Core i5 7300HQ 2.5GHz\n",
       "1023     Intel Core i7 7500U 2.7GHz\n",
       "1238    Intel Core i7 6700HQ 2.6GHz\n",
       "149        Intel Core i3 6006U 2GHz\n",
       "991        Intel Core i3 6006U 2GHz\n",
       "289      Intel Core i7 7500U 2.7GHz\n",
       "1028     Intel Core i5 7200U 2.5GHz\n",
       "129      Intel Core i5 8250U 1.6GHz\n",
       "516      Intel Core i5 8250U 1.6GHz\n",
       "986      Intel Core i5 7200U 2.5GHz\n",
       "Name: Cpu, dtype: object"
      ]
     },
     "execution_count": 22,
     "metadata": {},
     "output_type": "execute_result"
    }
   ],
   "source": [
    "df['Cpu'].sample(10)"
   ]
  },
  {
   "cell_type": "code",
   "execution_count": 23,
   "id": "c0993800",
   "metadata": {},
   "outputs": [
    {
     "data": {
      "text/plain": [
       "Memory\n",
       "16GB Flash Storage                7\n",
       "1.0TB Hybrid                      7\n",
       "32GB HDD                          1\n",
       "8GB SSD                           1\n",
       "16GB SSD                          3\n",
       "64GB Flash Storage +  1TB HDD     1\n",
       "256GB SSD +  256GB SSD            2\n",
       "1TB SSD                          14\n",
       "512GB SSD +  256GB SSD            1\n",
       "1TB HDD +  1TB HDD                1\n",
       "Name: count, dtype: int64"
      ]
     },
     "execution_count": 23,
     "metadata": {},
     "output_type": "execute_result"
    }
   ],
   "source": [
    "df['Memory'].value_counts().sort_values(ascending=False).sample(10)"
   ]
  },
  {
   "cell_type": "code",
   "execution_count": 24,
   "id": "9e431e09",
   "metadata": {},
   "outputs": [
    {
     "data": {
      "text/plain": [
       "Gpu\n",
       "Nvidia GeForce GTX 1060    48\n",
       "AMD Radeon R5 M420          8\n",
       "Intel HD Graphics          22\n",
       "Intel HD Graphics 630       4\n",
       "AMD Radeon R7 M445         14\n",
       "Nvidia GeForce MX150       15\n",
       "AMD Radeon R5 M430         20\n",
       "AMD Radeon R7               1\n",
       "Nvidia GeForce GTX 970M     5\n",
       "AMD Radeon R4               3\n",
       "Name: count, dtype: int64"
      ]
     },
     "execution_count": 24,
     "metadata": {},
     "output_type": "execute_result"
    }
   ],
   "source": [
    "df['Gpu'].value_counts().sort_values(ascending=False).sample(10)"
   ]
  },
  {
   "cell_type": "code",
   "execution_count": 25,
   "id": "796881f3",
   "metadata": {},
   "outputs": [],
   "source": [
    "ops = df['OpSys'].value_counts().index.tolist()"
   ]
  },
  {
   "cell_type": "code",
   "execution_count": 26,
   "id": "716fa854",
   "metadata": {},
   "outputs": [
    {
     "data": {
      "image/png": "[encoded data removed]",
      "text/plain": [
       "<Figure size 640x480 with 1 Axes>"
      ]
     },
     "metadata": {},
     "output_type": "display_data"
    }
   ],
   "source": [
    "plt.pie(df['OpSys'].value_counts(), labels=ops)\n",
    "plt.show()"
   ]
  },
  {
   "cell_type": "code",
   "execution_count": 27,
   "id": "b1ce2843",
   "metadata": {},
   "outputs": [
    {
     "data": {
      "text/plain": [
       "OpSys\n",
       "Windows 10      1047\n",
       "No OS             66\n",
       "Linux             58\n",
       "Windows 7         45\n",
       "Chrome OS         27\n",
       "macOS             13\n",
       "Mac OS X           8\n",
       "Windows 10 S       8\n",
       "Android            2\n",
       "Name: count, dtype: int64"
      ]
     },
     "execution_count": 27,
     "metadata": {},
     "output_type": "execute_result"
    }
   ],
   "source": [
    "df['OpSys'].value_counts()"
   ]
  },
  {
   "cell_type": "code",
   "execution_count": 28,
   "id": "096c7d3d",
   "metadata": {},
   "outputs": [
    {
     "data": {
      "text/plain": [
       "(1274, 11)"
      ]
     },
     "execution_count": 28,
     "metadata": {},
     "output_type": "execute_result"
    }
   ],
   "source": [
    "df.shape"
   ]
  },
  {
   "cell_type": "code",
   "execution_count": 29,
   "id": "7fa0cd27",
   "metadata": {},
   "outputs": [
    {
     "data": {
      "text/html": [
       "<div>\n",
       "<style scoped>\n",
       "    .dataframe tbody tr th:only-of-type {\n",
       "        vertical-align: middle;\n",
       "    }\n",
       "\n",
       "    .dataframe tbody tr th {\n",
       "        vertical-align: top;\n",
       "    }\n",
       "\n",
       "    .dataframe thead th {\n",
       "        text-align: right;\n",
       "    }\n",
       "</style>\n",
       "<table border=\"1\" class=\"dataframe\">\n",
       "  <thead>\n",
       "    <tr style=\"text-align: right;\">\n",
       "      <th></th>\n",
       "      <th>Company</th>\n",
       "      <th>TypeName</th>\n",
       "      <th>Inches</th>\n",
       "      <th>ScreenResolution</th>\n",
       "      <th>Cpu</th>\n",
       "      <th>Ram</th>\n",
       "      <th>Memory</th>\n",
       "      <th>Gpu</th>\n",
       "      <th>OpSys</th>\n",
       "      <th>Weight</th>\n",
       "      <th>Price</th>\n",
       "    </tr>\n",
       "  </thead>\n",
       "  <tbody>\n",
       "    <tr>\n",
       "      <th>0</th>\n",
       "      <td>Apple</td>\n",
       "      <td>Ultrabook</td>\n",
       "      <td>13.3</td>\n",
       "      <td>IPS Panel Retina Display 2560x1600</td>\n",
       "      <td>Intel Core i5 2.3GHz</td>\n",
       "      <td>8GB</td>\n",
       "      <td>128GB SSD</td>\n",
       "      <td>Intel Iris Plus Graphics 640</td>\n",
       "      <td>macOS</td>\n",
       "      <td>1.37kg</td>\n",
       "      <td>71378.6832</td>\n",
       "    </tr>\n",
       "    <tr>\n",
       "      <th>1</th>\n",
       "      <td>Apple</td>\n",
       "      <td>Ultrabook</td>\n",
       "      <td>13.3</td>\n",
       "      <td>1440x900</td>\n",
       "      <td>Intel Core i5 1.8GHz</td>\n",
       "      <td>8GB</td>\n",
       "      <td>128GB Flash Storage</td>\n",
       "      <td>Intel HD Graphics 6000</td>\n",
       "      <td>macOS</td>\n",
       "      <td>1.34kg</td>\n",
       "      <td>47895.5232</td>\n",
       "    </tr>\n",
       "    <tr>\n",
       "      <th>2</th>\n",
       "      <td>HP</td>\n",
       "      <td>Notebook</td>\n",
       "      <td>15.6</td>\n",
       "      <td>Full HD 1920x1080</td>\n",
       "      <td>Intel Core i5 7200U 2.5GHz</td>\n",
       "      <td>8GB</td>\n",
       "      <td>256GB SSD</td>\n",
       "      <td>Intel HD Graphics 620</td>\n",
       "      <td>No OS</td>\n",
       "      <td>1.86kg</td>\n",
       "      <td>30636.0000</td>\n",
       "    </tr>\n",
       "    <tr>\n",
       "      <th>3</th>\n",
       "      <td>Apple</td>\n",
       "      <td>Ultrabook</td>\n",
       "      <td>15.4</td>\n",
       "      <td>IPS Panel Retina Display 2880x1800</td>\n",
       "      <td>Intel Core i7 2.7GHz</td>\n",
       "      <td>16GB</td>\n",
       "      <td>512GB SSD</td>\n",
       "      <td>AMD Radeon Pro 455</td>\n",
       "      <td>macOS</td>\n",
       "      <td>1.83kg</td>\n",
       "      <td>135195.3360</td>\n",
       "    </tr>\n",
       "    <tr>\n",
       "      <th>4</th>\n",
       "      <td>Apple</td>\n",
       "      <td>Ultrabook</td>\n",
       "      <td>13.3</td>\n",
       "      <td>IPS Panel Retina Display 2560x1600</td>\n",
       "      <td>Intel Core i5 3.1GHz</td>\n",
       "      <td>8GB</td>\n",
       "      <td>256GB SSD</td>\n",
       "      <td>Intel Iris Plus Graphics 650</td>\n",
       "      <td>macOS</td>\n",
       "      <td>1.37kg</td>\n",
       "      <td>96095.8080</td>\n",
       "    </tr>\n",
       "  </tbody>\n",
       "</table>\n",
       "</div>"
      ],
      "text/plain": [
       "  Company   TypeName  Inches                    ScreenResolution  \\\n",
       "0   Apple  Ultrabook    13.3  IPS Panel Retina Display 2560x1600   \n",
       "1   Apple  Ultrabook    13.3                            1440x900   \n",
       "2      HP   Notebook    15.6                   Full HD 1920x1080   \n",
       "3   Apple  Ultrabook    15.4  IPS Panel Retina Display 2880x1800   \n",
       "4   Apple  Ultrabook    13.3  IPS Panel Retina Display 2560x1600   \n",
       "\n",
       "                          Cpu   Ram               Memory  \\\n",
       "0        Intel Core i5 2.3GHz   8GB            128GB SSD   \n",
       "1        Intel Core i5 1.8GHz   8GB  128GB Flash Storage   \n",
       "2  Intel Core i5 7200U 2.5GHz   8GB            256GB SSD   \n",
       "3        Intel Core i7 2.7GHz  16GB            512GB SSD   \n",
       "4        Intel Core i5 3.1GHz   8GB            256GB SSD   \n",
       "\n",
       "                            Gpu  OpSys  Weight        Price  \n",
       "0  Intel Iris Plus Graphics 640  macOS  1.37kg   71378.6832  \n",
       "1        Intel HD Graphics 6000  macOS  1.34kg   47895.5232  \n",
       "2         Intel HD Graphics 620  No OS  1.86kg   30636.0000  \n",
       "3            AMD Radeon Pro 455  macOS  1.83kg  135195.3360  \n",
       "4  Intel Iris Plus Graphics 650  macOS  1.37kg   96095.8080  "
      ]
     },
     "execution_count": 29,
     "metadata": {},
     "output_type": "execute_result"
    }
   ],
   "source": [
    "df.head()"
   ]
  },
  {
   "cell_type": "code",
   "execution_count": 30,
   "id": "4789fdcf",
   "metadata": {},
   "outputs": [],
   "source": [
    "top_laps = df['Company'].value_counts().index.tolist()[0:8]"
   ]
  },
  {
   "cell_type": "code",
   "execution_count": 31,
   "id": "9cf6ab1e",
   "metadata": {},
   "outputs": [
    {
     "data": {
      "text/plain": [
       "['Dell', 'Lenovo', 'HP', 'Asus', 'Acer', 'MSI', 'Toshiba', 'Apple']"
      ]
     },
     "execution_count": 31,
     "metadata": {},
     "output_type": "execute_result"
    }
   ],
   "source": [
    "top_laps"
   ]
  },
  {
   "cell_type": "code",
   "execution_count": 32,
   "id": "7ccd07d3",
   "metadata": {},
   "outputs": [],
   "source": [
    "def top_laps_co(company):\n",
    "    if company not in top_laps:\n",
    "        return 'Other'\n",
    "    else:\n",
    "        return company"
   ]
  },
  {
   "cell_type": "code",
   "execution_count": 33,
   "id": "c16cddf6",
   "metadata": {},
   "outputs": [],
   "source": [
    "df['Company'] = df['Company'].apply(top_laps_co)"
   ]
  },
  {
   "cell_type": "code",
   "execution_count": 34,
   "id": "b9f419ed",
   "metadata": {},
   "outputs": [
    {
     "data": {
      "text/html": [
       "<div>\n",
       "<style scoped>\n",
       "    .dataframe tbody tr th:only-of-type {\n",
       "        vertical-align: middle;\n",
       "    }\n",
       "\n",
       "    .dataframe tbody tr th {\n",
       "        vertical-align: top;\n",
       "    }\n",
       "\n",
       "    .dataframe thead th {\n",
       "        text-align: right;\n",
       "    }\n",
       "</style>\n",
       "<table border=\"1\" class=\"dataframe\">\n",
       "  <thead>\n",
       "    <tr style=\"text-align: right;\">\n",
       "      <th></th>\n",
       "      <th>Company</th>\n",
       "      <th>TypeName</th>\n",
       "      <th>Inches</th>\n",
       "      <th>ScreenResolution</th>\n",
       "      <th>Cpu</th>\n",
       "      <th>Ram</th>\n",
       "      <th>Memory</th>\n",
       "      <th>Gpu</th>\n",
       "      <th>OpSys</th>\n",
       "      <th>Weight</th>\n",
       "      <th>Price</th>\n",
       "    </tr>\n",
       "  </thead>\n",
       "  <tbody>\n",
       "    <tr>\n",
       "      <th>0</th>\n",
       "      <td>Apple</td>\n",
       "      <td>Ultrabook</td>\n",
       "      <td>13.3</td>\n",
       "      <td>IPS Panel Retina Display 2560x1600</td>\n",
       "      <td>Intel Core i5 2.3GHz</td>\n",
       "      <td>8GB</td>\n",
       "      <td>128GB SSD</td>\n",
       "      <td>Intel Iris Plus Graphics 640</td>\n",
       "      <td>macOS</td>\n",
       "      <td>1.37kg</td>\n",
       "      <td>71378.6832</td>\n",
       "    </tr>\n",
       "    <tr>\n",
       "      <th>1</th>\n",
       "      <td>Apple</td>\n",
       "      <td>Ultrabook</td>\n",
       "      <td>13.3</td>\n",
       "      <td>1440x900</td>\n",
       "      <td>Intel Core i5 1.8GHz</td>\n",
       "      <td>8GB</td>\n",
       "      <td>128GB Flash Storage</td>\n",
       "      <td>Intel HD Graphics 6000</td>\n",
       "      <td>macOS</td>\n",
       "      <td>1.34kg</td>\n",
       "      <td>47895.5232</td>\n",
       "    </tr>\n",
       "    <tr>\n",
       "      <th>2</th>\n",
       "      <td>HP</td>\n",
       "      <td>Notebook</td>\n",
       "      <td>15.6</td>\n",
       "      <td>Full HD 1920x1080</td>\n",
       "      <td>Intel Core i5 7200U 2.5GHz</td>\n",
       "      <td>8GB</td>\n",
       "      <td>256GB SSD</td>\n",
       "      <td>Intel HD Graphics 620</td>\n",
       "      <td>No OS</td>\n",
       "      <td>1.86kg</td>\n",
       "      <td>30636.0000</td>\n",
       "    </tr>\n",
       "    <tr>\n",
       "      <th>3</th>\n",
       "      <td>Apple</td>\n",
       "      <td>Ultrabook</td>\n",
       "      <td>15.4</td>\n",
       "      <td>IPS Panel Retina Display 2880x1800</td>\n",
       "      <td>Intel Core i7 2.7GHz</td>\n",
       "      <td>16GB</td>\n",
       "      <td>512GB SSD</td>\n",
       "      <td>AMD Radeon Pro 455</td>\n",
       "      <td>macOS</td>\n",
       "      <td>1.83kg</td>\n",
       "      <td>135195.3360</td>\n",
       "    </tr>\n",
       "    <tr>\n",
       "      <th>4</th>\n",
       "      <td>Apple</td>\n",
       "      <td>Ultrabook</td>\n",
       "      <td>13.3</td>\n",
       "      <td>IPS Panel Retina Display 2560x1600</td>\n",
       "      <td>Intel Core i5 3.1GHz</td>\n",
       "      <td>8GB</td>\n",
       "      <td>256GB SSD</td>\n",
       "      <td>Intel Iris Plus Graphics 650</td>\n",
       "      <td>macOS</td>\n",
       "      <td>1.37kg</td>\n",
       "      <td>96095.8080</td>\n",
       "    </tr>\n",
       "  </tbody>\n",
       "</table>\n",
       "</div>"
      ],
      "text/plain": [
       "  Company   TypeName  Inches                    ScreenResolution  \\\n",
       "0   Apple  Ultrabook    13.3  IPS Panel Retina Display 2560x1600   \n",
       "1   Apple  Ultrabook    13.3                            1440x900   \n",
       "2      HP   Notebook    15.6                   Full HD 1920x1080   \n",
       "3   Apple  Ultrabook    15.4  IPS Panel Retina Display 2880x1800   \n",
       "4   Apple  Ultrabook    13.3  IPS Panel Retina Display 2560x1600   \n",
       "\n",
       "                          Cpu   Ram               Memory  \\\n",
       "0        Intel Core i5 2.3GHz   8GB            128GB SSD   \n",
       "1        Intel Core i5 1.8GHz   8GB  128GB Flash Storage   \n",
       "2  Intel Core i5 7200U 2.5GHz   8GB            256GB SSD   \n",
       "3        Intel Core i7 2.7GHz  16GB            512GB SSD   \n",
       "4        Intel Core i5 3.1GHz   8GB            256GB SSD   \n",
       "\n",
       "                            Gpu  OpSys  Weight        Price  \n",
       "0  Intel Iris Plus Graphics 640  macOS  1.37kg   71378.6832  \n",
       "1        Intel HD Graphics 6000  macOS  1.34kg   47895.5232  \n",
       "2         Intel HD Graphics 620  No OS  1.86kg   30636.0000  \n",
       "3            AMD Radeon Pro 455  macOS  1.83kg  135195.3360  \n",
       "4  Intel Iris Plus Graphics 650  macOS  1.37kg   96095.8080  "
      ]
     },
     "execution_count": 34,
     "metadata": {},
     "output_type": "execute_result"
    }
   ],
   "source": [
    "df.head()"
   ]
  },
  {
   "cell_type": "code",
   "execution_count": 35,
   "id": "49f5fc15",
   "metadata": {},
   "outputs": [
    {
     "data": {
      "text/plain": [
       "Company\n",
       "Dell       291\n",
       "Lenovo     289\n",
       "HP         268\n",
       "Asus       151\n",
       "Acer       101\n",
       "MSI         54\n",
       "Other       51\n",
       "Toshiba     48\n",
       "Apple       21\n",
       "Name: count, dtype: int64"
      ]
     },
     "execution_count": 35,
     "metadata": {},
     "output_type": "execute_result"
    }
   ],
   "source": [
    "df['Company'].value_counts()"
   ]
  },
  {
   "cell_type": "code",
   "execution_count": 36,
   "id": "2294a7eb",
   "metadata": {},
   "outputs": [
    {
     "data": {
      "text/plain": [
       "TypeName\n",
       "Notebook              706\n",
       "Gaming                205\n",
       "Ultrabook             194\n",
       "2 in 1 Convertible    117\n",
       "Workstation            29\n",
       "Netbook                23\n",
       "Name: count, dtype: int64"
      ]
     },
     "execution_count": 36,
     "metadata": {},
     "output_type": "execute_result"
    }
   ],
   "source": [
    "df['TypeName'].value_counts()"
   ]
  },
  {
   "cell_type": "code",
   "execution_count": 37,
   "id": "841882ce",
   "metadata": {},
   "outputs": [
    {
     "data": {
      "image/png": "[encoded data removed]",
      "text/plain": [
       "<Figure size 640x480 with 1 Axes>"
      ]
     },
     "metadata": {},
     "output_type": "display_data"
    }
   ],
   "source": [
    "sns.barplot(x=df['TypeName'], y=df['Price'])\n",
    "plt.show()"
   ]
  },
  {
   "cell_type": "code",
   "execution_count": 41,
   "id": "ef7eccc1",
   "metadata": {},
   "outputs": [
    {
     "data": {
      "image/png": "[encoded data removed]",
      "text/plain": [
       "<Figure size 640x480 with 1 Axes>"
      ]
     },
     "metadata": {},
     "output_type": "display_data"
    }
   ],
   "source": [
    "sns.barplot(x=df['Company'], y=df['Price'])\n",
    "plt.show()"
   ]
  },
  {
   "cell_type": "code",
   "execution_count": 42,
   "id": "1427288b",
   "metadata": {},
   "outputs": [],
   "source": [
    "def split_ts(sr):\n",
    "    data = sr.split()\n",
    "    if 'Touchscreen' in data:\n",
    "        return 'yes'\n",
    "    else:\n",
    "        return 'no'"
   ]
  },
  {
   "cell_type": "code",
   "execution_count": 43,
   "id": "45589872",
   "metadata": {},
   "outputs": [
    {
     "data": {
      "text/plain": [
       "383     IPS Panel Full HD 1920x1080\n",
       "729               Full HD 1920x1080\n",
       "233               Full HD 1920x1080\n",
       "1119              Full HD 1920x1080\n",
       "313               Full HD 1920x1080\n",
       "320               Full HD 1920x1080\n",
       "1116    IPS Panel Full HD 1920x1080\n",
       "990               Full HD 1920x1080\n",
       "1066    IPS Panel Full HD 1920x1080\n",
       "549     IPS Panel Full HD 1920x1080\n",
       "Name: ScreenResolution, dtype: object"
      ]
     },
     "execution_count": 43,
     "metadata": {},
     "output_type": "execute_result"
    }
   ],
   "source": [
    "df['ScreenResolution'].sample(10)"
   ]
  },
  {
   "cell_type": "code",
   "execution_count": 44,
   "id": "cbfad508",
   "metadata": {},
   "outputs": [
    {
     "data": {
      "text/plain": [
       "<Axes: xlabel='ScreenResolution'>"
      ]
     },
     "execution_count": 44,
     "metadata": {},
     "output_type": "execute_result"
    },
    {
     "data": {
      "image/png": "[encoded data removed]",
      "text/plain": [
       "<Figure size 640x480 with 1 Axes>"
      ]
     },
     "metadata": {},
     "output_type": "display_data"
    }
   ],
   "source": [
    "df['ScreenResolution'].apply(split_ts).value_counts().plot(kind='bar')"
   ]
  },
  {
   "cell_type": "code",
   "execution_count": 45,
   "id": "753d40b6",
   "metadata": {},
   "outputs": [
    {
     "data": {
      "text/plain": [
       "ScreenResolution\n",
       "no     1086\n",
       "yes     188\n",
       "Name: count, dtype: int64"
      ]
     },
     "execution_count": 45,
     "metadata": {},
     "output_type": "execute_result"
    }
   ],
   "source": [
    "df['ScreenResolution'].apply(split_ts).value_counts()"
   ]
  },
  {
   "cell_type": "code",
   "execution_count": 46,
   "id": "1a12a71e",
   "metadata": {},
   "outputs": [],
   "source": [
    "ts = df['ScreenResolution'].apply(split_ts)"
   ]
  },
  {
   "cell_type": "code",
   "execution_count": 47,
   "id": "a7469f08",
   "metadata": {},
   "outputs": [],
   "source": [
    "df['Touch_Screen'] = ts"
   ]
  },
  {
   "cell_type": "code",
   "execution_count": 48,
   "id": "5101508d",
   "metadata": {},
   "outputs": [
    {
     "data": {
      "text/html": [
       "<div>\n",
       "<style scoped>\n",
       "    .dataframe tbody tr th:only-of-type {\n",
       "        vertical-align: middle;\n",
       "    }\n",
       "\n",
       "    .dataframe tbody tr th {\n",
       "        vertical-align: top;\n",
       "    }\n",
       "\n",
       "    .dataframe thead th {\n",
       "        text-align: right;\n",
       "    }\n",
       "</style>\n",
       "<table border=\"1\" class=\"dataframe\">\n",
       "  <thead>\n",
       "    <tr style=\"text-align: right;\">\n",
       "      <th></th>\n",
       "      <th>Company</th>\n",
       "      <th>TypeName</th>\n",
       "      <th>Inches</th>\n",
       "      <th>ScreenResolution</th>\n",
       "      <th>Cpu</th>\n",
       "      <th>Ram</th>\n",
       "      <th>Memory</th>\n",
       "      <th>Gpu</th>\n",
       "      <th>OpSys</th>\n",
       "      <th>Weight</th>\n",
       "      <th>Price</th>\n",
       "      <th>Touch_Screen</th>\n",
       "    </tr>\n",
       "  </thead>\n",
       "  <tbody>\n",
       "    <tr>\n",
       "      <th>948</th>\n",
       "      <td>Dell</td>\n",
       "      <td>Notebook</td>\n",
       "      <td>17.3</td>\n",
       "      <td>1600x900</td>\n",
       "      <td>Intel Core i3 6006U 2.0GHz</td>\n",
       "      <td>4GB</td>\n",
       "      <td>1TB HDD</td>\n",
       "      <td>AMD Radeon R7 M445</td>\n",
       "      <td>Windows 10</td>\n",
       "      <td>2.36kg</td>\n",
       "      <td>35111.520</td>\n",
       "      <td>no</td>\n",
       "    </tr>\n",
       "    <tr>\n",
       "      <th>366</th>\n",
       "      <td>Dell</td>\n",
       "      <td>Notebook</td>\n",
       "      <td>17.3</td>\n",
       "      <td>Full HD 1920x1080</td>\n",
       "      <td>Intel Core i5 8250U 1.6GHz</td>\n",
       "      <td>8GB</td>\n",
       "      <td>128GB SSD +  1TB HDD</td>\n",
       "      <td>AMD Radeon 530</td>\n",
       "      <td>Windows 10</td>\n",
       "      <td>2.8kg</td>\n",
       "      <td>57808.800</td>\n",
       "      <td>no</td>\n",
       "    </tr>\n",
       "    <tr>\n",
       "      <th>186</th>\n",
       "      <td>Dell</td>\n",
       "      <td>Notebook</td>\n",
       "      <td>15.6</td>\n",
       "      <td>4K Ultra HD / Touchscreen 3840x2160</td>\n",
       "      <td>Intel Core i7 7700HQ 2.8GHz</td>\n",
       "      <td>16GB</td>\n",
       "      <td>512GB SSD</td>\n",
       "      <td>Nvidia GeForce GTX 1050</td>\n",
       "      <td>Windows 10</td>\n",
       "      <td>2.06kg</td>\n",
       "      <td>127712.160</td>\n",
       "      <td>yes</td>\n",
       "    </tr>\n",
       "    <tr>\n",
       "      <th>1199</th>\n",
       "      <td>MSI</td>\n",
       "      <td>Gaming</td>\n",
       "      <td>17.3</td>\n",
       "      <td>Full HD 1920x1080</td>\n",
       "      <td>Intel Core i7 7700HQ 2.8GHz</td>\n",
       "      <td>16GB</td>\n",
       "      <td>256GB SSD +  1TB HDD</td>\n",
       "      <td>Nvidia GeForce GTX 1060</td>\n",
       "      <td>Windows 10</td>\n",
       "      <td>2.43kg</td>\n",
       "      <td>109165.392</td>\n",
       "      <td>no</td>\n",
       "    </tr>\n",
       "    <tr>\n",
       "      <th>953</th>\n",
       "      <td>Asus</td>\n",
       "      <td>2 in 1 Convertible</td>\n",
       "      <td>12.5</td>\n",
       "      <td>Full HD 1920x1080</td>\n",
       "      <td>Intel Core M M7-6Y75 1.2GHz</td>\n",
       "      <td>8GB</td>\n",
       "      <td>64GB Flash Storage</td>\n",
       "      <td>Intel HD Graphics 515</td>\n",
       "      <td>Chrome OS</td>\n",
       "      <td>1.2kg</td>\n",
       "      <td>61751.520</td>\n",
       "      <td>no</td>\n",
       "    </tr>\n",
       "  </tbody>\n",
       "</table>\n",
       "</div>"
      ],
      "text/plain": [
       "     Company            TypeName  Inches                     ScreenResolution  \\\n",
       "948     Dell            Notebook    17.3                             1600x900   \n",
       "366     Dell            Notebook    17.3                    Full HD 1920x1080   \n",
       "186     Dell            Notebook    15.6  4K Ultra HD / Touchscreen 3840x2160   \n",
       "1199     MSI              Gaming    17.3                    Full HD 1920x1080   \n",
       "953     Asus  2 in 1 Convertible    12.5                    Full HD 1920x1080   \n",
       "\n",
       "                              Cpu   Ram                Memory  \\\n",
       "948    Intel Core i3 6006U 2.0GHz   4GB               1TB HDD   \n",
       "366    Intel Core i5 8250U 1.6GHz   8GB  128GB SSD +  1TB HDD   \n",
       "186   Intel Core i7 7700HQ 2.8GHz  16GB             512GB SSD   \n",
       "1199  Intel Core i7 7700HQ 2.8GHz  16GB  256GB SSD +  1TB HDD   \n",
       "953   Intel Core M M7-6Y75 1.2GHz   8GB    64GB Flash Storage   \n",
       "\n",
       "                          Gpu       OpSys  Weight       Price Touch_Screen  \n",
       "948        AMD Radeon R7 M445  Windows 10  2.36kg   35111.520           no  \n",
       "366            AMD Radeon 530  Windows 10   2.8kg   57808.800           no  \n",
       "186   Nvidia GeForce GTX 1050  Windows 10  2.06kg  127712.160          yes  \n",
       "1199  Nvidia GeForce GTX 1060  Windows 10  2.43kg  109165.392           no  \n",
       "953     Intel HD Graphics 515   Chrome OS   1.2kg   61751.520           no  "
      ]
     },
     "execution_count": 48,
     "metadata": {},
     "output_type": "execute_result"
    }
   ],
   "source": [
    "df.sample(5)"
   ]
  },
  {
   "cell_type": "code",
   "execution_count": 49,
   "id": "f7bee1ce",
   "metadata": {},
   "outputs": [
    {
     "data": {
      "image/png": "[encoded data removed]",
      "text/plain": [
       "<Figure size 640x480 with 1 Axes>"
      ]
     },
     "metadata": {},
     "output_type": "display_data"
    }
   ],
   "source": [
    "sns.barplot(x=df['Touch_Screen'], y=df['Price'])\n",
    "plt.show()"
   ]
  },
  {
   "cell_type": "code",
   "execution_count": 50,
   "id": "ba104e11",
   "metadata": {},
   "outputs": [],
   "source": [
    "def split_hd(sr):\n",
    "    data = sr.split()\n",
    "    if 'HD' in data:\n",
    "        return 'yes'\n",
    "    else:\n",
    "        return 'no'"
   ]
  },
  {
   "cell_type": "code",
   "execution_count": 51,
   "id": "ead05f51",
   "metadata": {},
   "outputs": [
    {
     "data": {
      "text/plain": [
       "405                       Full HD 1920x1080\n",
       "1051            IPS Panel Full HD 1920x1080\n",
       "639     4K Ultra HD / Touchscreen 3840x2160\n",
       "322                       Full HD 1920x1080\n",
       "359                       Full HD 1920x1080\n",
       "Name: ScreenResolution, dtype: object"
      ]
     },
     "execution_count": 51,
     "metadata": {},
     "output_type": "execute_result"
    }
   ],
   "source": [
    "df['ScreenResolution'].sample(5)"
   ]
  },
  {
   "cell_type": "code",
   "execution_count": 52,
   "id": "e7ef0e99",
   "metadata": {},
   "outputs": [],
   "source": [
    "hd = df['ScreenResolution'].apply(split_hd)"
   ]
  },
  {
   "cell_type": "code",
   "execution_count": 53,
   "id": "68150434",
   "metadata": {},
   "outputs": [
    {
     "data": {
      "image/png": "[encoded data removed]",
      "text/plain": [
       "<Figure size 640x480 with 1 Axes>"
      ]
     },
     "metadata": {},
     "output_type": "display_data"
    }
   ],
   "source": [
    "sns.barplot(x=hd, y=df['Price'])\n",
    "plt.show()"
   ]
  },
  {
   "cell_type": "code",
   "execution_count": 54,
   "id": "8101ec8b",
   "metadata": {},
   "outputs": [],
   "source": [
    "df['HD'] = hd"
   ]
  },
  {
   "cell_type": "code",
   "execution_count": 55,
   "id": "e0d2579d",
   "metadata": {},
   "outputs": [
    {
     "data": {
      "text/html": [
       "<div>\n",
       "<style scoped>\n",
       "    .dataframe tbody tr th:only-of-type {\n",
       "        vertical-align: middle;\n",
       "    }\n",
       "\n",
       "    .dataframe tbody tr th {\n",
       "        vertical-align: top;\n",
       "    }\n",
       "\n",
       "    .dataframe thead th {\n",
       "        text-align: right;\n",
       "    }\n",
       "</style>\n",
       "<table border=\"1\" class=\"dataframe\">\n",
       "  <thead>\n",
       "    <tr style=\"text-align: right;\">\n",
       "      <th></th>\n",
       "      <th>Company</th>\n",
       "      <th>TypeName</th>\n",
       "      <th>Inches</th>\n",
       "      <th>ScreenResolution</th>\n",
       "      <th>Cpu</th>\n",
       "      <th>Ram</th>\n",
       "      <th>Memory</th>\n",
       "      <th>Gpu</th>\n",
       "      <th>OpSys</th>\n",
       "      <th>Weight</th>\n",
       "      <th>Price</th>\n",
       "      <th>Touch_Screen</th>\n",
       "      <th>HD</th>\n",
       "    </tr>\n",
       "  </thead>\n",
       "  <tbody>\n",
       "    <tr>\n",
       "      <th>0</th>\n",
       "      <td>Apple</td>\n",
       "      <td>Ultrabook</td>\n",
       "      <td>13.3</td>\n",
       "      <td>IPS Panel Retina Display 2560x1600</td>\n",
       "      <td>Intel Core i5 2.3GHz</td>\n",
       "      <td>8GB</td>\n",
       "      <td>128GB SSD</td>\n",
       "      <td>Intel Iris Plus Graphics 640</td>\n",
       "      <td>macOS</td>\n",
       "      <td>1.37kg</td>\n",
       "      <td>71378.6832</td>\n",
       "      <td>no</td>\n",
       "      <td>no</td>\n",
       "    </tr>\n",
       "    <tr>\n",
       "      <th>1</th>\n",
       "      <td>Apple</td>\n",
       "      <td>Ultrabook</td>\n",
       "      <td>13.3</td>\n",
       "      <td>1440x900</td>\n",
       "      <td>Intel Core i5 1.8GHz</td>\n",
       "      <td>8GB</td>\n",
       "      <td>128GB Flash Storage</td>\n",
       "      <td>Intel HD Graphics 6000</td>\n",
       "      <td>macOS</td>\n",
       "      <td>1.34kg</td>\n",
       "      <td>47895.5232</td>\n",
       "      <td>no</td>\n",
       "      <td>no</td>\n",
       "    </tr>\n",
       "    <tr>\n",
       "      <th>2</th>\n",
       "      <td>HP</td>\n",
       "      <td>Notebook</td>\n",
       "      <td>15.6</td>\n",
       "      <td>Full HD 1920x1080</td>\n",
       "      <td>Intel Core i5 7200U 2.5GHz</td>\n",
       "      <td>8GB</td>\n",
       "      <td>256GB SSD</td>\n",
       "      <td>Intel HD Graphics 620</td>\n",
       "      <td>No OS</td>\n",
       "      <td>1.86kg</td>\n",
       "      <td>30636.0000</td>\n",
       "      <td>no</td>\n",
       "      <td>yes</td>\n",
       "    </tr>\n",
       "    <tr>\n",
       "      <th>3</th>\n",
       "      <td>Apple</td>\n",
       "      <td>Ultrabook</td>\n",
       "      <td>15.4</td>\n",
       "      <td>IPS Panel Retina Display 2880x1800</td>\n",
       "      <td>Intel Core i7 2.7GHz</td>\n",
       "      <td>16GB</td>\n",
       "      <td>512GB SSD</td>\n",
       "      <td>AMD Radeon Pro 455</td>\n",
       "      <td>macOS</td>\n",
       "      <td>1.83kg</td>\n",
       "      <td>135195.3360</td>\n",
       "      <td>no</td>\n",
       "      <td>no</td>\n",
       "    </tr>\n",
       "    <tr>\n",
       "      <th>4</th>\n",
       "      <td>Apple</td>\n",
       "      <td>Ultrabook</td>\n",
       "      <td>13.3</td>\n",
       "      <td>IPS Panel Retina Display 2560x1600</td>\n",
       "      <td>Intel Core i5 3.1GHz</td>\n",
       "      <td>8GB</td>\n",
       "      <td>256GB SSD</td>\n",
       "      <td>Intel Iris Plus Graphics 650</td>\n",
       "      <td>macOS</td>\n",
       "      <td>1.37kg</td>\n",
       "      <td>96095.8080</td>\n",
       "      <td>no</td>\n",
       "      <td>no</td>\n",
       "    </tr>\n",
       "  </tbody>\n",
       "</table>\n",
       "</div>"
      ],
      "text/plain": [
       "  Company   TypeName  Inches                    ScreenResolution  \\\n",
       "0   Apple  Ultrabook    13.3  IPS Panel Retina Display 2560x1600   \n",
       "1   Apple  Ultrabook    13.3                            1440x900   \n",
       "2      HP   Notebook    15.6                   Full HD 1920x1080   \n",
       "3   Apple  Ultrabook    15.4  IPS Panel Retina Display 2880x1800   \n",
       "4   Apple  Ultrabook    13.3  IPS Panel Retina Display 2560x1600   \n",
       "\n",
       "                          Cpu   Ram               Memory  \\\n",
       "0        Intel Core i5 2.3GHz   8GB            128GB SSD   \n",
       "1        Intel Core i5 1.8GHz   8GB  128GB Flash Storage   \n",
       "2  Intel Core i5 7200U 2.5GHz   8GB            256GB SSD   \n",
       "3        Intel Core i7 2.7GHz  16GB            512GB SSD   \n",
       "4        Intel Core i5 3.1GHz   8GB            256GB SSD   \n",
       "\n",
       "                            Gpu  OpSys  Weight        Price Touch_Screen   HD  \n",
       "0  Intel Iris Plus Graphics 640  macOS  1.37kg   71378.6832           no   no  \n",
       "1        Intel HD Graphics 6000  macOS  1.34kg   47895.5232           no   no  \n",
       "2         Intel HD Graphics 620  No OS  1.86kg   30636.0000           no  yes  \n",
       "3            AMD Radeon Pro 455  macOS  1.83kg  135195.3360           no   no  \n",
       "4  Intel Iris Plus Graphics 650  macOS  1.37kg   96095.8080           no   no  "
      ]
     },
     "execution_count": 55,
     "metadata": {},
     "output_type": "execute_result"
    }
   ],
   "source": [
    "df.head()"
   ]
  },
  {
   "cell_type": "code",
   "execution_count": 56,
   "id": "01d71534",
   "metadata": {},
   "outputs": [
    {
     "data": {
      "text/plain": [
       "1018                  IPS Panel Full HD 1920x1080\n",
       "709                   IPS Panel Full HD 1920x1080\n",
       "1185                  IPS Panel Full HD 1920x1080\n",
       "1140              IPS Panel Touchscreen 2560x1440\n",
       "656                             Full HD 1920x1080\n",
       "414     IPS Panel Full HD / Touchscreen 1920x1080\n",
       "636              Quad HD+ / Touchscreen 3200x1800\n",
       "710                   IPS Panel Full HD 1920x1080\n",
       "441                             Full HD 1920x1080\n",
       "968                   IPS Panel Full HD 1920x1080\n",
       "Name: ScreenResolution, dtype: object"
      ]
     },
     "execution_count": 56,
     "metadata": {},
     "output_type": "execute_result"
    }
   ],
   "source": [
    "df['ScreenResolution'].sample(10)"
   ]
  },
  {
   "cell_type": "code",
   "execution_count": 57,
   "id": "8358abde",
   "metadata": {},
   "outputs": [
    {
     "data": {
      "image/png": "[encoded data removed]",
      "text/plain": [
       "<Figure size 640x480 with 1 Axes>"
      ]
     },
     "metadata": {},
     "output_type": "display_data"
    }
   ],
   "source": [
    "sns.lineplot(x=df['Inches'], y=df['Price'])\n",
    "plt.show()"
   ]
  },
  {
   "cell_type": "code",
   "execution_count": 58,
   "id": "3015327a",
   "metadata": {},
   "outputs": [
    {
     "data": {
      "text/plain": [
       "Cpu\n",
       "Intel Core i5 7200U 2.5GHz              190\n",
       "Intel Core i7 7700HQ 2.8GHz             146\n",
       "Intel Core i7 7500U 2.7GHz              132\n",
       "Intel Core i7 8550U 1.8GHz               73\n",
       "Intel Core i5 8250U 1.6GHz               72\n",
       "Intel Core i5 6200U 2.3GHz               68\n",
       "Intel Core i3 6006U 2GHz                 64\n",
       "Intel Core i7 6500U 2.5GHz               41\n",
       "Intel Core i7 6700HQ 2.6GHz              41\n",
       "Intel Core i3 7100U 2.4GHz               35\n",
       "Intel Core i5 7300HQ 2.5GHz              33\n",
       "Intel Celeron Dual Core N3350 1.1GHz     30\n",
       "Intel Celeron Dual Core N3060 1.6GHz     24\n",
       "Intel Core i7 6600U 2.6GHz               18\n",
       "Intel Core i3 6006U 2.0GHz               16\n",
       "Intel Core i5 7300U 2.6GHz               14\n",
       "Intel Pentium Quad Core N4200 1.1GHz     14\n",
       "Intel Core i7 7600U 2.8GHz               13\n",
       "Intel Pentium Quad Core N3710 1.6GHz     11\n",
       "Intel Core i5 6300U 2.4GHz               11\n",
       "AMD A9-Series 9420 3GHz                  11\n",
       "Intel Core i7 6820HK 2.7GHz              10\n",
       "Intel Core i3 6100U 2.3GHz                9\n",
       "Intel Core i3 7130U 2.7GHz                8\n",
       "Intel Core i5 6300HQ 2.3GHz               7\n",
       "AMD A6-Series 9220 2.5GHz                 7\n",
       "Intel Core i7 6820HQ 2.7GHz               7\n",
       "Intel Core i7 7820HK 2.9GHz               7\n",
       "Intel Core i7 7820HQ 2.9GHz               5\n",
       "Intel Core i5 7440HQ 2.8GHz               5\n",
       "AMD A12-Series 9720P 3.6GHz               5\n",
       "Intel Celeron Quad Core N3450 1.1GHz      5\n",
       "Intel Atom x5-Z8350 1.44GHz               5\n",
       "Intel Core M 6Y75 1.2GHz                  5\n",
       "Intel Core i7 7Y75 1.3GHz                 5\n",
       "Intel Atom x5-Z8550 1.44GHz               4\n",
       "Intel Celeron Dual Core 3205U 1.5GHz      4\n",
       "AMD A8-Series 7410 2.2GHz                 4\n",
       "Intel Celeron Dual Core N3050 1.6GHz      4\n",
       "Intel Core i5 1.6GHz                      3\n",
       "Name: count, dtype: int64"
      ]
     },
     "execution_count": 58,
     "metadata": {},
     "output_type": "execute_result"
    }
   ],
   "source": [
    "df['Cpu'].value_counts().sort_values(ascending=False).head(40)"
   ]
  },
  {
   "cell_type": "code",
   "execution_count": 59,
   "id": "cce300ee",
   "metadata": {},
   "outputs": [],
   "source": [
    "def set_cpu(cpu):\n",
    "    cpu = cpu.split()\n",
    "    \n",
    "    if 'i5' in cpu:\n",
    "        return 'Intel Core i5'\n",
    "    \n",
    "    elif 'i7' in cpu:\n",
    "        return 'Intel Core i7'\n",
    "    \n",
    "    elif 'AMD' in cpu:\n",
    "        return 'AMD'\n",
    "    \n",
    "    elif 'Intel' in cpu:\n",
    "        return 'Other'\n",
    "    \n",
    "    else:\n",
    "        return 'Other K'"
   ]
  },
  {
   "cell_type": "code",
   "execution_count": 60,
   "id": "0855a4c6",
   "metadata": {},
   "outputs": [],
   "source": [
    "df['Cpu'] = df['Cpu'].apply(set_cpu)"
   ]
  },
  {
   "cell_type": "code",
   "execution_count": 61,
   "id": "7458c438",
   "metadata": {},
   "outputs": [
    {
     "data": {
      "text/html": [
       "<div>\n",
       "<style scoped>\n",
       "    .dataframe tbody tr th:only-of-type {\n",
       "        vertical-align: middle;\n",
       "    }\n",
       "\n",
       "    .dataframe tbody tr th {\n",
       "        vertical-align: top;\n",
       "    }\n",
       "\n",
       "    .dataframe thead th {\n",
       "        text-align: right;\n",
       "    }\n",
       "</style>\n",
       "<table border=\"1\" class=\"dataframe\">\n",
       "  <thead>\n",
       "    <tr style=\"text-align: right;\">\n",
       "      <th></th>\n",
       "      <th>Company</th>\n",
       "      <th>TypeName</th>\n",
       "      <th>Inches</th>\n",
       "      <th>ScreenResolution</th>\n",
       "      <th>Cpu</th>\n",
       "      <th>Ram</th>\n",
       "      <th>Memory</th>\n",
       "      <th>Gpu</th>\n",
       "      <th>OpSys</th>\n",
       "      <th>Weight</th>\n",
       "      <th>Price</th>\n",
       "      <th>Touch_Screen</th>\n",
       "      <th>HD</th>\n",
       "    </tr>\n",
       "  </thead>\n",
       "  <tbody>\n",
       "    <tr>\n",
       "      <th>0</th>\n",
       "      <td>Apple</td>\n",
       "      <td>Ultrabook</td>\n",
       "      <td>13.3</td>\n",
       "      <td>IPS Panel Retina Display 2560x1600</td>\n",
       "      <td>Intel Core i5</td>\n",
       "      <td>8GB</td>\n",
       "      <td>128GB SSD</td>\n",
       "      <td>Intel Iris Plus Graphics 640</td>\n",
       "      <td>macOS</td>\n",
       "      <td>1.37kg</td>\n",
       "      <td>71378.6832</td>\n",
       "      <td>no</td>\n",
       "      <td>no</td>\n",
       "    </tr>\n",
       "    <tr>\n",
       "      <th>1</th>\n",
       "      <td>Apple</td>\n",
       "      <td>Ultrabook</td>\n",
       "      <td>13.3</td>\n",
       "      <td>1440x900</td>\n",
       "      <td>Intel Core i5</td>\n",
       "      <td>8GB</td>\n",
       "      <td>128GB Flash Storage</td>\n",
       "      <td>Intel HD Graphics 6000</td>\n",
       "      <td>macOS</td>\n",
       "      <td>1.34kg</td>\n",
       "      <td>47895.5232</td>\n",
       "      <td>no</td>\n",
       "      <td>no</td>\n",
       "    </tr>\n",
       "    <tr>\n",
       "      <th>2</th>\n",
       "      <td>HP</td>\n",
       "      <td>Notebook</td>\n",
       "      <td>15.6</td>\n",
       "      <td>Full HD 1920x1080</td>\n",
       "      <td>Intel Core i5</td>\n",
       "      <td>8GB</td>\n",
       "      <td>256GB SSD</td>\n",
       "      <td>Intel HD Graphics 620</td>\n",
       "      <td>No OS</td>\n",
       "      <td>1.86kg</td>\n",
       "      <td>30636.0000</td>\n",
       "      <td>no</td>\n",
       "      <td>yes</td>\n",
       "    </tr>\n",
       "    <tr>\n",
       "      <th>3</th>\n",
       "      <td>Apple</td>\n",
       "      <td>Ultrabook</td>\n",
       "      <td>15.4</td>\n",
       "      <td>IPS Panel Retina Display 2880x1800</td>\n",
       "      <td>Intel Core i7</td>\n",
       "      <td>16GB</td>\n",
       "      <td>512GB SSD</td>\n",
       "      <td>AMD Radeon Pro 455</td>\n",
       "      <td>macOS</td>\n",
       "      <td>1.83kg</td>\n",
       "      <td>135195.3360</td>\n",
       "      <td>no</td>\n",
       "      <td>no</td>\n",
       "    </tr>\n",
       "    <tr>\n",
       "      <th>4</th>\n",
       "      <td>Apple</td>\n",
       "      <td>Ultrabook</td>\n",
       "      <td>13.3</td>\n",
       "      <td>IPS Panel Retina Display 2560x1600</td>\n",
       "      <td>Intel Core i5</td>\n",
       "      <td>8GB</td>\n",
       "      <td>256GB SSD</td>\n",
       "      <td>Intel Iris Plus Graphics 650</td>\n",
       "      <td>macOS</td>\n",
       "      <td>1.37kg</td>\n",
       "      <td>96095.8080</td>\n",
       "      <td>no</td>\n",
       "      <td>no</td>\n",
       "    </tr>\n",
       "  </tbody>\n",
       "</table>\n",
       "</div>"
      ],
      "text/plain": [
       "  Company   TypeName  Inches                    ScreenResolution  \\\n",
       "0   Apple  Ultrabook    13.3  IPS Panel Retina Display 2560x1600   \n",
       "1   Apple  Ultrabook    13.3                            1440x900   \n",
       "2      HP   Notebook    15.6                   Full HD 1920x1080   \n",
       "3   Apple  Ultrabook    15.4  IPS Panel Retina Display 2880x1800   \n",
       "4   Apple  Ultrabook    13.3  IPS Panel Retina Display 2560x1600   \n",
       "\n",
       "             Cpu   Ram               Memory                           Gpu  \\\n",
       "0  Intel Core i5   8GB            128GB SSD  Intel Iris Plus Graphics 640   \n",
       "1  Intel Core i5   8GB  128GB Flash Storage        Intel HD Graphics 6000   \n",
       "2  Intel Core i5   8GB            256GB SSD         Intel HD Graphics 620   \n",
       "3  Intel Core i7  16GB            512GB SSD            AMD Radeon Pro 455   \n",
       "4  Intel Core i5   8GB            256GB SSD  Intel Iris Plus Graphics 650   \n",
       "\n",
       "   OpSys  Weight        Price Touch_Screen   HD  \n",
       "0  macOS  1.37kg   71378.6832           no   no  \n",
       "1  macOS  1.34kg   47895.5232           no   no  \n",
       "2  No OS  1.86kg   30636.0000           no  yes  \n",
       "3  macOS  1.83kg  135195.3360           no   no  \n",
       "4  macOS  1.37kg   96095.8080           no   no  "
      ]
     },
     "execution_count": 61,
     "metadata": {},
     "output_type": "execute_result"
    }
   ],
   "source": [
    "df.head()"
   ]
  },
  {
   "cell_type": "code",
   "execution_count": 62,
   "id": "41fd6221",
   "metadata": {},
   "outputs": [],
   "source": [
    "df = df[df['Cpu'] != 'Other K']"
   ]
  },
  {
   "cell_type": "code",
   "execution_count": 63,
   "id": "575c2a38",
   "metadata": {},
   "outputs": [
    {
     "data": {
      "text/html": [
       "<div>\n",
       "<style scoped>\n",
       "    .dataframe tbody tr th:only-of-type {\n",
       "        vertical-align: middle;\n",
       "    }\n",
       "\n",
       "    .dataframe tbody tr th {\n",
       "        vertical-align: top;\n",
       "    }\n",
       "\n",
       "    .dataframe thead th {\n",
       "        text-align: right;\n",
       "    }\n",
       "</style>\n",
       "<table border=\"1\" class=\"dataframe\">\n",
       "  <thead>\n",
       "    <tr style=\"text-align: right;\">\n",
       "      <th></th>\n",
       "      <th>Company</th>\n",
       "      <th>TypeName</th>\n",
       "      <th>Inches</th>\n",
       "      <th>ScreenResolution</th>\n",
       "      <th>Cpu</th>\n",
       "      <th>Ram</th>\n",
       "      <th>Memory</th>\n",
       "      <th>Gpu</th>\n",
       "      <th>OpSys</th>\n",
       "      <th>Weight</th>\n",
       "      <th>Price</th>\n",
       "      <th>Touch_Screen</th>\n",
       "      <th>HD</th>\n",
       "    </tr>\n",
       "  </thead>\n",
       "  <tbody>\n",
       "    <tr>\n",
       "      <th>0</th>\n",
       "      <td>Apple</td>\n",
       "      <td>Ultrabook</td>\n",
       "      <td>13.3</td>\n",
       "      <td>IPS Panel Retina Display 2560x1600</td>\n",
       "      <td>Intel Core i5</td>\n",
       "      <td>8GB</td>\n",
       "      <td>128GB SSD</td>\n",
       "      <td>Intel Iris Plus Graphics 640</td>\n",
       "      <td>macOS</td>\n",
       "      <td>1.37kg</td>\n",
       "      <td>71378.6832</td>\n",
       "      <td>no</td>\n",
       "      <td>no</td>\n",
       "    </tr>\n",
       "    <tr>\n",
       "      <th>1</th>\n",
       "      <td>Apple</td>\n",
       "      <td>Ultrabook</td>\n",
       "      <td>13.3</td>\n",
       "      <td>1440x900</td>\n",
       "      <td>Intel Core i5</td>\n",
       "      <td>8GB</td>\n",
       "      <td>128GB Flash Storage</td>\n",
       "      <td>Intel HD Graphics 6000</td>\n",
       "      <td>macOS</td>\n",
       "      <td>1.34kg</td>\n",
       "      <td>47895.5232</td>\n",
       "      <td>no</td>\n",
       "      <td>no</td>\n",
       "    </tr>\n",
       "    <tr>\n",
       "      <th>2</th>\n",
       "      <td>HP</td>\n",
       "      <td>Notebook</td>\n",
       "      <td>15.6</td>\n",
       "      <td>Full HD 1920x1080</td>\n",
       "      <td>Intel Core i5</td>\n",
       "      <td>8GB</td>\n",
       "      <td>256GB SSD</td>\n",
       "      <td>Intel HD Graphics 620</td>\n",
       "      <td>No OS</td>\n",
       "      <td>1.86kg</td>\n",
       "      <td>30636.0000</td>\n",
       "      <td>no</td>\n",
       "      <td>yes</td>\n",
       "    </tr>\n",
       "    <tr>\n",
       "      <th>3</th>\n",
       "      <td>Apple</td>\n",
       "      <td>Ultrabook</td>\n",
       "      <td>15.4</td>\n",
       "      <td>IPS Panel Retina Display 2880x1800</td>\n",
       "      <td>Intel Core i7</td>\n",
       "      <td>16GB</td>\n",
       "      <td>512GB SSD</td>\n",
       "      <td>AMD Radeon Pro 455</td>\n",
       "      <td>macOS</td>\n",
       "      <td>1.83kg</td>\n",
       "      <td>135195.3360</td>\n",
       "      <td>no</td>\n",
       "      <td>no</td>\n",
       "    </tr>\n",
       "    <tr>\n",
       "      <th>4</th>\n",
       "      <td>Apple</td>\n",
       "      <td>Ultrabook</td>\n",
       "      <td>13.3</td>\n",
       "      <td>IPS Panel Retina Display 2560x1600</td>\n",
       "      <td>Intel Core i5</td>\n",
       "      <td>8GB</td>\n",
       "      <td>256GB SSD</td>\n",
       "      <td>Intel Iris Plus Graphics 650</td>\n",
       "      <td>macOS</td>\n",
       "      <td>1.37kg</td>\n",
       "      <td>96095.8080</td>\n",
       "      <td>no</td>\n",
       "      <td>no</td>\n",
       "    </tr>\n",
       "  </tbody>\n",
       "</table>\n",
       "</div>"
      ],
      "text/plain": [
       "  Company   TypeName  Inches                    ScreenResolution  \\\n",
       "0   Apple  Ultrabook    13.3  IPS Panel Retina Display 2560x1600   \n",
       "1   Apple  Ultrabook    13.3                            1440x900   \n",
       "2      HP   Notebook    15.6                   Full HD 1920x1080   \n",
       "3   Apple  Ultrabook    15.4  IPS Panel Retina Display 2880x1800   \n",
       "4   Apple  Ultrabook    13.3  IPS Panel Retina Display 2560x1600   \n",
       "\n",
       "             Cpu   Ram               Memory                           Gpu  \\\n",
       "0  Intel Core i5   8GB            128GB SSD  Intel Iris Plus Graphics 640   \n",
       "1  Intel Core i5   8GB  128GB Flash Storage        Intel HD Graphics 6000   \n",
       "2  Intel Core i5   8GB            256GB SSD         Intel HD Graphics 620   \n",
       "3  Intel Core i7  16GB            512GB SSD            AMD Radeon Pro 455   \n",
       "4  Intel Core i5   8GB            256GB SSD  Intel Iris Plus Graphics 650   \n",
       "\n",
       "   OpSys  Weight        Price Touch_Screen   HD  \n",
       "0  macOS  1.37kg   71378.6832           no   no  \n",
       "1  macOS  1.34kg   47895.5232           no   no  \n",
       "2  No OS  1.86kg   30636.0000           no  yes  \n",
       "3  macOS  1.83kg  135195.3360           no   no  \n",
       "4  macOS  1.37kg   96095.8080           no   no  "
      ]
     },
     "execution_count": 63,
     "metadata": {},
     "output_type": "execute_result"
    }
   ],
   "source": [
    "df.head()"
   ]
  },
  {
   "cell_type": "code",
   "execution_count": 64,
   "id": "cf7b16ae",
   "metadata": {},
   "outputs": [
    {
     "data": {
      "image/png": "[encoded data removed]",
      "text/plain": [
       "<Figure size 640x480 with 1 Axes>"
      ]
     },
     "metadata": {},
     "output_type": "display_data"
    }
   ],
   "source": [
    "sns.countplot(x=df['Cpu'])\n",
    "plt.show()"
   ]
  },
  {
   "cell_type": "code",
   "execution_count": 65,
   "id": "19a1c7bd",
   "metadata": {},
   "outputs": [
    {
     "data": {
      "image/png": "[encoded data removed]",
      "text/plain": [
       "<Figure size 640x480 with 1 Axes>"
      ]
     },
     "metadata": {},
     "output_type": "display_data"
    }
   ],
   "source": [
    "sns.barplot(x=df['Cpu'], y=df['Price'])\n",
    "plt.show()"
   ]
  },
  {
   "cell_type": "code",
   "execution_count": 66,
   "id": "3e51b330",
   "metadata": {},
   "outputs": [
    {
     "data": {
      "text/plain": [
       "(1273, 13)"
      ]
     },
     "execution_count": 66,
     "metadata": {},
     "output_type": "execute_result"
    }
   ],
   "source": [
    "df.shape"
   ]
  },
  {
   "cell_type": "code",
   "execution_count": 67,
   "id": "d5c993e9",
   "metadata": {},
   "outputs": [
    {
     "data": {
      "text/html": [
       "<div>\n",
       "<style scoped>\n",
       "    .dataframe tbody tr th:only-of-type {\n",
       "        vertical-align: middle;\n",
       "    }\n",
       "\n",
       "    .dataframe tbody tr th {\n",
       "        vertical-align: top;\n",
       "    }\n",
       "\n",
       "    .dataframe thead th {\n",
       "        text-align: right;\n",
       "    }\n",
       "</style>\n",
       "<table border=\"1\" class=\"dataframe\">\n",
       "  <thead>\n",
       "    <tr style=\"text-align: right;\">\n",
       "      <th></th>\n",
       "      <th>Company</th>\n",
       "      <th>TypeName</th>\n",
       "      <th>Inches</th>\n",
       "      <th>ScreenResolution</th>\n",
       "      <th>Cpu</th>\n",
       "      <th>Ram</th>\n",
       "      <th>Memory</th>\n",
       "      <th>Gpu</th>\n",
       "      <th>OpSys</th>\n",
       "      <th>Weight</th>\n",
       "      <th>Price</th>\n",
       "      <th>Touch_Screen</th>\n",
       "      <th>HD</th>\n",
       "    </tr>\n",
       "  </thead>\n",
       "  <tbody>\n",
       "    <tr>\n",
       "      <th>0</th>\n",
       "      <td>Apple</td>\n",
       "      <td>Ultrabook</td>\n",
       "      <td>13.3</td>\n",
       "      <td>IPS Panel Retina Display 2560x1600</td>\n",
       "      <td>Intel Core i5</td>\n",
       "      <td>8GB</td>\n",
       "      <td>128GB SSD</td>\n",
       "      <td>Intel Iris Plus Graphics 640</td>\n",
       "      <td>macOS</td>\n",
       "      <td>1.37kg</td>\n",
       "      <td>71378.6832</td>\n",
       "      <td>no</td>\n",
       "      <td>no</td>\n",
       "    </tr>\n",
       "    <tr>\n",
       "      <th>1</th>\n",
       "      <td>Apple</td>\n",
       "      <td>Ultrabook</td>\n",
       "      <td>13.3</td>\n",
       "      <td>1440x900</td>\n",
       "      <td>Intel Core i5</td>\n",
       "      <td>8GB</td>\n",
       "      <td>128GB Flash Storage</td>\n",
       "      <td>Intel HD Graphics 6000</td>\n",
       "      <td>macOS</td>\n",
       "      <td>1.34kg</td>\n",
       "      <td>47895.5232</td>\n",
       "      <td>no</td>\n",
       "      <td>no</td>\n",
       "    </tr>\n",
       "    <tr>\n",
       "      <th>2</th>\n",
       "      <td>HP</td>\n",
       "      <td>Notebook</td>\n",
       "      <td>15.6</td>\n",
       "      <td>Full HD 1920x1080</td>\n",
       "      <td>Intel Core i5</td>\n",
       "      <td>8GB</td>\n",
       "      <td>256GB SSD</td>\n",
       "      <td>Intel HD Graphics 620</td>\n",
       "      <td>No OS</td>\n",
       "      <td>1.86kg</td>\n",
       "      <td>30636.0000</td>\n",
       "      <td>no</td>\n",
       "      <td>yes</td>\n",
       "    </tr>\n",
       "    <tr>\n",
       "      <th>3</th>\n",
       "      <td>Apple</td>\n",
       "      <td>Ultrabook</td>\n",
       "      <td>15.4</td>\n",
       "      <td>IPS Panel Retina Display 2880x1800</td>\n",
       "      <td>Intel Core i7</td>\n",
       "      <td>16GB</td>\n",
       "      <td>512GB SSD</td>\n",
       "      <td>AMD Radeon Pro 455</td>\n",
       "      <td>macOS</td>\n",
       "      <td>1.83kg</td>\n",
       "      <td>135195.3360</td>\n",
       "      <td>no</td>\n",
       "      <td>no</td>\n",
       "    </tr>\n",
       "    <tr>\n",
       "      <th>4</th>\n",
       "      <td>Apple</td>\n",
       "      <td>Ultrabook</td>\n",
       "      <td>13.3</td>\n",
       "      <td>IPS Panel Retina Display 2560x1600</td>\n",
       "      <td>Intel Core i5</td>\n",
       "      <td>8GB</td>\n",
       "      <td>256GB SSD</td>\n",
       "      <td>Intel Iris Plus Graphics 650</td>\n",
       "      <td>macOS</td>\n",
       "      <td>1.37kg</td>\n",
       "      <td>96095.8080</td>\n",
       "      <td>no</td>\n",
       "      <td>no</td>\n",
       "    </tr>\n",
       "  </tbody>\n",
       "</table>\n",
       "</div>"
      ],
      "text/plain": [
       "  Company   TypeName  Inches                    ScreenResolution  \\\n",
       "0   Apple  Ultrabook    13.3  IPS Panel Retina Display 2560x1600   \n",
       "1   Apple  Ultrabook    13.3                            1440x900   \n",
       "2      HP   Notebook    15.6                   Full HD 1920x1080   \n",
       "3   Apple  Ultrabook    15.4  IPS Panel Retina Display 2880x1800   \n",
       "4   Apple  Ultrabook    13.3  IPS Panel Retina Display 2560x1600   \n",
       "\n",
       "             Cpu   Ram               Memory                           Gpu  \\\n",
       "0  Intel Core i5   8GB            128GB SSD  Intel Iris Plus Graphics 640   \n",
       "1  Intel Core i5   8GB  128GB Flash Storage        Intel HD Graphics 6000   \n",
       "2  Intel Core i5   8GB            256GB SSD         Intel HD Graphics 620   \n",
       "3  Intel Core i7  16GB            512GB SSD            AMD Radeon Pro 455   \n",
       "4  Intel Core i5   8GB            256GB SSD  Intel Iris Plus Graphics 650   \n",
       "\n",
       "   OpSys  Weight        Price Touch_Screen   HD  \n",
       "0  macOS  1.37kg   71378.6832           no   no  \n",
       "1  macOS  1.34kg   47895.5232           no   no  \n",
       "2  No OS  1.86kg   30636.0000           no  yes  \n",
       "3  macOS  1.83kg  135195.3360           no   no  \n",
       "4  macOS  1.37kg   96095.8080           no   no  "
      ]
     },
     "execution_count": 67,
     "metadata": {},
     "output_type": "execute_result"
    }
   ],
   "source": [
    "df.head()"
   ]
  },
  {
   "cell_type": "code",
   "execution_count": 68,
   "id": "830fc821",
   "metadata": {},
   "outputs": [
    {
     "data": {
      "image/png": "[encoded data removed]",
      "text/plain": [
       "<Figure size 640x480 with 1 Axes>"
      ]
     },
     "metadata": {},
     "output_type": "display_data"
    }
   ],
   "source": [
    "df['Ram'].value_counts().plot(kind='bar')\n",
    "plt.show()"
   ]
  },
  {
   "cell_type": "code",
   "execution_count": 69,
   "id": "0a817a51",
   "metadata": {},
   "outputs": [
    {
     "data": {
      "text/plain": [
       "Ram\n",
       "8GB     613\n",
       "4GB     365\n",
       "16GB    198\n",
       "6GB      35\n",
       "12GB     25\n",
       "32GB     17\n",
       "2GB      16\n",
       "24GB      3\n",
       "64GB      1\n",
       "Name: count, dtype: int64"
      ]
     },
     "execution_count": 69,
     "metadata": {},
     "output_type": "execute_result"
    }
   ],
   "source": [
    "df['Ram'].value_counts()"
   ]
  },
  {
   "cell_type": "code",
   "execution_count": 70,
   "id": "558bca2c",
   "metadata": {},
   "outputs": [],
   "source": [
    "df['Ram'] = df['Ram'].str.replace('GB', '')"
   ]
  },
  {
   "cell_type": "code",
   "execution_count": 71,
   "id": "46227bb9",
   "metadata": {},
   "outputs": [
    {
     "data": {
      "text/html": [
       "<div>\n",
       "<style scoped>\n",
       "    .dataframe tbody tr th:only-of-type {\n",
       "        vertical-align: middle;\n",
       "    }\n",
       "\n",
       "    .dataframe tbody tr th {\n",
       "        vertical-align: top;\n",
       "    }\n",
       "\n",
       "    .dataframe thead th {\n",
       "        text-align: right;\n",
       "    }\n",
       "</style>\n",
       "<table border=\"1\" class=\"dataframe\">\n",
       "  <thead>\n",
       "    <tr style=\"text-align: right;\">\n",
       "      <th></th>\n",
       "      <th>Company</th>\n",
       "      <th>TypeName</th>\n",
       "      <th>Inches</th>\n",
       "      <th>ScreenResolution</th>\n",
       "      <th>Cpu</th>\n",
       "      <th>Ram</th>\n",
       "      <th>Memory</th>\n",
       "      <th>Gpu</th>\n",
       "      <th>OpSys</th>\n",
       "      <th>Weight</th>\n",
       "      <th>Price</th>\n",
       "      <th>Touch_Screen</th>\n",
       "      <th>HD</th>\n",
       "    </tr>\n",
       "  </thead>\n",
       "  <tbody>\n",
       "    <tr>\n",
       "      <th>0</th>\n",
       "      <td>Apple</td>\n",
       "      <td>Ultrabook</td>\n",
       "      <td>13.3</td>\n",
       "      <td>IPS Panel Retina Display 2560x1600</td>\n",
       "      <td>Intel Core i5</td>\n",
       "      <td>8</td>\n",
       "      <td>128GB SSD</td>\n",
       "      <td>Intel Iris Plus Graphics 640</td>\n",
       "      <td>macOS</td>\n",
       "      <td>1.37kg</td>\n",
       "      <td>71378.6832</td>\n",
       "      <td>no</td>\n",
       "      <td>no</td>\n",
       "    </tr>\n",
       "    <tr>\n",
       "      <th>1</th>\n",
       "      <td>Apple</td>\n",
       "      <td>Ultrabook</td>\n",
       "      <td>13.3</td>\n",
       "      <td>1440x900</td>\n",
       "      <td>Intel Core i5</td>\n",
       "      <td>8</td>\n",
       "      <td>128GB Flash Storage</td>\n",
       "      <td>Intel HD Graphics 6000</td>\n",
       "      <td>macOS</td>\n",
       "      <td>1.34kg</td>\n",
       "      <td>47895.5232</td>\n",
       "      <td>no</td>\n",
       "      <td>no</td>\n",
       "    </tr>\n",
       "    <tr>\n",
       "      <th>2</th>\n",
       "      <td>HP</td>\n",
       "      <td>Notebook</td>\n",
       "      <td>15.6</td>\n",
       "      <td>Full HD 1920x1080</td>\n",
       "      <td>Intel Core i5</td>\n",
       "      <td>8</td>\n",
       "      <td>256GB SSD</td>\n",
       "      <td>Intel HD Graphics 620</td>\n",
       "      <td>No OS</td>\n",
       "      <td>1.86kg</td>\n",
       "      <td>30636.0000</td>\n",
       "      <td>no</td>\n",
       "      <td>yes</td>\n",
       "    </tr>\n",
       "    <tr>\n",
       "      <th>3</th>\n",
       "      <td>Apple</td>\n",
       "      <td>Ultrabook</td>\n",
       "      <td>15.4</td>\n",
       "      <td>IPS Panel Retina Display 2880x1800</td>\n",
       "      <td>Intel Core i7</td>\n",
       "      <td>16</td>\n",
       "      <td>512GB SSD</td>\n",
       "      <td>AMD Radeon Pro 455</td>\n",
       "      <td>macOS</td>\n",
       "      <td>1.83kg</td>\n",
       "      <td>135195.3360</td>\n",
       "      <td>no</td>\n",
       "      <td>no</td>\n",
       "    </tr>\n",
       "    <tr>\n",
       "      <th>4</th>\n",
       "      <td>Apple</td>\n",
       "      <td>Ultrabook</td>\n",
       "      <td>13.3</td>\n",
       "      <td>IPS Panel Retina Display 2560x1600</td>\n",
       "      <td>Intel Core i5</td>\n",
       "      <td>8</td>\n",
       "      <td>256GB SSD</td>\n",
       "      <td>Intel Iris Plus Graphics 650</td>\n",
       "      <td>macOS</td>\n",
       "      <td>1.37kg</td>\n",
       "      <td>96095.8080</td>\n",
       "      <td>no</td>\n",
       "      <td>no</td>\n",
       "    </tr>\n",
       "  </tbody>\n",
       "</table>\n",
       "</div>"
      ],
      "text/plain": [
       "  Company   TypeName  Inches                    ScreenResolution  \\\n",
       "0   Apple  Ultrabook    13.3  IPS Panel Retina Display 2560x1600   \n",
       "1   Apple  Ultrabook    13.3                            1440x900   \n",
       "2      HP   Notebook    15.6                   Full HD 1920x1080   \n",
       "3   Apple  Ultrabook    15.4  IPS Panel Retina Display 2880x1800   \n",
       "4   Apple  Ultrabook    13.3  IPS Panel Retina Display 2560x1600   \n",
       "\n",
       "             Cpu Ram               Memory                           Gpu  \\\n",
       "0  Intel Core i5   8            128GB SSD  Intel Iris Plus Graphics 640   \n",
       "1  Intel Core i5   8  128GB Flash Storage        Intel HD Graphics 6000   \n",
       "2  Intel Core i5   8            256GB SSD         Intel HD Graphics 620   \n",
       "3  Intel Core i7  16            512GB SSD            AMD Radeon Pro 455   \n",
       "4  Intel Core i5   8            256GB SSD  Intel Iris Plus Graphics 650   \n",
       "\n",
       "   OpSys  Weight        Price Touch_Screen   HD  \n",
       "0  macOS  1.37kg   71378.6832           no   no  \n",
       "1  macOS  1.34kg   47895.5232           no   no  \n",
       "2  No OS  1.86kg   30636.0000           no  yes  \n",
       "3  macOS  1.83kg  135195.3360           no   no  \n",
       "4  macOS  1.37kg   96095.8080           no   no  "
      ]
     },
     "execution_count": 71,
     "metadata": {},
     "output_type": "execute_result"
    }
   ],
   "source": [
    "df.head()"
   ]
  },
  {
   "cell_type": "code",
   "execution_count": 72,
   "id": "cb6ad3dd",
   "metadata": {},
   "outputs": [],
   "source": [
    "df['Ram'] = df['Ram'].astype('int')"
   ]
  },
  {
   "cell_type": "code",
   "execution_count": 73,
   "id": "96371f49",
   "metadata": {},
   "outputs": [
    {
     "data": {
      "text/html": [
       "<div>\n",
       "<style scoped>\n",
       "    .dataframe tbody tr th:only-of-type {\n",
       "        vertical-align: middle;\n",
       "    }\n",
       "\n",
       "    .dataframe tbody tr th {\n",
       "        vertical-align: top;\n",
       "    }\n",
       "\n",
       "    .dataframe thead th {\n",
       "        text-align: right;\n",
       "    }\n",
       "</style>\n",
       "<table border=\"1\" class=\"dataframe\">\n",
       "  <thead>\n",
       "    <tr style=\"text-align: right;\">\n",
       "      <th></th>\n",
       "      <th>Company</th>\n",
       "      <th>TypeName</th>\n",
       "      <th>Inches</th>\n",
       "      <th>ScreenResolution</th>\n",
       "      <th>Cpu</th>\n",
       "      <th>Ram</th>\n",
       "      <th>Memory</th>\n",
       "      <th>Gpu</th>\n",
       "      <th>OpSys</th>\n",
       "      <th>Weight</th>\n",
       "      <th>Price</th>\n",
       "      <th>Touch_Screen</th>\n",
       "      <th>HD</th>\n",
       "    </tr>\n",
       "  </thead>\n",
       "  <tbody>\n",
       "    <tr>\n",
       "      <th>0</th>\n",
       "      <td>Apple</td>\n",
       "      <td>Ultrabook</td>\n",
       "      <td>13.3</td>\n",
       "      <td>IPS Panel Retina Display 2560x1600</td>\n",
       "      <td>Intel Core i5</td>\n",
       "      <td>8</td>\n",
       "      <td>128GB SSD</td>\n",
       "      <td>Intel Iris Plus Graphics 640</td>\n",
       "      <td>macOS</td>\n",
       "      <td>1.37kg</td>\n",
       "      <td>71378.6832</td>\n",
       "      <td>no</td>\n",
       "      <td>no</td>\n",
       "    </tr>\n",
       "    <tr>\n",
       "      <th>1</th>\n",
       "      <td>Apple</td>\n",
       "      <td>Ultrabook</td>\n",
       "      <td>13.3</td>\n",
       "      <td>1440x900</td>\n",
       "      <td>Intel Core i5</td>\n",
       "      <td>8</td>\n",
       "      <td>128GB Flash Storage</td>\n",
       "      <td>Intel HD Graphics 6000</td>\n",
       "      <td>macOS</td>\n",
       "      <td>1.34kg</td>\n",
       "      <td>47895.5232</td>\n",
       "      <td>no</td>\n",
       "      <td>no</td>\n",
       "    </tr>\n",
       "    <tr>\n",
       "      <th>2</th>\n",
       "      <td>HP</td>\n",
       "      <td>Notebook</td>\n",
       "      <td>15.6</td>\n",
       "      <td>Full HD 1920x1080</td>\n",
       "      <td>Intel Core i5</td>\n",
       "      <td>8</td>\n",
       "      <td>256GB SSD</td>\n",
       "      <td>Intel HD Graphics 620</td>\n",
       "      <td>No OS</td>\n",
       "      <td>1.86kg</td>\n",
       "      <td>30636.0000</td>\n",
       "      <td>no</td>\n",
       "      <td>yes</td>\n",
       "    </tr>\n",
       "    <tr>\n",
       "      <th>3</th>\n",
       "      <td>Apple</td>\n",
       "      <td>Ultrabook</td>\n",
       "      <td>15.4</td>\n",
       "      <td>IPS Panel Retina Display 2880x1800</td>\n",
       "      <td>Intel Core i7</td>\n",
       "      <td>16</td>\n",
       "      <td>512GB SSD</td>\n",
       "      <td>AMD Radeon Pro 455</td>\n",
       "      <td>macOS</td>\n",
       "      <td>1.83kg</td>\n",
       "      <td>135195.3360</td>\n",
       "      <td>no</td>\n",
       "      <td>no</td>\n",
       "    </tr>\n",
       "    <tr>\n",
       "      <th>4</th>\n",
       "      <td>Apple</td>\n",
       "      <td>Ultrabook</td>\n",
       "      <td>13.3</td>\n",
       "      <td>IPS Panel Retina Display 2560x1600</td>\n",
       "      <td>Intel Core i5</td>\n",
       "      <td>8</td>\n",
       "      <td>256GB SSD</td>\n",
       "      <td>Intel Iris Plus Graphics 650</td>\n",
       "      <td>macOS</td>\n",
       "      <td>1.37kg</td>\n",
       "      <td>96095.8080</td>\n",
       "      <td>no</td>\n",
       "      <td>no</td>\n",
       "    </tr>\n",
       "  </tbody>\n",
       "</table>\n",
       "</div>"
      ],
      "text/plain": [
       "  Company   TypeName  Inches                    ScreenResolution  \\\n",
       "0   Apple  Ultrabook    13.3  IPS Panel Retina Display 2560x1600   \n",
       "1   Apple  Ultrabook    13.3                            1440x900   \n",
       "2      HP   Notebook    15.6                   Full HD 1920x1080   \n",
       "3   Apple  Ultrabook    15.4  IPS Panel Retina Display 2880x1800   \n",
       "4   Apple  Ultrabook    13.3  IPS Panel Retina Display 2560x1600   \n",
       "\n",
       "             Cpu  Ram               Memory                           Gpu  \\\n",
       "0  Intel Core i5    8            128GB SSD  Intel Iris Plus Graphics 640   \n",
       "1  Intel Core i5    8  128GB Flash Storage        Intel HD Graphics 6000   \n",
       "2  Intel Core i5    8            256GB SSD         Intel HD Graphics 620   \n",
       "3  Intel Core i7   16            512GB SSD            AMD Radeon Pro 455   \n",
       "4  Intel Core i5    8            256GB SSD  Intel Iris Plus Graphics 650   \n",
       "\n",
       "   OpSys  Weight        Price Touch_Screen   HD  \n",
       "0  macOS  1.37kg   71378.6832           no   no  \n",
       "1  macOS  1.34kg   47895.5232           no   no  \n",
       "2  No OS  1.86kg   30636.0000           no  yes  \n",
       "3  macOS  1.83kg  135195.3360           no   no  \n",
       "4  macOS  1.37kg   96095.8080           no   no  "
      ]
     },
     "execution_count": 73,
     "metadata": {},
     "output_type": "execute_result"
    }
   ],
   "source": [
    "df.head()"
   ]
  },
  {
   "cell_type": "code",
   "execution_count": 74,
   "id": "ae1d9e33",
   "metadata": {},
   "outputs": [
    {
     "data": {
      "image/png": "[encoded data removed]",
      "text/plain": [
       "<Figure size 640x480 with 1 Axes>"
      ]
     },
     "metadata": {},
     "output_type": "display_data"
    }
   ],
   "source": [
    "df['Memory'].value_counts().plot(kind='bar')\n",
    "plt.show()"
   ]
  },
  {
   "cell_type": "code",
   "execution_count": 75,
   "id": "2d4ab475",
   "metadata": {},
   "outputs": [
    {
     "data": {
      "text/plain": [
       "Memory\n",
       "1TB HDD +  1TB HDD           1\n",
       "32GB HDD                     1\n",
       "64GB SSD                     1\n",
       "128GB HDD                    1\n",
       "240GB SSD                    1\n",
       "8GB SSD                      1\n",
       "508GB Hybrid                 1\n",
       "1.0TB HDD                    1\n",
       "512GB SSD +  1.0TB Hybrid    1\n",
       "256GB SSD +  1.0TB Hybrid    1\n",
       "Name: count, dtype: int64"
      ]
     },
     "execution_count": 75,
     "metadata": {},
     "output_type": "execute_result"
    }
   ],
   "source": [
    "df['Memory'].value_counts().tail(10)"
   ]
  },
  {
   "cell_type": "code",
   "execution_count": 76,
   "id": "883e2d4a",
   "metadata": {},
   "outputs": [],
   "source": [
    "def split_drive(drive):\n",
    "    \n",
    "    drive = drive.split()\n",
    "    \n",
    "    if 'SSD' in drive:\n",
    "        return 'SSD'\n",
    "    \n",
    "    elif 'HDD' in drive:\n",
    "        return 'HDD'\n",
    "    \n",
    "    else:\n",
    "        return 'Other'"
   ]
  },
  {
   "cell_type": "code",
   "execution_count": 77,
   "id": "0bc0965d",
   "metadata": {},
   "outputs": [
    {
     "data": {
      "text/plain": [
       "'SSD'"
      ]
     },
     "execution_count": 77,
     "metadata": {},
     "output_type": "execute_result"
    }
   ],
   "source": [
    "split_drive(\"8GB SSD\")"
   ]
  },
  {
   "cell_type": "code",
   "execution_count": 78,
   "id": "6fccf415",
   "metadata": {},
   "outputs": [
    {
     "data": {
      "image/png": "[encoded data removed]",
      "text/plain": [
       "<Figure size 640x480 with 1 Axes>"
      ]
     },
     "metadata": {},
     "output_type": "display_data"
    }
   ],
   "source": [
    "df['Memory'].apply(split_drive).value_counts().plot(kind='bar')\n",
    "plt.show()"
   ]
  },
  {
   "cell_type": "code",
   "execution_count": 79,
   "id": "5853c13d",
   "metadata": {},
   "outputs": [],
   "source": [
    "df['Memory_Drive'] = df['Memory'].apply(split_drive)"
   ]
  },
  {
   "cell_type": "code",
   "execution_count": 80,
   "id": "c9f66fb8",
   "metadata": {},
   "outputs": [
    {
     "data": {
      "text/html": [
       "<div>\n",
       "<style scoped>\n",
       "    .dataframe tbody tr th:only-of-type {\n",
       "        vertical-align: middle;\n",
       "    }\n",
       "\n",
       "    .dataframe tbody tr th {\n",
       "        vertical-align: top;\n",
       "    }\n",
       "\n",
       "    .dataframe thead th {\n",
       "        text-align: right;\n",
       "    }\n",
       "</style>\n",
       "<table border=\"1\" class=\"dataframe\">\n",
       "  <thead>\n",
       "    <tr style=\"text-align: right;\">\n",
       "      <th></th>\n",
       "      <th>Company</th>\n",
       "      <th>TypeName</th>\n",
       "      <th>Inches</th>\n",
       "      <th>ScreenResolution</th>\n",
       "      <th>Cpu</th>\n",
       "      <th>Ram</th>\n",
       "      <th>Memory</th>\n",
       "      <th>Gpu</th>\n",
       "      <th>OpSys</th>\n",
       "      <th>Weight</th>\n",
       "      <th>Price</th>\n",
       "      <th>Touch_Screen</th>\n",
       "      <th>HD</th>\n",
       "      <th>Memory_Drive</th>\n",
       "    </tr>\n",
       "  </thead>\n",
       "  <tbody>\n",
       "    <tr>\n",
       "      <th>0</th>\n",
       "      <td>Apple</td>\n",
       "      <td>Ultrabook</td>\n",
       "      <td>13.3</td>\n",
       "      <td>IPS Panel Retina Display 2560x1600</td>\n",
       "      <td>Intel Core i5</td>\n",
       "      <td>8</td>\n",
       "      <td>128GB SSD</td>\n",
       "      <td>Intel Iris Plus Graphics 640</td>\n",
       "      <td>macOS</td>\n",
       "      <td>1.37kg</td>\n",
       "      <td>71378.6832</td>\n",
       "      <td>no</td>\n",
       "      <td>no</td>\n",
       "      <td>SSD</td>\n",
       "    </tr>\n",
       "    <tr>\n",
       "      <th>1</th>\n",
       "      <td>Apple</td>\n",
       "      <td>Ultrabook</td>\n",
       "      <td>13.3</td>\n",
       "      <td>1440x900</td>\n",
       "      <td>Intel Core i5</td>\n",
       "      <td>8</td>\n",
       "      <td>128GB Flash Storage</td>\n",
       "      <td>Intel HD Graphics 6000</td>\n",
       "      <td>macOS</td>\n",
       "      <td>1.34kg</td>\n",
       "      <td>47895.5232</td>\n",
       "      <td>no</td>\n",
       "      <td>no</td>\n",
       "      <td>Other</td>\n",
       "    </tr>\n",
       "    <tr>\n",
       "      <th>2</th>\n",
       "      <td>HP</td>\n",
       "      <td>Notebook</td>\n",
       "      <td>15.6</td>\n",
       "      <td>Full HD 1920x1080</td>\n",
       "      <td>Intel Core i5</td>\n",
       "      <td>8</td>\n",
       "      <td>256GB SSD</td>\n",
       "      <td>Intel HD Graphics 620</td>\n",
       "      <td>No OS</td>\n",
       "      <td>1.86kg</td>\n",
       "      <td>30636.0000</td>\n",
       "      <td>no</td>\n",
       "      <td>yes</td>\n",
       "      <td>SSD</td>\n",
       "    </tr>\n",
       "    <tr>\n",
       "      <th>3</th>\n",
       "      <td>Apple</td>\n",
       "      <td>Ultrabook</td>\n",
       "      <td>15.4</td>\n",
       "      <td>IPS Panel Retina Display 2880x1800</td>\n",
       "      <td>Intel Core i7</td>\n",
       "      <td>16</td>\n",
       "      <td>512GB SSD</td>\n",
       "      <td>AMD Radeon Pro 455</td>\n",
       "      <td>macOS</td>\n",
       "      <td>1.83kg</td>\n",
       "      <td>135195.3360</td>\n",
       "      <td>no</td>\n",
       "      <td>no</td>\n",
       "      <td>SSD</td>\n",
       "    </tr>\n",
       "    <tr>\n",
       "      <th>4</th>\n",
       "      <td>Apple</td>\n",
       "      <td>Ultrabook</td>\n",
       "      <td>13.3</td>\n",
       "      <td>IPS Panel Retina Display 2560x1600</td>\n",
       "      <td>Intel Core i5</td>\n",
       "      <td>8</td>\n",
       "      <td>256GB SSD</td>\n",
       "      <td>Intel Iris Plus Graphics 650</td>\n",
       "      <td>macOS</td>\n",
       "      <td>1.37kg</td>\n",
       "      <td>96095.8080</td>\n",
       "      <td>no</td>\n",
       "      <td>no</td>\n",
       "      <td>SSD</td>\n",
       "    </tr>\n",
       "  </tbody>\n",
       "</table>\n",
       "</div>"
      ],
      "text/plain": [
       "  Company   TypeName  Inches                    ScreenResolution  \\\n",
       "0   Apple  Ultrabook    13.3  IPS Panel Retina Display 2560x1600   \n",
       "1   Apple  Ultrabook    13.3                            1440x900   \n",
       "2      HP   Notebook    15.6                   Full HD 1920x1080   \n",
       "3   Apple  Ultrabook    15.4  IPS Panel Retina Display 2880x1800   \n",
       "4   Apple  Ultrabook    13.3  IPS Panel Retina Display 2560x1600   \n",
       "\n",
       "             Cpu  Ram               Memory                           Gpu  \\\n",
       "0  Intel Core i5    8            128GB SSD  Intel Iris Plus Graphics 640   \n",
       "1  Intel Core i5    8  128GB Flash Storage        Intel HD Graphics 6000   \n",
       "2  Intel Core i5    8            256GB SSD         Intel HD Graphics 620   \n",
       "3  Intel Core i7   16            512GB SSD            AMD Radeon Pro 455   \n",
       "4  Intel Core i5    8            256GB SSD  Intel Iris Plus Graphics 650   \n",
       "\n",
       "   OpSys  Weight        Price Touch_Screen   HD Memory_Drive  \n",
       "0  macOS  1.37kg   71378.6832           no   no          SSD  \n",
       "1  macOS  1.34kg   47895.5232           no   no        Other  \n",
       "2  No OS  1.86kg   30636.0000           no  yes          SSD  \n",
       "3  macOS  1.83kg  135195.3360           no   no          SSD  \n",
       "4  macOS  1.37kg   96095.8080           no   no          SSD  "
      ]
     },
     "execution_count": 80,
     "metadata": {},
     "output_type": "execute_result"
    }
   ],
   "source": [
    "df.head()"
   ]
  },
  {
   "cell_type": "code",
   "execution_count": 81,
   "id": "0b28e872",
   "metadata": {},
   "outputs": [
    {
     "data": {
      "text/plain": [
       "Company              object\n",
       "TypeName             object\n",
       "Inches              float64\n",
       "ScreenResolution     object\n",
       "Cpu                  object\n",
       "Ram                   int32\n",
       "Memory               object\n",
       "Gpu                  object\n",
       "OpSys                object\n",
       "Weight               object\n",
       "Price               float64\n",
       "Touch_Screen         object\n",
       "HD                   object\n",
       "Memory_Drive         object\n",
       "dtype: object"
      ]
     },
     "execution_count": 81,
     "metadata": {},
     "output_type": "execute_result"
    }
   ],
   "source": [
    "df.dtypes"
   ]
  },
  {
   "cell_type": "code",
   "execution_count": 82,
   "id": "68621bf2",
   "metadata": {},
   "outputs": [
    {
     "data": {
      "text/plain": [
       "0              128GB SSD\n",
       "1    128GB Flash Storage\n",
       "2              256GB SSD\n",
       "3              512GB SSD\n",
       "4              256GB SSD\n",
       "5              500GB HDD\n",
       "6    256GB Flash Storage\n",
       "7    256GB Flash Storage\n",
       "8              512GB SSD\n",
       "9              256GB SSD\n",
       "Name: Memory, dtype: object"
      ]
     },
     "execution_count": 82,
     "metadata": {},
     "output_type": "execute_result"
    }
   ],
   "source": [
    "df['Memory'].head(10)"
   ]
  },
  {
   "cell_type": "code",
   "execution_count": 83,
   "id": "3a81d364",
   "metadata": {},
   "outputs": [
    {
     "data": {
      "text/plain": [
       "0                  [128GB, SSD]\n",
       "1       [128GB, Flash, Storage]\n",
       "2                  [256GB, SSD]\n",
       "3                  [512GB, SSD]\n",
       "4                  [256GB, SSD]\n",
       "                 ...           \n",
       "1269               [500GB, HDD]\n",
       "1270               [128GB, SSD]\n",
       "1271               [512GB, SSD]\n",
       "1272     [64GB, Flash, Storage]\n",
       "1273                 [1TB, HDD]\n",
       "Name: Memory, Length: 1273, dtype: object"
      ]
     },
     "execution_count": 83,
     "metadata": {},
     "output_type": "execute_result"
    }
   ],
   "source": [
    "df['Memory'].str.split()"
   ]
  },
  {
   "cell_type": "code",
   "execution_count": 84,
   "id": "0305a9f0",
   "metadata": {},
   "outputs": [],
   "source": [
    "import re"
   ]
  },
  {
   "cell_type": "code",
   "execution_count": 85,
   "id": "e611f325",
   "metadata": {},
   "outputs": [],
   "source": [
    "def extract_storage_num(value):\n",
    "    \n",
    "    pattern = r'\\d+'\n",
    "    \n",
    "    matches = re.findall(pattern, value)\n",
    "    if matches:\n",
    "        number = int(matches[0])  # Convert the first match to an integer\n",
    "        return number"
   ]
  },
  {
   "cell_type": "code",
   "execution_count": 86,
   "id": "fdd3304e",
   "metadata": {},
   "outputs": [
    {
     "data": {
      "text/plain": [
       "256"
      ]
     },
     "execution_count": 86,
     "metadata": {},
     "output_type": "execute_result"
    }
   ],
   "source": [
    "extract_storage_num(\"256GB Flash Storage\")"
   ]
  },
  {
   "cell_type": "code",
   "execution_count": 87,
   "id": "cbbefecf",
   "metadata": {},
   "outputs": [],
   "source": [
    "df['Storage'] = df['Memory'].apply(extract_storage_num).astype('int')"
   ]
  },
  {
   "cell_type": "code",
   "execution_count": 88,
   "id": "d928ea1f",
   "metadata": {},
   "outputs": [
    {
     "data": {
      "text/html": [
       "<div>\n",
       "<style scoped>\n",
       "    .dataframe tbody tr th:only-of-type {\n",
       "        vertical-align: middle;\n",
       "    }\n",
       "\n",
       "    .dataframe tbody tr th {\n",
       "        vertical-align: top;\n",
       "    }\n",
       "\n",
       "    .dataframe thead th {\n",
       "        text-align: right;\n",
       "    }\n",
       "</style>\n",
       "<table border=\"1\" class=\"dataframe\">\n",
       "  <thead>\n",
       "    <tr style=\"text-align: right;\">\n",
       "      <th></th>\n",
       "      <th>Company</th>\n",
       "      <th>TypeName</th>\n",
       "      <th>Inches</th>\n",
       "      <th>ScreenResolution</th>\n",
       "      <th>Cpu</th>\n",
       "      <th>Ram</th>\n",
       "      <th>Memory</th>\n",
       "      <th>Gpu</th>\n",
       "      <th>OpSys</th>\n",
       "      <th>Weight</th>\n",
       "      <th>Price</th>\n",
       "      <th>Touch_Screen</th>\n",
       "      <th>HD</th>\n",
       "      <th>Memory_Drive</th>\n",
       "      <th>Storage</th>\n",
       "    </tr>\n",
       "  </thead>\n",
       "  <tbody>\n",
       "    <tr>\n",
       "      <th>0</th>\n",
       "      <td>Apple</td>\n",
       "      <td>Ultrabook</td>\n",
       "      <td>13.3</td>\n",
       "      <td>IPS Panel Retina Display 2560x1600</td>\n",
       "      <td>Intel Core i5</td>\n",
       "      <td>8</td>\n",
       "      <td>128GB SSD</td>\n",
       "      <td>Intel Iris Plus Graphics 640</td>\n",
       "      <td>macOS</td>\n",
       "      <td>1.37kg</td>\n",
       "      <td>71378.6832</td>\n",
       "      <td>no</td>\n",
       "      <td>no</td>\n",
       "      <td>SSD</td>\n",
       "      <td>128</td>\n",
       "    </tr>\n",
       "    <tr>\n",
       "      <th>1</th>\n",
       "      <td>Apple</td>\n",
       "      <td>Ultrabook</td>\n",
       "      <td>13.3</td>\n",
       "      <td>1440x900</td>\n",
       "      <td>Intel Core i5</td>\n",
       "      <td>8</td>\n",
       "      <td>128GB Flash Storage</td>\n",
       "      <td>Intel HD Graphics 6000</td>\n",
       "      <td>macOS</td>\n",
       "      <td>1.34kg</td>\n",
       "      <td>47895.5232</td>\n",
       "      <td>no</td>\n",
       "      <td>no</td>\n",
       "      <td>Other</td>\n",
       "      <td>128</td>\n",
       "    </tr>\n",
       "    <tr>\n",
       "      <th>2</th>\n",
       "      <td>HP</td>\n",
       "      <td>Notebook</td>\n",
       "      <td>15.6</td>\n",
       "      <td>Full HD 1920x1080</td>\n",
       "      <td>Intel Core i5</td>\n",
       "      <td>8</td>\n",
       "      <td>256GB SSD</td>\n",
       "      <td>Intel HD Graphics 620</td>\n",
       "      <td>No OS</td>\n",
       "      <td>1.86kg</td>\n",
       "      <td>30636.0000</td>\n",
       "      <td>no</td>\n",
       "      <td>yes</td>\n",
       "      <td>SSD</td>\n",
       "      <td>256</td>\n",
       "    </tr>\n",
       "    <tr>\n",
       "      <th>3</th>\n",
       "      <td>Apple</td>\n",
       "      <td>Ultrabook</td>\n",
       "      <td>15.4</td>\n",
       "      <td>IPS Panel Retina Display 2880x1800</td>\n",
       "      <td>Intel Core i7</td>\n",
       "      <td>16</td>\n",
       "      <td>512GB SSD</td>\n",
       "      <td>AMD Radeon Pro 455</td>\n",
       "      <td>macOS</td>\n",
       "      <td>1.83kg</td>\n",
       "      <td>135195.3360</td>\n",
       "      <td>no</td>\n",
       "      <td>no</td>\n",
       "      <td>SSD</td>\n",
       "      <td>512</td>\n",
       "    </tr>\n",
       "    <tr>\n",
       "      <th>4</th>\n",
       "      <td>Apple</td>\n",
       "      <td>Ultrabook</td>\n",
       "      <td>13.3</td>\n",
       "      <td>IPS Panel Retina Display 2560x1600</td>\n",
       "      <td>Intel Core i5</td>\n",
       "      <td>8</td>\n",
       "      <td>256GB SSD</td>\n",
       "      <td>Intel Iris Plus Graphics 650</td>\n",
       "      <td>macOS</td>\n",
       "      <td>1.37kg</td>\n",
       "      <td>96095.8080</td>\n",
       "      <td>no</td>\n",
       "      <td>no</td>\n",
       "      <td>SSD</td>\n",
       "      <td>256</td>\n",
       "    </tr>\n",
       "  </tbody>\n",
       "</table>\n",
       "</div>"
      ],
      "text/plain": [
       "  Company   TypeName  Inches                    ScreenResolution  \\\n",
       "0   Apple  Ultrabook    13.3  IPS Panel Retina Display 2560x1600   \n",
       "1   Apple  Ultrabook    13.3                            1440x900   \n",
       "2      HP   Notebook    15.6                   Full HD 1920x1080   \n",
       "3   Apple  Ultrabook    15.4  IPS Panel Retina Display 2880x1800   \n",
       "4   Apple  Ultrabook    13.3  IPS Panel Retina Display 2560x1600   \n",
       "\n",
       "             Cpu  Ram               Memory                           Gpu  \\\n",
       "0  Intel Core i5    8            128GB SSD  Intel Iris Plus Graphics 640   \n",
       "1  Intel Core i5    8  128GB Flash Storage        Intel HD Graphics 6000   \n",
       "2  Intel Core i5    8            256GB SSD         Intel HD Graphics 620   \n",
       "3  Intel Core i7   16            512GB SSD            AMD Radeon Pro 455   \n",
       "4  Intel Core i5    8            256GB SSD  Intel Iris Plus Graphics 650   \n",
       "\n",
       "   OpSys  Weight        Price Touch_Screen   HD Memory_Drive  Storage  \n",
       "0  macOS  1.37kg   71378.6832           no   no          SSD      128  \n",
       "1  macOS  1.34kg   47895.5232           no   no        Other      128  \n",
       "2  No OS  1.86kg   30636.0000           no  yes          SSD      256  \n",
       "3  macOS  1.83kg  135195.3360           no   no          SSD      512  \n",
       "4  macOS  1.37kg   96095.8080           no   no          SSD      256  "
      ]
     },
     "execution_count": 88,
     "metadata": {},
     "output_type": "execute_result"
    }
   ],
   "source": [
    "df.head()"
   ]
  },
  {
   "cell_type": "code",
   "execution_count": 89,
   "id": "c522d662",
   "metadata": {},
   "outputs": [
    {
     "data": {
      "text/plain": [
       "Storage\n",
       "256    508\n",
       "1      240\n",
       "128    175\n",
       "512    136\n",
       "500    123\n",
       "32      42\n",
       "2       16\n",
       "64      15\n",
       "16      10\n",
       "180      5\n",
       "240      1\n",
       "8        1\n",
       "508      1\n",
       "Name: count, dtype: int64"
      ]
     },
     "execution_count": 89,
     "metadata": {},
     "output_type": "execute_result"
    }
   ],
   "source": [
    "df['Storage'].value_counts()"
   ]
  },
  {
   "cell_type": "code",
   "execution_count": 90,
   "id": "ed774b78",
   "metadata": {},
   "outputs": [
    {
     "data": {
      "text/html": [
       "<div>\n",
       "<style scoped>\n",
       "    .dataframe tbody tr th:only-of-type {\n",
       "        vertical-align: middle;\n",
       "    }\n",
       "\n",
       "    .dataframe tbody tr th {\n",
       "        vertical-align: top;\n",
       "    }\n",
       "\n",
       "    .dataframe thead th {\n",
       "        text-align: right;\n",
       "    }\n",
       "</style>\n",
       "<table border=\"1\" class=\"dataframe\">\n",
       "  <thead>\n",
       "    <tr style=\"text-align: right;\">\n",
       "      <th></th>\n",
       "      <th>Company</th>\n",
       "      <th>TypeName</th>\n",
       "      <th>Inches</th>\n",
       "      <th>ScreenResolution</th>\n",
       "      <th>Cpu</th>\n",
       "      <th>Ram</th>\n",
       "      <th>Memory</th>\n",
       "      <th>Gpu</th>\n",
       "      <th>OpSys</th>\n",
       "      <th>Weight</th>\n",
       "      <th>Price</th>\n",
       "      <th>Touch_Screen</th>\n",
       "      <th>HD</th>\n",
       "      <th>Memory_Drive</th>\n",
       "      <th>Storage</th>\n",
       "    </tr>\n",
       "  </thead>\n",
       "  <tbody>\n",
       "    <tr>\n",
       "      <th>950</th>\n",
       "      <td>HP</td>\n",
       "      <td>Workstation</td>\n",
       "      <td>15.6</td>\n",
       "      <td>IPS Panel Full HD 1920x1080</td>\n",
       "      <td>Intel Core i7</td>\n",
       "      <td>8</td>\n",
       "      <td>8GB SSD</td>\n",
       "      <td>Nvidia Quadro M1000M</td>\n",
       "      <td>Windows 10</td>\n",
       "      <td>2.0kg</td>\n",
       "      <td>119826.72</td>\n",
       "      <td>no</td>\n",
       "      <td>yes</td>\n",
       "      <td>SSD</td>\n",
       "      <td>8</td>\n",
       "    </tr>\n",
       "  </tbody>\n",
       "</table>\n",
       "</div>"
      ],
      "text/plain": [
       "    Company     TypeName  Inches             ScreenResolution            Cpu  \\\n",
       "950      HP  Workstation    15.6  IPS Panel Full HD 1920x1080  Intel Core i7   \n",
       "\n",
       "     Ram   Memory                   Gpu       OpSys Weight      Price  \\\n",
       "950    8  8GB SSD  Nvidia Quadro M1000M  Windows 10  2.0kg  119826.72   \n",
       "\n",
       "    Touch_Screen   HD Memory_Drive  Storage  \n",
       "950           no  yes          SSD        8  "
      ]
     },
     "execution_count": 90,
     "metadata": {},
     "output_type": "execute_result"
    }
   ],
   "source": [
    "df[df['Storage'] == 8]"
   ]
  },
  {
   "cell_type": "code",
   "execution_count": 91,
   "id": "d5138dbc",
   "metadata": {},
   "outputs": [],
   "source": [
    "def resolve_storage(storage):\n",
    "    \n",
    "    if storage < 10:\n",
    "        final_storage = storage * 1000\n",
    "        \n",
    "        return final_storage\n",
    "    \n",
    "    else:\n",
    "        return storage"
   ]
  },
  {
   "cell_type": "code",
   "execution_count": 92,
   "id": "22c820e5",
   "metadata": {},
   "outputs": [
    {
     "data": {
      "text/plain": [
       "5000"
      ]
     },
     "execution_count": 92,
     "metadata": {},
     "output_type": "execute_result"
    }
   ],
   "source": [
    "resolve_storage(5)"
   ]
  },
  {
   "cell_type": "code",
   "execution_count": 93,
   "id": "b3cead6a",
   "metadata": {},
   "outputs": [
    {
     "data": {
      "text/plain": [
       "Company              object\n",
       "TypeName             object\n",
       "Inches              float64\n",
       "ScreenResolution     object\n",
       "Cpu                  object\n",
       "Ram                   int32\n",
       "Memory               object\n",
       "Gpu                  object\n",
       "OpSys                object\n",
       "Weight               object\n",
       "Price               float64\n",
       "Touch_Screen         object\n",
       "HD                   object\n",
       "Memory_Drive         object\n",
       "Storage               int32\n",
       "dtype: object"
      ]
     },
     "execution_count": 93,
     "metadata": {},
     "output_type": "execute_result"
    }
   ],
   "source": [
    "df.dtypes"
   ]
  },
  {
   "cell_type": "code",
   "execution_count": 94,
   "id": "b65a59ad",
   "metadata": {},
   "outputs": [],
   "source": [
    "df['Storage'] = df['Storage'].apply(resolve_storage)"
   ]
  },
  {
   "cell_type": "code",
   "execution_count": 95,
   "id": "3aed76fe",
   "metadata": {},
   "outputs": [
    {
     "data": {
      "text/html": [
       "<div>\n",
       "<style scoped>\n",
       "    .dataframe tbody tr th:only-of-type {\n",
       "        vertical-align: middle;\n",
       "    }\n",
       "\n",
       "    .dataframe tbody tr th {\n",
       "        vertical-align: top;\n",
       "    }\n",
       "\n",
       "    .dataframe thead th {\n",
       "        text-align: right;\n",
       "    }\n",
       "</style>\n",
       "<table border=\"1\" class=\"dataframe\">\n",
       "  <thead>\n",
       "    <tr style=\"text-align: right;\">\n",
       "      <th></th>\n",
       "      <th>Company</th>\n",
       "      <th>TypeName</th>\n",
       "      <th>Inches</th>\n",
       "      <th>ScreenResolution</th>\n",
       "      <th>Cpu</th>\n",
       "      <th>Ram</th>\n",
       "      <th>Memory</th>\n",
       "      <th>Gpu</th>\n",
       "      <th>OpSys</th>\n",
       "      <th>Weight</th>\n",
       "      <th>Price</th>\n",
       "      <th>Touch_Screen</th>\n",
       "      <th>HD</th>\n",
       "      <th>Memory_Drive</th>\n",
       "      <th>Storage</th>\n",
       "    </tr>\n",
       "  </thead>\n",
       "  <tbody>\n",
       "    <tr>\n",
       "      <th>525</th>\n",
       "      <td>Lenovo</td>\n",
       "      <td>Notebook</td>\n",
       "      <td>14.0</td>\n",
       "      <td>Full HD 1920x1080</td>\n",
       "      <td>Intel Core i5</td>\n",
       "      <td>8</td>\n",
       "      <td>256GB SSD</td>\n",
       "      <td>Intel HD Graphics 520</td>\n",
       "      <td>Windows 7</td>\n",
       "      <td>2.02kg</td>\n",
       "      <td>71395.2000</td>\n",
       "      <td>no</td>\n",
       "      <td>yes</td>\n",
       "      <td>SSD</td>\n",
       "      <td>256</td>\n",
       "    </tr>\n",
       "    <tr>\n",
       "      <th>259</th>\n",
       "      <td>Lenovo</td>\n",
       "      <td>2 in 1 Convertible</td>\n",
       "      <td>15.6</td>\n",
       "      <td>IPS Panel Full HD / Touchscreen 1920x1080</td>\n",
       "      <td>Intel Core i7</td>\n",
       "      <td>8</td>\n",
       "      <td>512GB SSD</td>\n",
       "      <td>Nvidia GeForce GTX 1050M</td>\n",
       "      <td>Windows 10</td>\n",
       "      <td>2kg</td>\n",
       "      <td>90522.7200</td>\n",
       "      <td>yes</td>\n",
       "      <td>yes</td>\n",
       "      <td>SSD</td>\n",
       "      <td>512</td>\n",
       "    </tr>\n",
       "    <tr>\n",
       "      <th>519</th>\n",
       "      <td>Asus</td>\n",
       "      <td>Gaming</td>\n",
       "      <td>17.3</td>\n",
       "      <td>Full HD 1920x1080</td>\n",
       "      <td>Intel Core i7</td>\n",
       "      <td>16</td>\n",
       "      <td>256GB SSD +  1TB HDD</td>\n",
       "      <td>Nvidia GeForce GTX1050 Ti</td>\n",
       "      <td>Windows 10</td>\n",
       "      <td>3kg</td>\n",
       "      <td>80133.1200</td>\n",
       "      <td>no</td>\n",
       "      <td>yes</td>\n",
       "      <td>SSD</td>\n",
       "      <td>256</td>\n",
       "    </tr>\n",
       "    <tr>\n",
       "      <th>430</th>\n",
       "      <td>Other</td>\n",
       "      <td>Netbook</td>\n",
       "      <td>11.6</td>\n",
       "      <td>1366x768</td>\n",
       "      <td>Other</td>\n",
       "      <td>4</td>\n",
       "      <td>16GB Flash Storage</td>\n",
       "      <td>Intel HD Graphics 400</td>\n",
       "      <td>Chrome OS</td>\n",
       "      <td>1.15kg</td>\n",
       "      <td>14332.3200</td>\n",
       "      <td>no</td>\n",
       "      <td>no</td>\n",
       "      <td>Other</td>\n",
       "      <td>16</td>\n",
       "    </tr>\n",
       "    <tr>\n",
       "      <th>419</th>\n",
       "      <td>Lenovo</td>\n",
       "      <td>Ultrabook</td>\n",
       "      <td>14.0</td>\n",
       "      <td>IPS Panel Full HD 1920x1080</td>\n",
       "      <td>Intel Core i7</td>\n",
       "      <td>8</td>\n",
       "      <td>256GB SSD</td>\n",
       "      <td>AMD Radeon RX 550</td>\n",
       "      <td>Windows 10</td>\n",
       "      <td>1.75kg</td>\n",
       "      <td>64755.4464</td>\n",
       "      <td>no</td>\n",
       "      <td>yes</td>\n",
       "      <td>SSD</td>\n",
       "      <td>256</td>\n",
       "    </tr>\n",
       "  </tbody>\n",
       "</table>\n",
       "</div>"
      ],
      "text/plain": [
       "    Company            TypeName  Inches  \\\n",
       "525  Lenovo            Notebook    14.0   \n",
       "259  Lenovo  2 in 1 Convertible    15.6   \n",
       "519    Asus              Gaming    17.3   \n",
       "430   Other             Netbook    11.6   \n",
       "419  Lenovo           Ultrabook    14.0   \n",
       "\n",
       "                              ScreenResolution            Cpu  Ram  \\\n",
       "525                          Full HD 1920x1080  Intel Core i5    8   \n",
       "259  IPS Panel Full HD / Touchscreen 1920x1080  Intel Core i7    8   \n",
       "519                          Full HD 1920x1080  Intel Core i7   16   \n",
       "430                                   1366x768          Other    4   \n",
       "419                IPS Panel Full HD 1920x1080  Intel Core i7    8   \n",
       "\n",
       "                   Memory                        Gpu       OpSys  Weight  \\\n",
       "525             256GB SSD      Intel HD Graphics 520   Windows 7  2.02kg   \n",
       "259             512GB SSD   Nvidia GeForce GTX 1050M  Windows 10     2kg   \n",
       "519  256GB SSD +  1TB HDD  Nvidia GeForce GTX1050 Ti  Windows 10     3kg   \n",
       "430    16GB Flash Storage      Intel HD Graphics 400   Chrome OS  1.15kg   \n",
       "419             256GB SSD          AMD Radeon RX 550  Windows 10  1.75kg   \n",
       "\n",
       "          Price Touch_Screen   HD Memory_Drive  Storage  \n",
       "525  71395.2000           no  yes          SSD      256  \n",
       "259  90522.7200          yes  yes          SSD      512  \n",
       "519  80133.1200           no  yes          SSD      256  \n",
       "430  14332.3200           no   no        Other       16  \n",
       "419  64755.4464           no  yes          SSD      256  "
      ]
     },
     "execution_count": 95,
     "metadata": {},
     "output_type": "execute_result"
    }
   ],
   "source": [
    "df.sample(5)"
   ]
  },
  {
   "cell_type": "code",
   "execution_count": 96,
   "id": "b0feba8e",
   "metadata": {},
   "outputs": [
    {
     "data": {
      "text/plain": [
       "Gpu\n",
       "AMD FirePro W5130M           1\n",
       "Intel HD Graphics 530        1\n",
       "Nvidia GeForce GTX1080       1\n",
       "Nvidia GeForce GTX1050 Ti    1\n",
       "Nvidia Quadro M620M          1\n",
       "Intel Graphics 620           1\n",
       "AMD Radeon R5 520            1\n",
       "AMD Radeon R7                1\n",
       "Intel HD Graphics 540        1\n",
       "Nvidia GeForce 960M          1\n",
       "Name: count, dtype: int64"
      ]
     },
     "execution_count": 96,
     "metadata": {},
     "output_type": "execute_result"
    }
   ],
   "source": [
    "df['Gpu'].value_counts().tail(10)"
   ]
  },
  {
   "cell_type": "code",
   "execution_count": 97,
   "id": "21b6936e",
   "metadata": {},
   "outputs": [],
   "source": [
    "def extract_gpu(gpu):\n",
    "    gpu = gpu.split()\n",
    "    \n",
    "    if 'Nvidia' in gpu:\n",
    "        return 'Nvidia'\n",
    "    \n",
    "    elif 'AMD' in gpu:\n",
    "        return 'AMD'\n",
    "    \n",
    "    elif 'Intel' in gpu:\n",
    "        return 'Intel'\n",
    "    \n",
    "    else:\n",
    "        return 'Other'"
   ]
  },
  {
   "cell_type": "code",
   "execution_count": 98,
   "id": "dc74615a",
   "metadata": {},
   "outputs": [
    {
     "data": {
      "text/plain": [
       "'Nvidia'"
      ]
     },
     "execution_count": 98,
     "metadata": {},
     "output_type": "execute_result"
    }
   ],
   "source": [
    "extract_gpu(\"Nvidia GeForce GTX1050 Ti\")"
   ]
  },
  {
   "cell_type": "code",
   "execution_count": 99,
   "id": "08b74d75",
   "metadata": {},
   "outputs": [
    {
     "data": {
      "text/plain": [
       "Gpu\n",
       "Intel     703\n",
       "Nvidia    396\n",
       "AMD       174\n",
       "Name: count, dtype: int64"
      ]
     },
     "execution_count": 99,
     "metadata": {},
     "output_type": "execute_result"
    }
   ],
   "source": [
    "df['Gpu'].apply(extract_gpu).value_counts()"
   ]
  },
  {
   "cell_type": "code",
   "execution_count": 100,
   "id": "0e027749",
   "metadata": {},
   "outputs": [
    {
     "data": {
      "text/plain": [
       "<Axes: xlabel='Gpu'>"
      ]
     },
     "execution_count": 100,
     "metadata": {},
     "output_type": "execute_result"
    },
    {
     "data": {
      "image/png": "[encoded data removed]",
      "text/plain": [
       "<Figure size 640x480 with 1 Axes>"
      ]
     },
     "metadata": {},
     "output_type": "display_data"
    }
   ],
   "source": [
    "df['Gpu'].apply(extract_gpu).value_counts().plot(kind='bar')"
   ]
  },
  {
   "cell_type": "code",
   "execution_count": 101,
   "id": "7b59f99e",
   "metadata": {},
   "outputs": [],
   "source": [
    "df['Gpu'] = df['Gpu'].apply(extract_gpu)"
   ]
  },
  {
   "cell_type": "code",
   "execution_count": 102,
   "id": "da9f65e0",
   "metadata": {},
   "outputs": [
    {
     "data": {
      "text/html": [
       "<div>\n",
       "<style scoped>\n",
       "    .dataframe tbody tr th:only-of-type {\n",
       "        vertical-align: middle;\n",
       "    }\n",
       "\n",
       "    .dataframe tbody tr th {\n",
       "        vertical-align: top;\n",
       "    }\n",
       "\n",
       "    .dataframe thead th {\n",
       "        text-align: right;\n",
       "    }\n",
       "</style>\n",
       "<table border=\"1\" class=\"dataframe\">\n",
       "  <thead>\n",
       "    <tr style=\"text-align: right;\">\n",
       "      <th></th>\n",
       "      <th>Company</th>\n",
       "      <th>TypeName</th>\n",
       "      <th>Inches</th>\n",
       "      <th>ScreenResolution</th>\n",
       "      <th>Cpu</th>\n",
       "      <th>Ram</th>\n",
       "      <th>Memory</th>\n",
       "      <th>Gpu</th>\n",
       "      <th>OpSys</th>\n",
       "      <th>Weight</th>\n",
       "      <th>Price</th>\n",
       "      <th>Touch_Screen</th>\n",
       "      <th>HD</th>\n",
       "      <th>Memory_Drive</th>\n",
       "      <th>Storage</th>\n",
       "    </tr>\n",
       "  </thead>\n",
       "  <tbody>\n",
       "    <tr>\n",
       "      <th>530</th>\n",
       "      <td>Dell</td>\n",
       "      <td>Gaming</td>\n",
       "      <td>17.3</td>\n",
       "      <td>IPS Panel Full HD 1920x1080</td>\n",
       "      <td>Intel Core i7</td>\n",
       "      <td>16</td>\n",
       "      <td>128GB SSD +  1TB HDD</td>\n",
       "      <td>Nvidia</td>\n",
       "      <td>Windows 10</td>\n",
       "      <td>4.42kg</td>\n",
       "      <td>160520.3856</td>\n",
       "      <td>no</td>\n",
       "      <td>yes</td>\n",
       "      <td>SSD</td>\n",
       "      <td>128</td>\n",
       "    </tr>\n",
       "    <tr>\n",
       "      <th>1166</th>\n",
       "      <td>Lenovo</td>\n",
       "      <td>Notebook</td>\n",
       "      <td>15.6</td>\n",
       "      <td>IPS Panel Full HD 1920x1080</td>\n",
       "      <td>Intel Core i5</td>\n",
       "      <td>8</td>\n",
       "      <td>256GB SSD</td>\n",
       "      <td>Intel</td>\n",
       "      <td>Windows 10</td>\n",
       "      <td>1.95kg</td>\n",
       "      <td>74059.2000</td>\n",
       "      <td>no</td>\n",
       "      <td>yes</td>\n",
       "      <td>SSD</td>\n",
       "      <td>256</td>\n",
       "    </tr>\n",
       "    <tr>\n",
       "      <th>146</th>\n",
       "      <td>HP</td>\n",
       "      <td>Ultrabook</td>\n",
       "      <td>12.5</td>\n",
       "      <td>IPS Panel 4K Ultra HD / Touchscreen 3840x2160</td>\n",
       "      <td>Other</td>\n",
       "      <td>8</td>\n",
       "      <td>512GB SSD</td>\n",
       "      <td>Intel</td>\n",
       "      <td>Windows 10</td>\n",
       "      <td>0.97kg</td>\n",
       "      <td>107305.9200</td>\n",
       "      <td>yes</td>\n",
       "      <td>yes</td>\n",
       "      <td>SSD</td>\n",
       "      <td>512</td>\n",
       "    </tr>\n",
       "    <tr>\n",
       "      <th>1195</th>\n",
       "      <td>HP</td>\n",
       "      <td>Notebook</td>\n",
       "      <td>15.6</td>\n",
       "      <td>IPS Panel Full HD 1920x1080</td>\n",
       "      <td>Intel Core i7</td>\n",
       "      <td>12</td>\n",
       "      <td>128GB SSD +  1TB HDD</td>\n",
       "      <td>Nvidia</td>\n",
       "      <td>Windows 10</td>\n",
       "      <td>2.21kg</td>\n",
       "      <td>70702.5600</td>\n",
       "      <td>no</td>\n",
       "      <td>yes</td>\n",
       "      <td>SSD</td>\n",
       "      <td>128</td>\n",
       "    </tr>\n",
       "    <tr>\n",
       "      <th>144</th>\n",
       "      <td>HP</td>\n",
       "      <td>Notebook</td>\n",
       "      <td>15.6</td>\n",
       "      <td>1366x768</td>\n",
       "      <td>AMD</td>\n",
       "      <td>4</td>\n",
       "      <td>256GB SSD</td>\n",
       "      <td>AMD</td>\n",
       "      <td>Windows 10</td>\n",
       "      <td>1.86kg</td>\n",
       "      <td>19660.3200</td>\n",
       "      <td>no</td>\n",
       "      <td>no</td>\n",
       "      <td>SSD</td>\n",
       "      <td>256</td>\n",
       "    </tr>\n",
       "  </tbody>\n",
       "</table>\n",
       "</div>"
      ],
      "text/plain": [
       "     Company   TypeName  Inches  \\\n",
       "530     Dell     Gaming    17.3   \n",
       "1166  Lenovo   Notebook    15.6   \n",
       "146       HP  Ultrabook    12.5   \n",
       "1195      HP   Notebook    15.6   \n",
       "144       HP   Notebook    15.6   \n",
       "\n",
       "                                   ScreenResolution            Cpu  Ram  \\\n",
       "530                     IPS Panel Full HD 1920x1080  Intel Core i7   16   \n",
       "1166                    IPS Panel Full HD 1920x1080  Intel Core i5    8   \n",
       "146   IPS Panel 4K Ultra HD / Touchscreen 3840x2160          Other    8   \n",
       "1195                    IPS Panel Full HD 1920x1080  Intel Core i7   12   \n",
       "144                                        1366x768            AMD    4   \n",
       "\n",
       "                    Memory     Gpu       OpSys  Weight        Price  \\\n",
       "530   128GB SSD +  1TB HDD  Nvidia  Windows 10  4.42kg  160520.3856   \n",
       "1166             256GB SSD   Intel  Windows 10  1.95kg   74059.2000   \n",
       "146              512GB SSD   Intel  Windows 10  0.97kg  107305.9200   \n",
       "1195  128GB SSD +  1TB HDD  Nvidia  Windows 10  2.21kg   70702.5600   \n",
       "144              256GB SSD     AMD  Windows 10  1.86kg   19660.3200   \n",
       "\n",
       "     Touch_Screen   HD Memory_Drive  Storage  \n",
       "530            no  yes          SSD      128  \n",
       "1166           no  yes          SSD      256  \n",
       "146           yes  yes          SSD      512  \n",
       "1195           no  yes          SSD      128  \n",
       "144            no   no          SSD      256  "
      ]
     },
     "execution_count": 102,
     "metadata": {},
     "output_type": "execute_result"
    }
   ],
   "source": [
    "df.sample(5)"
   ]
  },
  {
   "cell_type": "code",
   "execution_count": 103,
   "id": "1ab8b53a",
   "metadata": {},
   "outputs": [
    {
     "data": {
      "image/png": "[encoded data removed]",
      "text/plain": [
       "<Figure size 640x480 with 1 Axes>"
      ]
     },
     "metadata": {},
     "output_type": "display_data"
    }
   ],
   "source": [
    "sns.barplot(x=df['Gpu'], y=df['Price'])\n",
    "plt.show()"
   ]
  },
  {
   "cell_type": "code",
   "execution_count": 104,
   "id": "c5dafa42",
   "metadata": {},
   "outputs": [
    {
     "data": {
      "image/png": "[encoded data removed]",
      "text/plain": [
       "<Figure size 640x480 with 1 Axes>"
      ]
     },
     "metadata": {},
     "output_type": "display_data"
    }
   ],
   "source": [
    "sns.countplot(x=df['OpSys'])\n",
    "plt.show()"
   ]
  },
  {
   "cell_type": "code",
   "execution_count": 105,
   "id": "d25e69c9",
   "metadata": {},
   "outputs": [
    {
     "data": {
      "text/plain": [
       "OpSys\n",
       "Windows 10      1047\n",
       "No OS             66\n",
       "Linux             58\n",
       "Windows 7         45\n",
       "Chrome OS         26\n",
       "macOS             13\n",
       "Mac OS X           8\n",
       "Windows 10 S       8\n",
       "Android            2\n",
       "Name: count, dtype: int64"
      ]
     },
     "execution_count": 105,
     "metadata": {},
     "output_type": "execute_result"
    }
   ],
   "source": [
    "df['OpSys'].value_counts()"
   ]
  },
  {
   "cell_type": "code",
   "execution_count": 106,
   "id": "6b49b49a",
   "metadata": {},
   "outputs": [
    {
     "data": {
      "text/plain": [
       "1100"
      ]
     },
     "execution_count": 106,
     "metadata": {},
     "output_type": "execute_result"
    }
   ],
   "source": [
    "1047 + 45 + 8"
   ]
  },
  {
   "cell_type": "code",
   "execution_count": 107,
   "id": "1acffead",
   "metadata": {},
   "outputs": [
    {
     "data": {
      "text/plain": [
       "91.13504556752278"
      ]
     },
     "execution_count": 107,
     "metadata": {},
     "output_type": "execute_result"
    }
   ],
   "source": [
    "1100 / 1207 * 100"
   ]
  },
  {
   "cell_type": "code",
   "execution_count": 108,
   "id": "7272866a",
   "metadata": {},
   "outputs": [
    {
     "data": {
      "text/plain": [
       "21"
      ]
     },
     "execution_count": 108,
     "metadata": {},
     "output_type": "execute_result"
    }
   ],
   "source": [
    "13 + 8"
   ]
  },
  {
   "cell_type": "code",
   "execution_count": 109,
   "id": "4712a8b8",
   "metadata": {},
   "outputs": [
    {
     "data": {
      "text/plain": [
       "1.739850869925435"
      ]
     },
     "execution_count": 109,
     "metadata": {},
     "output_type": "execute_result"
    }
   ],
   "source": [
    "21 / 1207 * 100"
   ]
  },
  {
   "cell_type": "code",
   "execution_count": 110,
   "id": "44f2fb46",
   "metadata": {},
   "outputs": [
    {
     "data": {
      "image/png": "[encoded data removed]",
      "text/plain": [
       "<Figure size 640x480 with 1 Axes>"
      ]
     },
     "metadata": {},
     "output_type": "display_data"
    }
   ],
   "source": [
    "plt.xticks(rotation='vertical')\n",
    "sns.barplot(x=df['OpSys'], y=df['Price'])\n",
    "plt.show()"
   ]
  },
  {
   "cell_type": "code",
   "execution_count": 111,
   "id": "0a365670",
   "metadata": {},
   "outputs": [],
   "source": [
    "def resolve_os(os):\n",
    "    os_l = os.lower()\n",
    "    os_s = os_l.split()\n",
    "    \n",
    "    if 'windows' in os_s:\n",
    "        return 'Windows'\n",
    "    \n",
    "    elif 'mac' in os_s or 'macos' in os_s:\n",
    "        return 'Mac OS'\n",
    "    \n",
    "    elif 'no' in os_s:\n",
    "        return 'No OS'\n",
    "    else:\n",
    "        return 'Other'"
   ]
  },
  {
   "cell_type": "code",
   "execution_count": 112,
   "id": "27207be8",
   "metadata": {},
   "outputs": [
    {
     "data": {
      "text/plain": [
       "'Other'"
      ]
     },
     "execution_count": 112,
     "metadata": {},
     "output_type": "execute_result"
    }
   ],
   "source": [
    "resolve_os(\"Chrome\")"
   ]
  },
  {
   "cell_type": "code",
   "execution_count": 113,
   "id": "e9a5a650",
   "metadata": {},
   "outputs": [
    {
     "data": {
      "text/plain": [
       "OpSys\n",
       "Windows    1100\n",
       "Other        86\n",
       "No OS        66\n",
       "Mac OS       21\n",
       "Name: count, dtype: int64"
      ]
     },
     "execution_count": 113,
     "metadata": {},
     "output_type": "execute_result"
    }
   ],
   "source": [
    "df['OpSys'].apply(resolve_os).value_counts()"
   ]
  },
  {
   "cell_type": "code",
   "execution_count": 114,
   "id": "87640985",
   "metadata": {},
   "outputs": [
    {
     "data": {
      "text/plain": [
       "<Axes: xlabel='OpSys'>"
      ]
     },
     "execution_count": 114,
     "metadata": {},
     "output_type": "execute_result"
    },
    {
     "data": {
      "image/png": "[encoded data removed]",
      "text/plain": [
       "<Figure size 640x480 with 1 Axes>"
      ]
     },
     "metadata": {},
     "output_type": "display_data"
    }
   ],
   "source": [
    "df['OpSys'].apply(resolve_os).value_counts().plot(kind='bar')"
   ]
  },
  {
   "cell_type": "code",
   "execution_count": 115,
   "id": "3640d1ba",
   "metadata": {},
   "outputs": [
    {
     "data": {
      "text/plain": [
       "['macOS']"
      ]
     },
     "execution_count": 115,
     "metadata": {},
     "output_type": "execute_result"
    }
   ],
   "source": [
    "a = 'macOS'\n",
    "a.split()"
   ]
  },
  {
   "cell_type": "code",
   "execution_count": 116,
   "id": "3933365a",
   "metadata": {},
   "outputs": [],
   "source": [
    "df['OS'] = df['OpSys'].apply(resolve_os)"
   ]
  },
  {
   "cell_type": "code",
   "execution_count": 118,
   "id": "e711cdb3",
   "metadata": {},
   "outputs": [
    {
     "data": {
      "text/html": [
       "<div>\n",
       "<style scoped>\n",
       "    .dataframe tbody tr th:only-of-type {\n",
       "        vertical-align: middle;\n",
       "    }\n",
       "\n",
       "    .dataframe tbody tr th {\n",
       "        vertical-align: top;\n",
       "    }\n",
       "\n",
       "    .dataframe thead th {\n",
       "        text-align: right;\n",
       "    }\n",
       "</style>\n",
       "<table border=\"1\" class=\"dataframe\">\n",
       "  <thead>\n",
       "    <tr style=\"text-align: right;\">\n",
       "      <th></th>\n",
       "      <th>Company</th>\n",
       "      <th>TypeName</th>\n",
       "      <th>Inches</th>\n",
       "      <th>ScreenResolution</th>\n",
       "      <th>Cpu</th>\n",
       "      <th>Ram</th>\n",
       "      <th>Memory</th>\n",
       "      <th>Gpu</th>\n",
       "      <th>OpSys</th>\n",
       "      <th>Weight</th>\n",
       "      <th>Price</th>\n",
       "      <th>Touch_Screen</th>\n",
       "      <th>HD</th>\n",
       "      <th>Memory_Drive</th>\n",
       "      <th>Storage</th>\n",
       "      <th>OS</th>\n",
       "    </tr>\n",
       "  </thead>\n",
       "  <tbody>\n",
       "    <tr>\n",
       "      <th>1269</th>\n",
       "      <td>Asus</td>\n",
       "      <td>Notebook</td>\n",
       "      <td>15.6</td>\n",
       "      <td>1366x768</td>\n",
       "      <td>Intel Core i7</td>\n",
       "      <td>4</td>\n",
       "      <td>500GB HDD</td>\n",
       "      <td>Nvidia</td>\n",
       "      <td>Windows 10</td>\n",
       "      <td>2.2kg</td>\n",
       "      <td>38378.6496</td>\n",
       "      <td>no</td>\n",
       "      <td>no</td>\n",
       "      <td>HDD</td>\n",
       "      <td>500</td>\n",
       "      <td>Windows</td>\n",
       "    </tr>\n",
       "    <tr>\n",
       "      <th>1270</th>\n",
       "      <td>Lenovo</td>\n",
       "      <td>2 in 1 Convertible</td>\n",
       "      <td>14.0</td>\n",
       "      <td>IPS Panel Full HD / Touchscreen 1920x1080</td>\n",
       "      <td>Intel Core i7</td>\n",
       "      <td>4</td>\n",
       "      <td>128GB SSD</td>\n",
       "      <td>Intel</td>\n",
       "      <td>Windows 10</td>\n",
       "      <td>1.8kg</td>\n",
       "      <td>33992.6400</td>\n",
       "      <td>yes</td>\n",
       "      <td>yes</td>\n",
       "      <td>SSD</td>\n",
       "      <td>128</td>\n",
       "      <td>Windows</td>\n",
       "    </tr>\n",
       "    <tr>\n",
       "      <th>1271</th>\n",
       "      <td>Lenovo</td>\n",
       "      <td>2 in 1 Convertible</td>\n",
       "      <td>13.3</td>\n",
       "      <td>IPS Panel Quad HD+ / Touchscreen 3200x1800</td>\n",
       "      <td>Intel Core i7</td>\n",
       "      <td>16</td>\n",
       "      <td>512GB SSD</td>\n",
       "      <td>Intel</td>\n",
       "      <td>Windows 10</td>\n",
       "      <td>1.3kg</td>\n",
       "      <td>79866.7200</td>\n",
       "      <td>yes</td>\n",
       "      <td>no</td>\n",
       "      <td>SSD</td>\n",
       "      <td>512</td>\n",
       "      <td>Windows</td>\n",
       "    </tr>\n",
       "    <tr>\n",
       "      <th>1272</th>\n",
       "      <td>Lenovo</td>\n",
       "      <td>Notebook</td>\n",
       "      <td>14.0</td>\n",
       "      <td>1366x768</td>\n",
       "      <td>Other</td>\n",
       "      <td>2</td>\n",
       "      <td>64GB Flash Storage</td>\n",
       "      <td>Intel</td>\n",
       "      <td>Windows 10</td>\n",
       "      <td>1.5kg</td>\n",
       "      <td>12201.1200</td>\n",
       "      <td>no</td>\n",
       "      <td>no</td>\n",
       "      <td>Other</td>\n",
       "      <td>64</td>\n",
       "      <td>Windows</td>\n",
       "    </tr>\n",
       "    <tr>\n",
       "      <th>1273</th>\n",
       "      <td>HP</td>\n",
       "      <td>Notebook</td>\n",
       "      <td>15.6</td>\n",
       "      <td>1366x768</td>\n",
       "      <td>Intel Core i7</td>\n",
       "      <td>6</td>\n",
       "      <td>1TB HDD</td>\n",
       "      <td>AMD</td>\n",
       "      <td>Windows 10</td>\n",
       "      <td>2.19kg</td>\n",
       "      <td>40705.9200</td>\n",
       "      <td>no</td>\n",
       "      <td>no</td>\n",
       "      <td>HDD</td>\n",
       "      <td>1000</td>\n",
       "      <td>Windows</td>\n",
       "    </tr>\n",
       "  </tbody>\n",
       "</table>\n",
       "</div>"
      ],
      "text/plain": [
       "     Company            TypeName  Inches  \\\n",
       "1269    Asus            Notebook    15.6   \n",
       "1270  Lenovo  2 in 1 Convertible    14.0   \n",
       "1271  Lenovo  2 in 1 Convertible    13.3   \n",
       "1272  Lenovo            Notebook    14.0   \n",
       "1273      HP            Notebook    15.6   \n",
       "\n",
       "                                ScreenResolution            Cpu  Ram  \\\n",
       "1269                                    1366x768  Intel Core i7    4   \n",
       "1270   IPS Panel Full HD / Touchscreen 1920x1080  Intel Core i7    4   \n",
       "1271  IPS Panel Quad HD+ / Touchscreen 3200x1800  Intel Core i7   16   \n",
       "1272                                    1366x768          Other    2   \n",
       "1273                                    1366x768  Intel Core i7    6   \n",
       "\n",
       "                  Memory     Gpu       OpSys  Weight       Price Touch_Screen  \\\n",
       "1269           500GB HDD  Nvidia  Windows 10   2.2kg  38378.6496           no   \n",
       "1270           128GB SSD   Intel  Windows 10   1.8kg  33992.6400          yes   \n",
       "1271           512GB SSD   Intel  Windows 10   1.3kg  79866.7200          yes   \n",
       "1272  64GB Flash Storage   Intel  Windows 10   1.5kg  12201.1200           no   \n",
       "1273             1TB HDD     AMD  Windows 10  2.19kg  40705.9200           no   \n",
       "\n",
       "       HD Memory_Drive  Storage       OS  \n",
       "1269   no          HDD      500  Windows  \n",
       "1270  yes          SSD      128  Windows  \n",
       "1271   no          SSD      512  Windows  \n",
       "1272   no        Other       64  Windows  \n",
       "1273   no          HDD     1000  Windows  "
      ]
     },
     "execution_count": 118,
     "metadata": {},
     "output_type": "execute_result"
    }
   ],
   "source": [
    "df.tail()"
   ]
  },
  {
   "cell_type": "code",
   "execution_count": 119,
   "id": "9607d753",
   "metadata": {},
   "outputs": [
    {
     "data": {
      "text/plain": [
       "Weight\n",
       "0.91kg    1\n",
       "4.33kg    1\n",
       "3.4kg     1\n",
       "1.94kg    1\n",
       "4.5kg     1\n",
       "1.14kg    1\n",
       "3.8kg     1\n",
       "1.19kg    1\n",
       "1.55kg    1\n",
       "4.0kg     1\n",
       "Name: count, dtype: int64"
      ]
     },
     "execution_count": 119,
     "metadata": {},
     "output_type": "execute_result"
    }
   ],
   "source": [
    "df['Weight'].value_counts().tail(10)"
   ]
  },
  {
   "cell_type": "code",
   "execution_count": 120,
   "id": "5985d7df",
   "metadata": {},
   "outputs": [],
   "source": [
    "df['Weight'] = df['Weight'].str.replace('kg', '').astype('float')"
   ]
  },
  {
   "cell_type": "code",
   "execution_count": 121,
   "id": "bcc81496",
   "metadata": {},
   "outputs": [
    {
     "data": {
      "text/html": [
       "<div>\n",
       "<style scoped>\n",
       "    .dataframe tbody tr th:only-of-type {\n",
       "        vertical-align: middle;\n",
       "    }\n",
       "\n",
       "    .dataframe tbody tr th {\n",
       "        vertical-align: top;\n",
       "    }\n",
       "\n",
       "    .dataframe thead th {\n",
       "        text-align: right;\n",
       "    }\n",
       "</style>\n",
       "<table border=\"1\" class=\"dataframe\">\n",
       "  <thead>\n",
       "    <tr style=\"text-align: right;\">\n",
       "      <th></th>\n",
       "      <th>Company</th>\n",
       "      <th>TypeName</th>\n",
       "      <th>Inches</th>\n",
       "      <th>ScreenResolution</th>\n",
       "      <th>Cpu</th>\n",
       "      <th>Ram</th>\n",
       "      <th>Memory</th>\n",
       "      <th>Gpu</th>\n",
       "      <th>OpSys</th>\n",
       "      <th>Weight</th>\n",
       "      <th>Price</th>\n",
       "      <th>Touch_Screen</th>\n",
       "      <th>HD</th>\n",
       "      <th>Memory_Drive</th>\n",
       "      <th>Storage</th>\n",
       "      <th>OS</th>\n",
       "    </tr>\n",
       "  </thead>\n",
       "  <tbody>\n",
       "    <tr>\n",
       "      <th>0</th>\n",
       "      <td>Apple</td>\n",
       "      <td>Ultrabook</td>\n",
       "      <td>13.3</td>\n",
       "      <td>IPS Panel Retina Display 2560x1600</td>\n",
       "      <td>Intel Core i5</td>\n",
       "      <td>8</td>\n",
       "      <td>128GB SSD</td>\n",
       "      <td>Intel</td>\n",
       "      <td>macOS</td>\n",
       "      <td>1.37</td>\n",
       "      <td>71378.6832</td>\n",
       "      <td>no</td>\n",
       "      <td>no</td>\n",
       "      <td>SSD</td>\n",
       "      <td>128</td>\n",
       "      <td>Mac OS</td>\n",
       "    </tr>\n",
       "    <tr>\n",
       "      <th>1</th>\n",
       "      <td>Apple</td>\n",
       "      <td>Ultrabook</td>\n",
       "      <td>13.3</td>\n",
       "      <td>1440x900</td>\n",
       "      <td>Intel Core i5</td>\n",
       "      <td>8</td>\n",
       "      <td>128GB Flash Storage</td>\n",
       "      <td>Intel</td>\n",
       "      <td>macOS</td>\n",
       "      <td>1.34</td>\n",
       "      <td>47895.5232</td>\n",
       "      <td>no</td>\n",
       "      <td>no</td>\n",
       "      <td>Other</td>\n",
       "      <td>128</td>\n",
       "      <td>Mac OS</td>\n",
       "    </tr>\n",
       "    <tr>\n",
       "      <th>2</th>\n",
       "      <td>HP</td>\n",
       "      <td>Notebook</td>\n",
       "      <td>15.6</td>\n",
       "      <td>Full HD 1920x1080</td>\n",
       "      <td>Intel Core i5</td>\n",
       "      <td>8</td>\n",
       "      <td>256GB SSD</td>\n",
       "      <td>Intel</td>\n",
       "      <td>No OS</td>\n",
       "      <td>1.86</td>\n",
       "      <td>30636.0000</td>\n",
       "      <td>no</td>\n",
       "      <td>yes</td>\n",
       "      <td>SSD</td>\n",
       "      <td>256</td>\n",
       "      <td>No OS</td>\n",
       "    </tr>\n",
       "    <tr>\n",
       "      <th>3</th>\n",
       "      <td>Apple</td>\n",
       "      <td>Ultrabook</td>\n",
       "      <td>15.4</td>\n",
       "      <td>IPS Panel Retina Display 2880x1800</td>\n",
       "      <td>Intel Core i7</td>\n",
       "      <td>16</td>\n",
       "      <td>512GB SSD</td>\n",
       "      <td>AMD</td>\n",
       "      <td>macOS</td>\n",
       "      <td>1.83</td>\n",
       "      <td>135195.3360</td>\n",
       "      <td>no</td>\n",
       "      <td>no</td>\n",
       "      <td>SSD</td>\n",
       "      <td>512</td>\n",
       "      <td>Mac OS</td>\n",
       "    </tr>\n",
       "    <tr>\n",
       "      <th>4</th>\n",
       "      <td>Apple</td>\n",
       "      <td>Ultrabook</td>\n",
       "      <td>13.3</td>\n",
       "      <td>IPS Panel Retina Display 2560x1600</td>\n",
       "      <td>Intel Core i5</td>\n",
       "      <td>8</td>\n",
       "      <td>256GB SSD</td>\n",
       "      <td>Intel</td>\n",
       "      <td>macOS</td>\n",
       "      <td>1.37</td>\n",
       "      <td>96095.8080</td>\n",
       "      <td>no</td>\n",
       "      <td>no</td>\n",
       "      <td>SSD</td>\n",
       "      <td>256</td>\n",
       "      <td>Mac OS</td>\n",
       "    </tr>\n",
       "  </tbody>\n",
       "</table>\n",
       "</div>"
      ],
      "text/plain": [
       "  Company   TypeName  Inches                    ScreenResolution  \\\n",
       "0   Apple  Ultrabook    13.3  IPS Panel Retina Display 2560x1600   \n",
       "1   Apple  Ultrabook    13.3                            1440x900   \n",
       "2      HP   Notebook    15.6                   Full HD 1920x1080   \n",
       "3   Apple  Ultrabook    15.4  IPS Panel Retina Display 2880x1800   \n",
       "4   Apple  Ultrabook    13.3  IPS Panel Retina Display 2560x1600   \n",
       "\n",
       "             Cpu  Ram               Memory    Gpu  OpSys  Weight        Price  \\\n",
       "0  Intel Core i5    8            128GB SSD  Intel  macOS    1.37   71378.6832   \n",
       "1  Intel Core i5    8  128GB Flash Storage  Intel  macOS    1.34   47895.5232   \n",
       "2  Intel Core i5    8            256GB SSD  Intel  No OS    1.86   30636.0000   \n",
       "3  Intel Core i7   16            512GB SSD    AMD  macOS    1.83  135195.3360   \n",
       "4  Intel Core i5    8            256GB SSD  Intel  macOS    1.37   96095.8080   \n",
       "\n",
       "  Touch_Screen   HD Memory_Drive  Storage      OS  \n",
       "0           no   no          SSD      128  Mac OS  \n",
       "1           no   no        Other      128  Mac OS  \n",
       "2           no  yes          SSD      256   No OS  \n",
       "3           no   no          SSD      512  Mac OS  \n",
       "4           no   no          SSD      256  Mac OS  "
      ]
     },
     "execution_count": 121,
     "metadata": {},
     "output_type": "execute_result"
    }
   ],
   "source": [
    "df.head()"
   ]
  },
  {
   "cell_type": "markdown",
   "id": "3546e8b4",
   "metadata": {},
   "source": [
    "## ScreenResolution, Memory, OpSys"
   ]
  },
  {
   "cell_type": "code",
   "execution_count": 122,
   "id": "9db5615a",
   "metadata": {},
   "outputs": [],
   "source": [
    "df = df.drop(columns=['ScreenResolution', 'OpSys', 'Memory'])"
   ]
  },
  {
   "cell_type": "code",
   "execution_count": 123,
   "id": "02060a49",
   "metadata": {},
   "outputs": [
    {
     "data": {
      "text/html": [
       "<div>\n",
       "<style scoped>\n",
       "    .dataframe tbody tr th:only-of-type {\n",
       "        vertical-align: middle;\n",
       "    }\n",
       "\n",
       "    .dataframe tbody tr th {\n",
       "        vertical-align: top;\n",
       "    }\n",
       "\n",
       "    .dataframe thead th {\n",
       "        text-align: right;\n",
       "    }\n",
       "</style>\n",
       "<table border=\"1\" class=\"dataframe\">\n",
       "  <thead>\n",
       "    <tr style=\"text-align: right;\">\n",
       "      <th></th>\n",
       "      <th>Company</th>\n",
       "      <th>TypeName</th>\n",
       "      <th>Inches</th>\n",
       "      <th>Cpu</th>\n",
       "      <th>Ram</th>\n",
       "      <th>Gpu</th>\n",
       "      <th>Weight</th>\n",
       "      <th>Price</th>\n",
       "      <th>Touch_Screen</th>\n",
       "      <th>HD</th>\n",
       "      <th>Memory_Drive</th>\n",
       "      <th>Storage</th>\n",
       "      <th>OS</th>\n",
       "    </tr>\n",
       "  </thead>\n",
       "  <tbody>\n",
       "    <tr>\n",
       "      <th>0</th>\n",
       "      <td>Apple</td>\n",
       "      <td>Ultrabook</td>\n",
       "      <td>13.3</td>\n",
       "      <td>Intel Core i5</td>\n",
       "      <td>8</td>\n",
       "      <td>Intel</td>\n",
       "      <td>1.37</td>\n",
       "      <td>71378.6832</td>\n",
       "      <td>no</td>\n",
       "      <td>no</td>\n",
       "      <td>SSD</td>\n",
       "      <td>128</td>\n",
       "      <td>Mac OS</td>\n",
       "    </tr>\n",
       "    <tr>\n",
       "      <th>1</th>\n",
       "      <td>Apple</td>\n",
       "      <td>Ultrabook</td>\n",
       "      <td>13.3</td>\n",
       "      <td>Intel Core i5</td>\n",
       "      <td>8</td>\n",
       "      <td>Intel</td>\n",
       "      <td>1.34</td>\n",
       "      <td>47895.5232</td>\n",
       "      <td>no</td>\n",
       "      <td>no</td>\n",
       "      <td>Other</td>\n",
       "      <td>128</td>\n",
       "      <td>Mac OS</td>\n",
       "    </tr>\n",
       "    <tr>\n",
       "      <th>2</th>\n",
       "      <td>HP</td>\n",
       "      <td>Notebook</td>\n",
       "      <td>15.6</td>\n",
       "      <td>Intel Core i5</td>\n",
       "      <td>8</td>\n",
       "      <td>Intel</td>\n",
       "      <td>1.86</td>\n",
       "      <td>30636.0000</td>\n",
       "      <td>no</td>\n",
       "      <td>yes</td>\n",
       "      <td>SSD</td>\n",
       "      <td>256</td>\n",
       "      <td>No OS</td>\n",
       "    </tr>\n",
       "    <tr>\n",
       "      <th>3</th>\n",
       "      <td>Apple</td>\n",
       "      <td>Ultrabook</td>\n",
       "      <td>15.4</td>\n",
       "      <td>Intel Core i7</td>\n",
       "      <td>16</td>\n",
       "      <td>AMD</td>\n",
       "      <td>1.83</td>\n",
       "      <td>135195.3360</td>\n",
       "      <td>no</td>\n",
       "      <td>no</td>\n",
       "      <td>SSD</td>\n",
       "      <td>512</td>\n",
       "      <td>Mac OS</td>\n",
       "    </tr>\n",
       "    <tr>\n",
       "      <th>4</th>\n",
       "      <td>Apple</td>\n",
       "      <td>Ultrabook</td>\n",
       "      <td>13.3</td>\n",
       "      <td>Intel Core i5</td>\n",
       "      <td>8</td>\n",
       "      <td>Intel</td>\n",
       "      <td>1.37</td>\n",
       "      <td>96095.8080</td>\n",
       "      <td>no</td>\n",
       "      <td>no</td>\n",
       "      <td>SSD</td>\n",
       "      <td>256</td>\n",
       "      <td>Mac OS</td>\n",
       "    </tr>\n",
       "  </tbody>\n",
       "</table>\n",
       "</div>"
      ],
      "text/plain": [
       "  Company   TypeName  Inches            Cpu  Ram    Gpu  Weight        Price  \\\n",
       "0   Apple  Ultrabook    13.3  Intel Core i5    8  Intel    1.37   71378.6832   \n",
       "1   Apple  Ultrabook    13.3  Intel Core i5    8  Intel    1.34   47895.5232   \n",
       "2      HP   Notebook    15.6  Intel Core i5    8  Intel    1.86   30636.0000   \n",
       "3   Apple  Ultrabook    15.4  Intel Core i7   16    AMD    1.83  135195.3360   \n",
       "4   Apple  Ultrabook    13.3  Intel Core i5    8  Intel    1.37   96095.8080   \n",
       "\n",
       "  Touch_Screen   HD Memory_Drive  Storage      OS  \n",
       "0           no   no          SSD      128  Mac OS  \n",
       "1           no   no        Other      128  Mac OS  \n",
       "2           no  yes          SSD      256   No OS  \n",
       "3           no   no          SSD      512  Mac OS  \n",
       "4           no   no          SSD      256  Mac OS  "
      ]
     },
     "execution_count": 123,
     "metadata": {},
     "output_type": "execute_result"
    }
   ],
   "source": [
    "df.head()"
   ]
  },
  {
   "cell_type": "code",
   "execution_count": 124,
   "id": "537fd445",
   "metadata": {},
   "outputs": [],
   "source": [
    "df= df[df['Storage'] != 8000]"
   ]
  },
  {
   "cell_type": "code",
   "execution_count": 125,
   "id": "55547344",
   "metadata": {},
   "outputs": [
    {
     "data": {
      "text/plain": [
       "(1272, 13)"
      ]
     },
     "execution_count": 125,
     "metadata": {},
     "output_type": "execute_result"
    }
   ],
   "source": [
    "df.shape"
   ]
  },
  {
   "cell_type": "code",
   "execution_count": 126,
   "id": "6d3f9601",
   "metadata": {},
   "outputs": [
    {
     "data": {
      "text/plain": [
       "Company          object\n",
       "TypeName         object\n",
       "Inches          float64\n",
       "Cpu              object\n",
       "Ram               int32\n",
       "Gpu              object\n",
       "Weight          float64\n",
       "Price           float64\n",
       "Touch_Screen     object\n",
       "HD               object\n",
       "Memory_Drive     object\n",
       "Storage           int64\n",
       "OS               object\n",
       "dtype: object"
      ]
     },
     "execution_count": 126,
     "metadata": {},
     "output_type": "execute_result"
    }
   ],
   "source": [
    "df.dtypes"
   ]
  },
  {
   "cell_type": "code",
   "execution_count": 131,
   "id": "69641f3a",
   "metadata": {},
   "outputs": [
    {
     "data": {
      "text/html": [
       "<div>\n",
       "<style scoped>\n",
       "    .dataframe tbody tr th:only-of-type {\n",
       "        vertical-align: middle;\n",
       "    }\n",
       "\n",
       "    .dataframe tbody tr th {\n",
       "        vertical-align: top;\n",
       "    }\n",
       "\n",
       "    .dataframe thead th {\n",
       "        text-align: right;\n",
       "    }\n",
       "</style>\n",
       "<table border=\"1\" class=\"dataframe\">\n",
       "  <thead>\n",
       "    <tr style=\"text-align: right;\">\n",
       "      <th></th>\n",
       "      <th>count</th>\n",
       "      <th>mean</th>\n",
       "      <th>std</th>\n",
       "      <th>min</th>\n",
       "      <th>25%</th>\n",
       "      <th>50%</th>\n",
       "      <th>75%</th>\n",
       "      <th>max</th>\n",
       "    </tr>\n",
       "  </thead>\n",
       "  <tbody>\n",
       "    <tr>\n",
       "      <th>Inches</th>\n",
       "      <td>1272.0</td>\n",
       "      <td>15.024135</td>\n",
       "      <td>1.428933</td>\n",
       "      <td>10.10</td>\n",
       "      <td>14.00</td>\n",
       "      <td>15.60</td>\n",
       "      <td>15.60</td>\n",
       "      <td>18.40</td>\n",
       "    </tr>\n",
       "    <tr>\n",
       "      <th>Ram</th>\n",
       "      <td>1272.0</td>\n",
       "      <td>8.448113</td>\n",
       "      <td>5.100761</td>\n",
       "      <td>2.00</td>\n",
       "      <td>4.00</td>\n",
       "      <td>8.00</td>\n",
       "      <td>8.00</td>\n",
       "      <td>64.00</td>\n",
       "    </tr>\n",
       "    <tr>\n",
       "      <th>Weight</th>\n",
       "      <td>1272.0</td>\n",
       "      <td>2.041132</td>\n",
       "      <td>0.669503</td>\n",
       "      <td>0.69</td>\n",
       "      <td>1.50</td>\n",
       "      <td>2.04</td>\n",
       "      <td>2.31</td>\n",
       "      <td>4.70</td>\n",
       "    </tr>\n",
       "    <tr>\n",
       "      <th>Price</th>\n",
       "      <td>1272.0</td>\n",
       "      <td>60476.509075</td>\n",
       "      <td>37318.706253</td>\n",
       "      <td>9270.72</td>\n",
       "      <td>32447.52</td>\n",
       "      <td>52693.92</td>\n",
       "      <td>79693.56</td>\n",
       "      <td>324954.72</td>\n",
       "    </tr>\n",
       "    <tr>\n",
       "      <th>Storage</th>\n",
       "      <td>1272.0</td>\n",
       "      <td>440.009434</td>\n",
       "      <td>355.772874</td>\n",
       "      <td>16.00</td>\n",
       "      <td>256.00</td>\n",
       "      <td>256.00</td>\n",
       "      <td>512.00</td>\n",
       "      <td>2000.00</td>\n",
       "    </tr>\n",
       "  </tbody>\n",
       "</table>\n",
       "</div>"
      ],
      "text/plain": [
       "          count          mean           std      min       25%       50%  \\\n",
       "Inches   1272.0     15.024135      1.428933    10.10     14.00     15.60   \n",
       "Ram      1272.0      8.448113      5.100761     2.00      4.00      8.00   \n",
       "Weight   1272.0      2.041132      0.669503     0.69      1.50      2.04   \n",
       "Price    1272.0  60476.509075  37318.706253  9270.72  32447.52  52693.92   \n",
       "Storage  1272.0    440.009434    355.772874    16.00    256.00    256.00   \n",
       "\n",
       "              75%        max  \n",
       "Inches      15.60      18.40  \n",
       "Ram          8.00      64.00  \n",
       "Weight       2.31       4.70  \n",
       "Price    79693.56  324954.72  \n",
       "Storage    512.00    2000.00  "
      ]
     },
     "execution_count": 131,
     "metadata": {},
     "output_type": "execute_result"
    }
   ],
   "source": [
    "df.describe().T"
   ]
  },
  {
   "cell_type": "code",
   "execution_count": 133,
   "id": "f05a74df",
   "metadata": {},
   "outputs": [
    {
     "data": {
      "image/png": "[encoded data removed]",
      "text/plain": [
       "<Figure size 640x480 with 1 Axes>"
      ]
     },
     "metadata": {},
     "output_type": "display_data"
    }
   ],
   "source": [
    "sns.scatterplot(x=df['Storage'], y=df['Price'])\n",
    "plt.show()"
   ]
  },
  {
   "cell_type": "code",
   "execution_count": 134,
   "id": "bb38a211",
   "metadata": {},
   "outputs": [
    {
     "data": {
      "text/html": [
       "<div>\n",
       "<style scoped>\n",
       "    .dataframe tbody tr th:only-of-type {\n",
       "        vertical-align: middle;\n",
       "    }\n",
       "\n",
       "    .dataframe tbody tr th {\n",
       "        vertical-align: top;\n",
       "    }\n",
       "\n",
       "    .dataframe thead th {\n",
       "        text-align: right;\n",
       "    }\n",
       "</style>\n",
       "<table border=\"1\" class=\"dataframe\">\n",
       "  <thead>\n",
       "    <tr style=\"text-align: right;\">\n",
       "      <th></th>\n",
       "      <th>Company</th>\n",
       "      <th>TypeName</th>\n",
       "      <th>Inches</th>\n",
       "      <th>Cpu</th>\n",
       "      <th>Ram</th>\n",
       "      <th>Gpu</th>\n",
       "      <th>Weight</th>\n",
       "      <th>Price</th>\n",
       "      <th>Touch_Screen</th>\n",
       "      <th>HD</th>\n",
       "      <th>Memory_Drive</th>\n",
       "      <th>Storage</th>\n",
       "      <th>OS</th>\n",
       "    </tr>\n",
       "  </thead>\n",
       "  <tbody>\n",
       "    <tr>\n",
       "      <th>0</th>\n",
       "      <td>Apple</td>\n",
       "      <td>Ultrabook</td>\n",
       "      <td>13.3</td>\n",
       "      <td>Intel Core i5</td>\n",
       "      <td>8</td>\n",
       "      <td>Intel</td>\n",
       "      <td>1.37</td>\n",
       "      <td>71378.6832</td>\n",
       "      <td>no</td>\n",
       "      <td>no</td>\n",
       "      <td>SSD</td>\n",
       "      <td>128</td>\n",
       "      <td>Mac OS</td>\n",
       "    </tr>\n",
       "    <tr>\n",
       "      <th>1</th>\n",
       "      <td>Apple</td>\n",
       "      <td>Ultrabook</td>\n",
       "      <td>13.3</td>\n",
       "      <td>Intel Core i5</td>\n",
       "      <td>8</td>\n",
       "      <td>Intel</td>\n",
       "      <td>1.34</td>\n",
       "      <td>47895.5232</td>\n",
       "      <td>no</td>\n",
       "      <td>no</td>\n",
       "      <td>Other</td>\n",
       "      <td>128</td>\n",
       "      <td>Mac OS</td>\n",
       "    </tr>\n",
       "    <tr>\n",
       "      <th>2</th>\n",
       "      <td>HP</td>\n",
       "      <td>Notebook</td>\n",
       "      <td>15.6</td>\n",
       "      <td>Intel Core i5</td>\n",
       "      <td>8</td>\n",
       "      <td>Intel</td>\n",
       "      <td>1.86</td>\n",
       "      <td>30636.0000</td>\n",
       "      <td>no</td>\n",
       "      <td>yes</td>\n",
       "      <td>SSD</td>\n",
       "      <td>256</td>\n",
       "      <td>No OS</td>\n",
       "    </tr>\n",
       "    <tr>\n",
       "      <th>3</th>\n",
       "      <td>Apple</td>\n",
       "      <td>Ultrabook</td>\n",
       "      <td>15.4</td>\n",
       "      <td>Intel Core i7</td>\n",
       "      <td>16</td>\n",
       "      <td>AMD</td>\n",
       "      <td>1.83</td>\n",
       "      <td>135195.3360</td>\n",
       "      <td>no</td>\n",
       "      <td>no</td>\n",
       "      <td>SSD</td>\n",
       "      <td>512</td>\n",
       "      <td>Mac OS</td>\n",
       "    </tr>\n",
       "    <tr>\n",
       "      <th>4</th>\n",
       "      <td>Apple</td>\n",
       "      <td>Ultrabook</td>\n",
       "      <td>13.3</td>\n",
       "      <td>Intel Core i5</td>\n",
       "      <td>8</td>\n",
       "      <td>Intel</td>\n",
       "      <td>1.37</td>\n",
       "      <td>96095.8080</td>\n",
       "      <td>no</td>\n",
       "      <td>no</td>\n",
       "      <td>SSD</td>\n",
       "      <td>256</td>\n",
       "      <td>Mac OS</td>\n",
       "    </tr>\n",
       "  </tbody>\n",
       "</table>\n",
       "</div>"
      ],
      "text/plain": [
       "  Company   TypeName  Inches            Cpu  Ram    Gpu  Weight        Price  \\\n",
       "0   Apple  Ultrabook    13.3  Intel Core i5    8  Intel    1.37   71378.6832   \n",
       "1   Apple  Ultrabook    13.3  Intel Core i5    8  Intel    1.34   47895.5232   \n",
       "2      HP   Notebook    15.6  Intel Core i5    8  Intel    1.86   30636.0000   \n",
       "3   Apple  Ultrabook    15.4  Intel Core i7   16    AMD    1.83  135195.3360   \n",
       "4   Apple  Ultrabook    13.3  Intel Core i5    8  Intel    1.37   96095.8080   \n",
       "\n",
       "  Touch_Screen   HD Memory_Drive  Storage      OS  \n",
       "0           no   no          SSD      128  Mac OS  \n",
       "1           no   no        Other      128  Mac OS  \n",
       "2           no  yes          SSD      256   No OS  \n",
       "3           no   no          SSD      512  Mac OS  \n",
       "4           no   no          SSD      256  Mac OS  "
      ]
     },
     "execution_count": 134,
     "metadata": {},
     "output_type": "execute_result"
    }
   ],
   "source": [
    "df.head()"
   ]
  },
  {
   "cell_type": "code",
   "execution_count": 135,
   "id": "757f7859",
   "metadata": {},
   "outputs": [],
   "source": [
    "from sklearn.model_selection import train_test_split\n",
    "X_train, X_test, y_train, y_test = train_test_split(df.drop(columns=['Price']), df['Price'], test_size=0.2, random_state=5)"
   ]
  },
  {
   "cell_type": "code",
   "execution_count": 136,
   "id": "f7d6d856",
   "metadata": {},
   "outputs": [
    {
     "data": {
      "text/html": [
       "<div>\n",
       "<style scoped>\n",
       "    .dataframe tbody tr th:only-of-type {\n",
       "        vertical-align: middle;\n",
       "    }\n",
       "\n",
       "    .dataframe tbody tr th {\n",
       "        vertical-align: top;\n",
       "    }\n",
       "\n",
       "    .dataframe thead th {\n",
       "        text-align: right;\n",
       "    }\n",
       "</style>\n",
       "<table border=\"1\" class=\"dataframe\">\n",
       "  <thead>\n",
       "    <tr style=\"text-align: right;\">\n",
       "      <th></th>\n",
       "      <th>Company</th>\n",
       "      <th>TypeName</th>\n",
       "      <th>Inches</th>\n",
       "      <th>Cpu</th>\n",
       "      <th>Ram</th>\n",
       "      <th>Gpu</th>\n",
       "      <th>Weight</th>\n",
       "      <th>Touch_Screen</th>\n",
       "      <th>HD</th>\n",
       "      <th>Memory_Drive</th>\n",
       "      <th>Storage</th>\n",
       "      <th>OS</th>\n",
       "    </tr>\n",
       "  </thead>\n",
       "  <tbody>\n",
       "    <tr>\n",
       "      <th>1246</th>\n",
       "      <td>Dell</td>\n",
       "      <td>Notebook</td>\n",
       "      <td>14.0</td>\n",
       "      <td>Intel Core i5</td>\n",
       "      <td>4</td>\n",
       "      <td>Intel</td>\n",
       "      <td>1.60</td>\n",
       "      <td>no</td>\n",
       "      <td>no</td>\n",
       "      <td>HDD</td>\n",
       "      <td>500</td>\n",
       "      <td>Windows</td>\n",
       "    </tr>\n",
       "    <tr>\n",
       "      <th>283</th>\n",
       "      <td>Lenovo</td>\n",
       "      <td>Notebook</td>\n",
       "      <td>15.6</td>\n",
       "      <td>Intel Core i5</td>\n",
       "      <td>6</td>\n",
       "      <td>Intel</td>\n",
       "      <td>2.20</td>\n",
       "      <td>no</td>\n",
       "      <td>yes</td>\n",
       "      <td>SSD</td>\n",
       "      <td>256</td>\n",
       "      <td>Windows</td>\n",
       "    </tr>\n",
       "    <tr>\n",
       "      <th>979</th>\n",
       "      <td>Asus</td>\n",
       "      <td>Gaming</td>\n",
       "      <td>17.3</td>\n",
       "      <td>Intel Core i7</td>\n",
       "      <td>16</td>\n",
       "      <td>Nvidia</td>\n",
       "      <td>2.99</td>\n",
       "      <td>no</td>\n",
       "      <td>yes</td>\n",
       "      <td>SSD</td>\n",
       "      <td>256</td>\n",
       "      <td>Windows</td>\n",
       "    </tr>\n",
       "    <tr>\n",
       "      <th>1012</th>\n",
       "      <td>HP</td>\n",
       "      <td>Notebook</td>\n",
       "      <td>14.0</td>\n",
       "      <td>Intel Core i5</td>\n",
       "      <td>4</td>\n",
       "      <td>Intel</td>\n",
       "      <td>1.48</td>\n",
       "      <td>no</td>\n",
       "      <td>yes</td>\n",
       "      <td>SSD</td>\n",
       "      <td>256</td>\n",
       "      <td>Windows</td>\n",
       "    </tr>\n",
       "    <tr>\n",
       "      <th>723</th>\n",
       "      <td>Dell</td>\n",
       "      <td>Gaming</td>\n",
       "      <td>17.3</td>\n",
       "      <td>Intel Core i7</td>\n",
       "      <td>32</td>\n",
       "      <td>Nvidia</td>\n",
       "      <td>4.36</td>\n",
       "      <td>no</td>\n",
       "      <td>yes</td>\n",
       "      <td>SSD</td>\n",
       "      <td>1000</td>\n",
       "      <td>Windows</td>\n",
       "    </tr>\n",
       "  </tbody>\n",
       "</table>\n",
       "</div>"
      ],
      "text/plain": [
       "     Company  TypeName  Inches            Cpu  Ram     Gpu  Weight  \\\n",
       "1246    Dell  Notebook    14.0  Intel Core i5    4   Intel    1.60   \n",
       "283   Lenovo  Notebook    15.6  Intel Core i5    6   Intel    2.20   \n",
       "979     Asus    Gaming    17.3  Intel Core i7   16  Nvidia    2.99   \n",
       "1012      HP  Notebook    14.0  Intel Core i5    4   Intel    1.48   \n",
       "723     Dell    Gaming    17.3  Intel Core i7   32  Nvidia    4.36   \n",
       "\n",
       "     Touch_Screen   HD Memory_Drive  Storage       OS  \n",
       "1246           no   no          HDD      500  Windows  \n",
       "283            no  yes          SSD      256  Windows  \n",
       "979            no  yes          SSD      256  Windows  \n",
       "1012           no  yes          SSD      256  Windows  \n",
       "723            no  yes          SSD     1000  Windows  "
      ]
     },
     "execution_count": 136,
     "metadata": {},
     "output_type": "execute_result"
    }
   ],
   "source": [
    "X_train.head()"
   ]
  },
  {
   "cell_type": "code",
   "execution_count": 137,
   "id": "e676f59b",
   "metadata": {},
   "outputs": [
    {
     "data": {
      "text/plain": [
       "1246     46620.000\n",
       "283      30849.120\n",
       "979      93186.720\n",
       "1012     84715.200\n",
       "723     194972.832\n",
       "Name: Price, dtype: float64"
      ]
     },
     "execution_count": 137,
     "metadata": {},
     "output_type": "execute_result"
    }
   ],
   "source": [
    "y_train.head()"
   ]
  },
  {
   "cell_type": "code",
   "execution_count": 138,
   "id": "4219957d",
   "metadata": {},
   "outputs": [
    {
     "data": {
      "text/plain": [
       "(1017, 12)"
      ]
     },
     "execution_count": 138,
     "metadata": {},
     "output_type": "execute_result"
    }
   ],
   "source": [
    "X_train.shape"
   ]
  },
  {
   "cell_type": "code",
   "execution_count": 139,
   "id": "627a0a3e",
   "metadata": {},
   "outputs": [
    {
     "data": {
      "text/plain": [
       "(1017,)"
      ]
     },
     "execution_count": 139,
     "metadata": {},
     "output_type": "execute_result"
    }
   ],
   "source": [
    "y_train.shape"
   ]
  },
  {
   "cell_type": "code",
   "execution_count": 140,
   "id": "fc90259e",
   "metadata": {},
   "outputs": [],
   "source": [
    "from sklearn.compose import ColumnTransformer\n",
    "from sklearn.preprocessing import OneHotEncoder, StandardScaler, MinMaxScaler, PowerTransformer\n",
    "from sklearn.pipeline import Pipeline"
   ]
  },
  {
   "cell_type": "code",
   "execution_count": 141,
   "id": "4b598254",
   "metadata": {},
   "outputs": [],
   "source": [
    "trf2 = ColumnTransformer(transformers=[\n",
    "    ('trf1', OneHotEncoder(sparse=False, drop='first'), [4,5,6,7,8,9,10,11])\n",
    "], remainder='passthrough')"
   ]
  },
  {
   "cell_type": "code",
   "execution_count": 142,
   "id": "76384b98",
   "metadata": {},
   "outputs": [],
   "source": [
    "test = np.array(['Dell', 'Notebook', 14.0, 'Intel Core i5', 4, 'Intel', 1.6, 'no',\n",
    "       'no', 'HDD', 500, 'Windows'])"
   ]
  },
  {
   "cell_type": "code",
   "execution_count": 143,
   "id": "82dda142",
   "metadata": {},
   "outputs": [
    {
     "data": {
      "text/plain": [
       "'Windows'"
      ]
     },
     "execution_count": 143,
     "metadata": {},
     "output_type": "execute_result"
    }
   ],
   "source": [
    "test[11]"
   ]
  },
  {
   "cell_type": "code",
   "execution_count": 144,
   "id": "8a5bc8f0",
   "metadata": {},
   "outputs": [
    {
     "data": {
      "text/html": [
       "<div>\n",
       "<style scoped>\n",
       "    .dataframe tbody tr th:only-of-type {\n",
       "        vertical-align: middle;\n",
       "    }\n",
       "\n",
       "    .dataframe tbody tr th {\n",
       "        vertical-align: top;\n",
       "    }\n",
       "\n",
       "    .dataframe thead th {\n",
       "        text-align: right;\n",
       "    }\n",
       "</style>\n",
       "<table border=\"1\" class=\"dataframe\">\n",
       "  <thead>\n",
       "    <tr style=\"text-align: right;\">\n",
       "      <th></th>\n",
       "      <th>Company</th>\n",
       "      <th>TypeName</th>\n",
       "      <th>Inches</th>\n",
       "      <th>Cpu</th>\n",
       "      <th>Ram</th>\n",
       "      <th>Gpu</th>\n",
       "      <th>Weight</th>\n",
       "      <th>Touch_Screen</th>\n",
       "      <th>HD</th>\n",
       "      <th>Memory_Drive</th>\n",
       "      <th>Storage</th>\n",
       "      <th>OS</th>\n",
       "    </tr>\n",
       "  </thead>\n",
       "  <tbody>\n",
       "    <tr>\n",
       "      <th>1246</th>\n",
       "      <td>Dell</td>\n",
       "      <td>Notebook</td>\n",
       "      <td>14.0</td>\n",
       "      <td>Intel Core i5</td>\n",
       "      <td>4</td>\n",
       "      <td>Intel</td>\n",
       "      <td>1.60</td>\n",
       "      <td>no</td>\n",
       "      <td>no</td>\n",
       "      <td>HDD</td>\n",
       "      <td>500</td>\n",
       "      <td>Windows</td>\n",
       "    </tr>\n",
       "    <tr>\n",
       "      <th>283</th>\n",
       "      <td>Lenovo</td>\n",
       "      <td>Notebook</td>\n",
       "      <td>15.6</td>\n",
       "      <td>Intel Core i5</td>\n",
       "      <td>6</td>\n",
       "      <td>Intel</td>\n",
       "      <td>2.20</td>\n",
       "      <td>no</td>\n",
       "      <td>yes</td>\n",
       "      <td>SSD</td>\n",
       "      <td>256</td>\n",
       "      <td>Windows</td>\n",
       "    </tr>\n",
       "    <tr>\n",
       "      <th>979</th>\n",
       "      <td>Asus</td>\n",
       "      <td>Gaming</td>\n",
       "      <td>17.3</td>\n",
       "      <td>Intel Core i7</td>\n",
       "      <td>16</td>\n",
       "      <td>Nvidia</td>\n",
       "      <td>2.99</td>\n",
       "      <td>no</td>\n",
       "      <td>yes</td>\n",
       "      <td>SSD</td>\n",
       "      <td>256</td>\n",
       "      <td>Windows</td>\n",
       "    </tr>\n",
       "    <tr>\n",
       "      <th>1012</th>\n",
       "      <td>HP</td>\n",
       "      <td>Notebook</td>\n",
       "      <td>14.0</td>\n",
       "      <td>Intel Core i5</td>\n",
       "      <td>4</td>\n",
       "      <td>Intel</td>\n",
       "      <td>1.48</td>\n",
       "      <td>no</td>\n",
       "      <td>yes</td>\n",
       "      <td>SSD</td>\n",
       "      <td>256</td>\n",
       "      <td>Windows</td>\n",
       "    </tr>\n",
       "    <tr>\n",
       "      <th>723</th>\n",
       "      <td>Dell</td>\n",
       "      <td>Gaming</td>\n",
       "      <td>17.3</td>\n",
       "      <td>Intel Core i7</td>\n",
       "      <td>32</td>\n",
       "      <td>Nvidia</td>\n",
       "      <td>4.36</td>\n",
       "      <td>no</td>\n",
       "      <td>yes</td>\n",
       "      <td>SSD</td>\n",
       "      <td>1000</td>\n",
       "      <td>Windows</td>\n",
       "    </tr>\n",
       "  </tbody>\n",
       "</table>\n",
       "</div>"
      ],
      "text/plain": [
       "     Company  TypeName  Inches            Cpu  Ram     Gpu  Weight  \\\n",
       "1246    Dell  Notebook    14.0  Intel Core i5    4   Intel    1.60   \n",
       "283   Lenovo  Notebook    15.6  Intel Core i5    6   Intel    2.20   \n",
       "979     Asus    Gaming    17.3  Intel Core i7   16  Nvidia    2.99   \n",
       "1012      HP  Notebook    14.0  Intel Core i5    4   Intel    1.48   \n",
       "723     Dell    Gaming    17.3  Intel Core i7   32  Nvidia    4.36   \n",
       "\n",
       "     Touch_Screen   HD Memory_Drive  Storage       OS  \n",
       "1246           no   no          HDD      500  Windows  \n",
       "283            no  yes          SSD      256  Windows  \n",
       "979            no  yes          SSD      256  Windows  \n",
       "1012           no  yes          SSD      256  Windows  \n",
       "723            no  yes          SSD     1000  Windows  "
      ]
     },
     "execution_count": 144,
     "metadata": {},
     "output_type": "execute_result"
    }
   ],
   "source": [
    "X_train.head()"
   ]
  },
  {
   "cell_type": "code",
   "execution_count": 145,
   "id": "af7818b6",
   "metadata": {},
   "outputs": [],
   "source": [
    "trf1 = ColumnTransformer(transformers=[\n",
    "    ('trf1', StandardScaler(), [2, 4, 6, 10])\n",
    "], remainder='passthrough')"
   ]
  },
  {
   "cell_type": "code",
   "execution_count": 146,
   "id": "7b1d44d4",
   "metadata": {},
   "outputs": [],
   "source": [
    "a = trf1.fit_transform(X_train)"
   ]
  },
  {
   "cell_type": "code",
   "execution_count": 147,
   "id": "d5533564",
   "metadata": {},
   "outputs": [],
   "source": [
    "from sklearn.linear_model import LinearRegression, LogisticRegression, RANSACRegressor , Ridge\n",
    "from sklearn.tree import ExtraTreeRegressor, DecisionTreeRegressor\n",
    "from sklearn.svm import SVR\n",
    "from sklearn.neighbors import KNeighborsRegressor\n",
    "from sklearn.ensemble import RandomForestRegressor, AdaBoostRegressor, GradientBoostingRegressor, StackingRegressor"
   ]
  },
  {
   "cell_type": "code",
   "execution_count": 148,
   "id": "50824a5c",
   "metadata": {},
   "outputs": [],
   "source": [
    "pipe = Pipeline(steps=[\n",
    "    ('step1', trf1),\n",
    "    ('step2', trf2),\n",
    "    ('step3', PowerTransformer()),\n",
    "    ('step4', RandomForestRegressor())\n",
    "])"
   ]
  },
  {
   "cell_type": "code",
   "execution_count": 149,
   "id": "101c66fd",
   "metadata": {},
   "outputs": [
    {
     "data": {
      "text/html": [
       "<style>#sk-container-id-1 {color: black;}#sk-container-id-1 pre{padding: 0;}#sk-container-id-1 div.sk-toggleable {background-color: white;}#sk-container-id-1 label.sk-toggleable__label {cursor: pointer;display: block;width: 100%;margin-bottom: 0;padding: 0.3em;box-sizing: border-box;text-align: center;}#sk-container-id-1 label.sk-toggleable__label-arrow:before {content: \"▸\";float: left;margin-right: 0.25em;color: #696969;}#sk-container-id-1 label.sk-toggleable__label-arrow:hover:before {color: black;}#sk-container-id-1 div.sk-estimator:hover label.sk-toggleable__label-arrow:before {color: black;}#sk-container-id-1 div.sk-toggleable__content {max-height: 0;max-width: 0;overflow: hidden;text-align: left;background-color: #f0f8ff;}#sk-container-id-1 div.sk-toggleable__content pre {margin: 0.2em;color: black;border-radius: 0.25em;background-color: #f0f8ff;}#sk-container-id-1 input.sk-toggleable__control:checked~div.sk-toggleable__content {max-height: 200px;max-width: 100%;overflow: auto;}#sk-container-id-1 input.sk-toggleable__control:checked~label.sk-toggleable__label-arrow:before {content: \"▾\";}#sk-container-id-1 div.sk-estimator input.sk-toggleable__control:checked~label.sk-toggleable__label {background-color: #d4ebff;}#sk-container-id-1 div.sk-label input.sk-toggleable__control:checked~label.sk-toggleable__label {background-color: #d4ebff;}#sk-container-id-1 input.sk-hidden--visually {border: 0;clip: rect(1px 1px 1px 1px);clip: rect(1px, 1px, 1px, 1px);height: 1px;margin: -1px;overflow: hidden;padding: 0;position: absolute;width: 1px;}#sk-container-id-1 div.sk-estimator {font-family: monospace;background-color: #f0f8ff;border: 1px dotted black;border-radius: 0.25em;box-sizing: border-box;margin-bottom: 0.5em;}#sk-container-id-1 div.sk-estimator:hover {background-color: #d4ebff;}#sk-container-id-1 div.sk-parallel-item::after {content: \"\";width: 100%;border-bottom: 1px solid gray;flex-grow: 1;}#sk-container-id-1 div.sk-label:hover label.sk-toggleable__label {background-color: #d4ebff;}#sk-container-id-1 div.sk-serial::before {content: \"\";position: absolute;border-left: 1px solid gray;box-sizing: border-box;top: 0;bottom: 0;left: 50%;z-index: 0;}#sk-container-id-1 div.sk-serial {display: flex;flex-direction: column;align-items: center;background-color: white;padding-right: 0.2em;padding-left: 0.2em;position: relative;}#sk-container-id-1 div.sk-item {position: relative;z-index: 1;}#sk-container-id-1 div.sk-parallel {display: flex;align-items: stretch;justify-content: center;background-color: white;position: relative;}#sk-container-id-1 div.sk-item::before, #sk-container-id-1 div.sk-parallel-item::before {content: \"\";position: absolute;border-left: 1px solid gray;box-sizing: border-box;top: 0;bottom: 0;left: 50%;z-index: -1;}#sk-container-id-1 div.sk-parallel-item {display: flex;flex-direction: column;z-index: 1;position: relative;background-color: white;}#sk-container-id-1 div.sk-parallel-item:first-child::after {align-self: flex-end;width: 50%;}#sk-container-id-1 div.sk-parallel-item:last-child::after {align-self: flex-start;width: 50%;}#sk-container-id-1 div.sk-parallel-item:only-child::after {width: 0;}#sk-container-id-1 div.sk-dashed-wrapped {border: 1px dashed gray;margin: 0 0.4em 0.5em 0.4em;box-sizing: border-box;padding-bottom: 0.4em;background-color: white;}#sk-container-id-1 div.sk-label label {font-family: monospace;font-weight: bold;display: inline-block;line-height: 1.2em;}#sk-container-id-1 div.sk-label-container {text-align: center;}#sk-container-id-1 div.sk-container {/* jupyter's `normalize.less` sets `[hidden] { display: none; }` but bootstrap.min.css set `[hidden] { display: none !important; }` so we also need the `!important` here to be able to override the default hidden behavior on the sphinx rendered scikit-learn.org. See: https://github.com/scikit-learn/scikit-learn/issues/21755 */display: inline-block !important;position: relative;}#sk-container-id-1 div.sk-text-repr-fallback {display: none;}</style><div id=\"sk-container-id-1\" class=\"sk-top-container\"><div class=\"sk-text-repr-fallback\"><pre>Pipeline(steps=[(&#x27;step1&#x27;,\n",
       "                 ColumnTransformer(remainder=&#x27;passthrough&#x27;,\n",
       "                                   transformers=[(&#x27;trf1&#x27;, StandardScaler(),\n",
       "                                                  [2, 4, 6, 10])])),\n",
       "                (&#x27;step2&#x27;,\n",
       "                 ColumnTransformer(remainder=&#x27;passthrough&#x27;,\n",
       "                                   transformers=[(&#x27;trf1&#x27;,\n",
       "                                                  OneHotEncoder(drop=&#x27;first&#x27;,\n",
       "                                                                sparse=False),\n",
       "                                                  [4, 5, 6, 7, 8, 9, 10,\n",
       "                                                   11])])),\n",
       "                (&#x27;step3&#x27;, PowerTransformer()),\n",
       "                (&#x27;step4&#x27;, RandomForestRegressor())])</pre><b>In a Jupyter environment, please rerun this cell to show the HTML representation or trust the notebook. <br />On GitHub, the HTML representation is unable to render, please try loading this page with nbviewer.org.</b></div><div class=\"sk-container\" hidden><div class=\"sk-item sk-dashed-wrapped\"><div class=\"sk-label-container\"><div class=\"sk-label sk-toggleable\"><input class=\"sk-toggleable__control sk-hidden--visually\" id=\"sk-estimator-id-1\" type=\"checkbox\" ><label for=\"sk-estimator-id-1\" class=\"sk-toggleable__label sk-toggleable__label-arrow\">Pipeline</label><div class=\"sk-toggleable__content\"><pre>Pipeline(steps=[(&#x27;step1&#x27;,\n",
       "                 ColumnTransformer(remainder=&#x27;passthrough&#x27;,\n",
       "                                   transformers=[(&#x27;trf1&#x27;, StandardScaler(),\n",
       "                                                  [2, 4, 6, 10])])),\n",
       "                (&#x27;step2&#x27;,\n",
       "                 ColumnTransformer(remainder=&#x27;passthrough&#x27;,\n",
       "                                   transformers=[(&#x27;trf1&#x27;,\n",
       "                                                  OneHotEncoder(drop=&#x27;first&#x27;,\n",
       "                                                                sparse=False),\n",
       "                                                  [4, 5, 6, 7, 8, 9, 10,\n",
       "                                                   11])])),\n",
       "                (&#x27;step3&#x27;, PowerTransformer()),\n",
       "                (&#x27;step4&#x27;, RandomForestRegressor())])</pre></div></div></div><div class=\"sk-serial\"><div class=\"sk-item sk-dashed-wrapped\"><div class=\"sk-label-container\"><div class=\"sk-label sk-toggleable\"><input class=\"sk-toggleable__control sk-hidden--visually\" id=\"sk-estimator-id-2\" type=\"checkbox\" ><label for=\"sk-estimator-id-2\" class=\"sk-toggleable__label sk-toggleable__label-arrow\">step1: ColumnTransformer</label><div class=\"sk-toggleable__content\"><pre>ColumnTransformer(remainder=&#x27;passthrough&#x27;,\n",
       "                  transformers=[(&#x27;trf1&#x27;, StandardScaler(), [2, 4, 6, 10])])</pre></div></div></div><div class=\"sk-parallel\"><div class=\"sk-parallel-item\"><div class=\"sk-item\"><div class=\"sk-label-container\"><div class=\"sk-label sk-toggleable\"><input class=\"sk-toggleable__control sk-hidden--visually\" id=\"sk-estimator-id-3\" type=\"checkbox\" ><label for=\"sk-estimator-id-3\" class=\"sk-toggleable__label sk-toggleable__label-arrow\">trf1</label><div class=\"sk-toggleable__content\"><pre>[2, 4, 6, 10]</pre></div></div></div><div class=\"sk-serial\"><div class=\"sk-item\"><div class=\"sk-estimator sk-toggleable\"><input class=\"sk-toggleable__control sk-hidden--visually\" id=\"sk-estimator-id-4\" type=\"checkbox\" ><label for=\"sk-estimator-id-4\" class=\"sk-toggleable__label sk-toggleable__label-arrow\">StandardScaler</label><div class=\"sk-toggleable__content\"><pre>StandardScaler()</pre></div></div></div></div></div></div><div class=\"sk-parallel-item\"><div class=\"sk-item\"><div class=\"sk-label-container\"><div class=\"sk-label sk-toggleable\"><input class=\"sk-toggleable__control sk-hidden--visually\" id=\"sk-estimator-id-5\" type=\"checkbox\" ><label for=\"sk-estimator-id-5\" class=\"sk-toggleable__label sk-toggleable__label-arrow\">remainder</label><div class=\"sk-toggleable__content\"><pre>[&#x27;Company&#x27;, &#x27;TypeName&#x27;, &#x27;Cpu&#x27;, &#x27;Gpu&#x27;, &#x27;Touch_Screen&#x27;, &#x27;HD&#x27;, &#x27;Memory_Drive&#x27;, &#x27;OS&#x27;]</pre></div></div></div><div class=\"sk-serial\"><div class=\"sk-item\"><div class=\"sk-estimator sk-toggleable\"><input class=\"sk-toggleable__control sk-hidden--visually\" id=\"sk-estimator-id-6\" type=\"checkbox\" ><label for=\"sk-estimator-id-6\" class=\"sk-toggleable__label sk-toggleable__label-arrow\">passthrough</label><div class=\"sk-toggleable__content\"><pre>passthrough</pre></div></div></div></div></div></div></div></div><div class=\"sk-item sk-dashed-wrapped\"><div class=\"sk-label-container\"><div class=\"sk-label sk-toggleable\"><input class=\"sk-toggleable__control sk-hidden--visually\" id=\"sk-estimator-id-7\" type=\"checkbox\" ><label for=\"sk-estimator-id-7\" class=\"sk-toggleable__label sk-toggleable__label-arrow\">step2: ColumnTransformer</label><div class=\"sk-toggleable__content\"><pre>ColumnTransformer(remainder=&#x27;passthrough&#x27;,\n",
       "                  transformers=[(&#x27;trf1&#x27;,\n",
       "                                 OneHotEncoder(drop=&#x27;first&#x27;, sparse=False),\n",
       "                                 [4, 5, 6, 7, 8, 9, 10, 11])])</pre></div></div></div><div class=\"sk-parallel\"><div class=\"sk-parallel-item\"><div class=\"sk-item\"><div class=\"sk-label-container\"><div class=\"sk-label sk-toggleable\"><input class=\"sk-toggleable__control sk-hidden--visually\" id=\"sk-estimator-id-8\" type=\"checkbox\" ><label for=\"sk-estimator-id-8\" class=\"sk-toggleable__label sk-toggleable__label-arrow\">trf1</label><div class=\"sk-toggleable__content\"><pre>[4, 5, 6, 7, 8, 9, 10, 11]</pre></div></div></div><div class=\"sk-serial\"><div class=\"sk-item\"><div class=\"sk-estimator sk-toggleable\"><input class=\"sk-toggleable__control sk-hidden--visually\" id=\"sk-estimator-id-9\" type=\"checkbox\" ><label for=\"sk-estimator-id-9\" class=\"sk-toggleable__label sk-toggleable__label-arrow\">OneHotEncoder</label><div class=\"sk-toggleable__content\"><pre>OneHotEncoder(drop=&#x27;first&#x27;, sparse=False)</pre></div></div></div></div></div></div><div class=\"sk-parallel-item\"><div class=\"sk-item\"><div class=\"sk-label-container\"><div class=\"sk-label sk-toggleable\"><input class=\"sk-toggleable__control sk-hidden--visually\" id=\"sk-estimator-id-10\" type=\"checkbox\" ><label for=\"sk-estimator-id-10\" class=\"sk-toggleable__label sk-toggleable__label-arrow\">remainder</label><div class=\"sk-toggleable__content\"><pre>[0, 1, 2, 3]</pre></div></div></div><div class=\"sk-serial\"><div class=\"sk-item\"><div class=\"sk-estimator sk-toggleable\"><input class=\"sk-toggleable__control sk-hidden--visually\" id=\"sk-estimator-id-11\" type=\"checkbox\" ><label for=\"sk-estimator-id-11\" class=\"sk-toggleable__label sk-toggleable__label-arrow\">passthrough</label><div class=\"sk-toggleable__content\"><pre>passthrough</pre></div></div></div></div></div></div></div></div><div class=\"sk-item\"><div class=\"sk-estimator sk-toggleable\"><input class=\"sk-toggleable__control sk-hidden--visually\" id=\"sk-estimator-id-12\" type=\"checkbox\" ><label for=\"sk-estimator-id-12\" class=\"sk-toggleable__label sk-toggleable__label-arrow\">PowerTransformer</label><div class=\"sk-toggleable__content\"><pre>PowerTransformer()</pre></div></div></div><div class=\"sk-item\"><div class=\"sk-estimator sk-toggleable\"><input class=\"sk-toggleable__control sk-hidden--visually\" id=\"sk-estimator-id-13\" type=\"checkbox\" ><label for=\"sk-estimator-id-13\" class=\"sk-toggleable__label sk-toggleable__label-arrow\">RandomForestRegressor</label><div class=\"sk-toggleable__content\"><pre>RandomForestRegressor()</pre></div></div></div></div></div></div></div>"
      ],
      "text/plain": [
       "Pipeline(steps=[('step1',\n",
       "                 ColumnTransformer(remainder='passthrough',\n",
       "                                   transformers=[('trf1', StandardScaler(),\n",
       "                                                  [2, 4, 6, 10])])),\n",
       "                ('step2',\n",
       "                 ColumnTransformer(remainder='passthrough',\n",
       "                                   transformers=[('trf1',\n",
       "                                                  OneHotEncoder(drop='first',\n",
       "                                                                sparse=False),\n",
       "                                                  [4, 5, 6, 7, 8, 9, 10,\n",
       "                                                   11])])),\n",
       "                ('step3', PowerTransformer()),\n",
       "                ('step4', RandomForestRegressor())])"
      ]
     },
     "execution_count": 149,
     "metadata": {},
     "output_type": "execute_result"
    }
   ],
   "source": [
    "pipe.fit(X_train, y_train)"
   ]
  },
  {
   "cell_type": "code",
   "execution_count": 150,
   "id": "9cf9f54d",
   "metadata": {},
   "outputs": [],
   "source": [
    "y_pred = pipe.predict(X_test)"
   ]
  },
  {
   "cell_type": "code",
   "execution_count": 151,
   "id": "23c48f0c",
   "metadata": {},
   "outputs": [],
   "source": [
    "from sklearn.metrics import r2_score, mean_absolute_error, mean_squared_error"
   ]
  },
  {
   "cell_type": "code",
   "execution_count": 152,
   "id": "4e8ac870",
   "metadata": {},
   "outputs": [
    {
     "name": "stdout",
     "output_type": "stream",
     "text": [
      "R2 Score 84.33746417836316%\n",
      "MAE Score 97.20360576135486%\n"
     ]
    }
   ],
   "source": [
    "print(f'R2 Score {r2_score(y_test, y_pred)*100}%')\n",
    "print(f'MAE Score {np.sqrt(mean_absolute_error(y_test, y_pred))}%')"
   ]
  },
  {
   "cell_type": "code",
   "execution_count": 153,
   "id": "53886ab6",
   "metadata": {},
   "outputs": [],
   "source": [
    "import pickle"
   ]
  },
  {
   "cell_type": "code",
   "execution_count": 154,
   "id": "71ee5daf",
   "metadata": {},
   "outputs": [],
   "source": [
    "pickle.dump(pipe, open('model.pkl', 'wb'))"
   ]
  },
  {
   "cell_type": "code",
   "execution_count": 155,
   "id": "cdc47afe",
   "metadata": {},
   "outputs": [
    {
     "data": {
      "text/html": [
       "<div>\n",
       "<style scoped>\n",
       "    .dataframe tbody tr th:only-of-type {\n",
       "        vertical-align: middle;\n",
       "    }\n",
       "\n",
       "    .dataframe tbody tr th {\n",
       "        vertical-align: top;\n",
       "    }\n",
       "\n",
       "    .dataframe thead th {\n",
       "        text-align: right;\n",
       "    }\n",
       "</style>\n",
       "<table border=\"1\" class=\"dataframe\">\n",
       "  <thead>\n",
       "    <tr style=\"text-align: right;\">\n",
       "      <th></th>\n",
       "      <th>Company</th>\n",
       "      <th>TypeName</th>\n",
       "      <th>Inches</th>\n",
       "      <th>Cpu</th>\n",
       "      <th>Ram</th>\n",
       "      <th>Gpu</th>\n",
       "      <th>Weight</th>\n",
       "      <th>Touch_Screen</th>\n",
       "      <th>HD</th>\n",
       "      <th>Memory_Drive</th>\n",
       "      <th>Storage</th>\n",
       "      <th>OS</th>\n",
       "    </tr>\n",
       "  </thead>\n",
       "  <tbody>\n",
       "    <tr>\n",
       "      <th>1246</th>\n",
       "      <td>Dell</td>\n",
       "      <td>Notebook</td>\n",
       "      <td>14.0</td>\n",
       "      <td>Intel Core i5</td>\n",
       "      <td>4</td>\n",
       "      <td>Intel</td>\n",
       "      <td>1.6</td>\n",
       "      <td>no</td>\n",
       "      <td>no</td>\n",
       "      <td>HDD</td>\n",
       "      <td>500</td>\n",
       "      <td>Windows</td>\n",
       "    </tr>\n",
       "  </tbody>\n",
       "</table>\n",
       "</div>"
      ],
      "text/plain": [
       "     Company  TypeName  Inches            Cpu  Ram    Gpu  Weight  \\\n",
       "1246    Dell  Notebook    14.0  Intel Core i5    4  Intel     1.6   \n",
       "\n",
       "     Touch_Screen  HD Memory_Drive  Storage       OS  \n",
       "1246           no  no          HDD      500  Windows  "
      ]
     },
     "execution_count": 155,
     "metadata": {},
     "output_type": "execute_result"
    }
   ],
   "source": [
    "X_train.head(1)"
   ]
  },
  {
   "cell_type": "code",
   "execution_count": 156,
   "id": "d1274409",
   "metadata": {},
   "outputs": [
    {
     "data": {
      "text/plain": [
       "array(['Windows', 'No OS', 'Other', 'Mac OS'], dtype=object)"
      ]
     },
     "execution_count": 156,
     "metadata": {},
     "output_type": "execute_result"
    }
   ],
   "source": [
    "X_train['OS'].unique()"
   ]
  },
  {
   "cell_type": "code",
   "execution_count": 157,
   "id": "cc072b16",
   "metadata": {},
   "outputs": [
    {
     "data": {
      "text/html": [
       "<div>\n",
       "<style scoped>\n",
       "    .dataframe tbody tr th:only-of-type {\n",
       "        vertical-align: middle;\n",
       "    }\n",
       "\n",
       "    .dataframe tbody tr th {\n",
       "        vertical-align: top;\n",
       "    }\n",
       "\n",
       "    .dataframe thead th {\n",
       "        text-align: right;\n",
       "    }\n",
       "</style>\n",
       "<table border=\"1\" class=\"dataframe\">\n",
       "  <thead>\n",
       "    <tr style=\"text-align: right;\">\n",
       "      <th></th>\n",
       "      <th>Company</th>\n",
       "      <th>TypeName</th>\n",
       "      <th>Inches</th>\n",
       "      <th>Cpu</th>\n",
       "      <th>Ram</th>\n",
       "      <th>Gpu</th>\n",
       "      <th>Weight</th>\n",
       "      <th>Touch_Screen</th>\n",
       "      <th>HD</th>\n",
       "      <th>Memory_Drive</th>\n",
       "      <th>Storage</th>\n",
       "      <th>OS</th>\n",
       "    </tr>\n",
       "  </thead>\n",
       "  <tbody>\n",
       "    <tr>\n",
       "      <th>15</th>\n",
       "      <td>Apple</td>\n",
       "      <td>Ultrabook</td>\n",
       "      <td>13.3</td>\n",
       "      <td>Intel Core i5</td>\n",
       "      <td>8</td>\n",
       "      <td>Intel</td>\n",
       "      <td>1.37</td>\n",
       "      <td>no</td>\n",
       "      <td>no</td>\n",
       "      <td>SSD</td>\n",
       "      <td>256</td>\n",
       "      <td>Mac OS</td>\n",
       "    </tr>\n",
       "    <tr>\n",
       "      <th>1167</th>\n",
       "      <td>Lenovo</td>\n",
       "      <td>Notebook</td>\n",
       "      <td>15.6</td>\n",
       "      <td>Other</td>\n",
       "      <td>4</td>\n",
       "      <td>Nvidia</td>\n",
       "      <td>2.20</td>\n",
       "      <td>no</td>\n",
       "      <td>yes</td>\n",
       "      <td>HDD</td>\n",
       "      <td>1000</td>\n",
       "      <td>Windows</td>\n",
       "    </tr>\n",
       "    <tr>\n",
       "      <th>1196</th>\n",
       "      <td>Lenovo</td>\n",
       "      <td>Notebook</td>\n",
       "      <td>15.6</td>\n",
       "      <td>Other</td>\n",
       "      <td>4</td>\n",
       "      <td>AMD</td>\n",
       "      <td>1.90</td>\n",
       "      <td>no</td>\n",
       "      <td>no</td>\n",
       "      <td>HDD</td>\n",
       "      <td>1000</td>\n",
       "      <td>No OS</td>\n",
       "    </tr>\n",
       "    <tr>\n",
       "      <th>1149</th>\n",
       "      <td>Lenovo</td>\n",
       "      <td>2 in 1 Convertible</td>\n",
       "      <td>14.0</td>\n",
       "      <td>Intel Core i7</td>\n",
       "      <td>8</td>\n",
       "      <td>Intel</td>\n",
       "      <td>1.27</td>\n",
       "      <td>yes</td>\n",
       "      <td>no</td>\n",
       "      <td>SSD</td>\n",
       "      <td>256</td>\n",
       "      <td>Windows</td>\n",
       "    </tr>\n",
       "    <tr>\n",
       "      <th>45</th>\n",
       "      <td>Apple</td>\n",
       "      <td>Ultrabook</td>\n",
       "      <td>13.3</td>\n",
       "      <td>Intel Core i5</td>\n",
       "      <td>8</td>\n",
       "      <td>Intel</td>\n",
       "      <td>1.37</td>\n",
       "      <td>no</td>\n",
       "      <td>no</td>\n",
       "      <td>SSD</td>\n",
       "      <td>256</td>\n",
       "      <td>Mac OS</td>\n",
       "    </tr>\n",
       "  </tbody>\n",
       "</table>\n",
       "</div>"
      ],
      "text/plain": [
       "     Company            TypeName  Inches            Cpu  Ram     Gpu  Weight  \\\n",
       "15     Apple           Ultrabook    13.3  Intel Core i5    8   Intel    1.37   \n",
       "1167  Lenovo            Notebook    15.6          Other    4  Nvidia    2.20   \n",
       "1196  Lenovo            Notebook    15.6          Other    4     AMD    1.90   \n",
       "1149  Lenovo  2 in 1 Convertible    14.0  Intel Core i7    8   Intel    1.27   \n",
       "45     Apple           Ultrabook    13.3  Intel Core i5    8   Intel    1.37   \n",
       "\n",
       "     Touch_Screen   HD Memory_Drive  Storage       OS  \n",
       "15             no   no          SSD      256   Mac OS  \n",
       "1167           no  yes          HDD     1000  Windows  \n",
       "1196           no   no          HDD     1000    No OS  \n",
       "1149          yes   no          SSD      256  Windows  \n",
       "45             no   no          SSD      256   Mac OS  "
      ]
     },
     "execution_count": 157,
     "metadata": {},
     "output_type": "execute_result"
    }
   ],
   "source": [
    "X_test.head()"
   ]
  },
  {
   "cell_type": "code",
   "execution_count": 165,
   "id": "ecd919f7",
   "metadata": {},
   "outputs": [],
   "source": [
    "a = trf1.fit_transform(X_test)"
   ]
  },
  {
   "cell_type": "code",
   "execution_count": 169,
   "id": "e392381c",
   "metadata": {},
   "outputs": [
    {
     "data": {
      "text/plain": [
       "array([1.0, 0.0, 0.0, 0.0, 0.0, 0.0, 0.0, 0.0, 0.0, 0.0, 0.0, 1.0, 0.0,\n",
       "       1.0, 0.0, 0.0, 1.0, 0.0, 0.0, 0.0, 0.0, 1.0, 0.0, 0.0, 0.0,\n",
       "       -1.1678546886095786, -0.07448438049254204, -0.928079515488245,\n",
       "       -0.555117829475776], dtype=object)"
      ]
     },
     "execution_count": 169,
     "metadata": {},
     "output_type": "execute_result"
    }
   ],
   "source": [
    "trf2.fit_transform(a)[0]"
   ]
  },
  {
   "cell_type": "code",
   "execution_count": 171,
   "id": "ea3a9cd5",
   "metadata": {},
   "outputs": [
    {
     "data": {
      "text/plain": [
       "sklearn.pipeline.Pipeline"
      ]
     },
     "execution_count": 171,
     "metadata": {},
     "output_type": "execute_result"
    }
   ],
   "source": [
    "type(pipe)"
   ]
  },
  {
   "cell_type": "code",
   "execution_count": null,
   "id": "542e06fd",
   "metadata": {},
   "outputs": [],
   "source": []
  }
 ],
 "metadata": {
  "kernelspec": {
   "display_name": "Python 3 (ipykernel)",
   "language": "python",
   "name": "python3"
  },
  "language_info": {
   "codemirror_mode": {
    "name": "ipython",
    "version": 3
   },
   "file_extension": ".py",
   "mimetype": "text/x-python",
   "name": "python",
   "nbconvert_exporter": "python",
   "pygments_lexer": "ipython3",
   "version": "3.11.3"
  }
 },
 "nbformat": 4,
 "nbformat_minor": 5
}
